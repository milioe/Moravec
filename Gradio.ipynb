{
  "nbformat": 4,
  "nbformat_minor": 0,
  "metadata": {
    "colab": {
      "name": "Gradio.ipynb",
      "provenance": [],
      "collapsed_sections": [],
      "authorship_tag": "ABX9TyPHYwjx8rhdWlPLXukTAcM3",
      "include_colab_link": true
    },
    "kernelspec": {
      "name": "python3",
      "display_name": "Python 3"
    },
    "language_info": {
      "name": "python"
    }
  },
  "cells": [
    {
      "cell_type": "markdown",
      "metadata": {
        "id": "view-in-github",
        "colab_type": "text"
      },
      "source": [
        "<a href=\"https://colab.research.google.com/github/milioe/Moravec/blob/main/Gradio.ipynb\" target=\"_parent\"><img src=\"https://colab.research.google.com/assets/colab-badge.svg\" alt=\"Open In Colab\"/></a>"
      ]
    },
    {
      "cell_type": "code",
      "execution_count": 2,
      "metadata": {
        "colab": {
          "base_uri": "https://localhost:8080/"
        },
        "id": "P4NivLTizO17",
        "outputId": "c7ccdb71-0869-4c6a-b550-8d07c199bb54"
      },
      "outputs": [
        {
          "output_type": "stream",
          "name": "stdout",
          "text": [
            "\u001b[K     |████████████████████████████████| 5.6 MB 5.9 MB/s \n",
            "\u001b[K     |████████████████████████████████| 84 kB 2.9 MB/s \n",
            "\u001b[K     |████████████████████████████████| 212 kB 49.6 MB/s \n",
            "\u001b[K     |████████████████████████████████| 54 kB 3.0 MB/s \n",
            "\u001b[K     |████████████████████████████████| 1.1 MB 54.6 MB/s \n",
            "\u001b[K     |████████████████████████████████| 57 kB 4.8 MB/s \n",
            "\u001b[K     |████████████████████████████████| 84 kB 3.6 MB/s \n",
            "\u001b[K     |████████████████████████████████| 140 kB 55.0 MB/s \n",
            "\u001b[K     |████████████████████████████████| 272 kB 49.5 MB/s \n",
            "\u001b[K     |████████████████████████████████| 54 kB 3.2 MB/s \n",
            "\u001b[K     |████████████████████████████████| 2.3 MB 36.0 MB/s \n",
            "\u001b[K     |████████████████████████████████| 94 kB 3.1 MB/s \n",
            "\u001b[K     |████████████████████████████████| 271 kB 49.9 MB/s \n",
            "\u001b[K     |████████████████████████████████| 144 kB 8.0 MB/s \n",
            "\u001b[K     |████████████████████████████████| 63 kB 1.9 MB/s \n",
            "\u001b[K     |████████████████████████████████| 80 kB 9.3 MB/s \n",
            "\u001b[K     |████████████████████████████████| 68 kB 6.6 MB/s \n",
            "\u001b[K     |████████████████████████████████| 43 kB 1.9 MB/s \n",
            "\u001b[K     |████████████████████████████████| 62 kB 961 kB/s \n",
            "\u001b[K     |████████████████████████████████| 4.1 MB 41.8 MB/s \n",
            "\u001b[K     |████████████████████████████████| 856 kB 63.3 MB/s \n",
            "\u001b[?25h  Building wheel for ffmpy (setup.py) ... \u001b[?25l\u001b[?25hdone\n",
            "  Building wheel for python-multipart (setup.py) ... \u001b[?25l\u001b[?25hdone\n"
          ]
        }
      ],
      "source": [
        "!pip install gradio -q\n",
        "\n",
        "import gradio as gr"
      ]
    },
    {
      "cell_type": "markdown",
      "source": [
        "Steps to use gradio\n",
        "\n",
        "1. Pip install gradio\n",
        "2. Import pickles from local computer\n",
        "3. Load those pickles\n",
        "4. Use "
      ],
      "metadata": {
        "id": "wQJyhRUI9GOE"
      }
    },
    {
      "cell_type": "code",
      "source": [
        "import tensorflow as tf\n",
        "import joblib "
      ],
      "metadata": {
        "id": "_sdJcq-R8aUX"
      },
      "execution_count": 4,
      "outputs": []
    },
    {
      "cell_type": "code",
      "source": [
        "\n",
        "resnet = joblib.load(\"resnet.pkl\")\n",
        "efficient = joblib.load(\"efficient.pkl\")"
      ],
      "metadata": {
        "id": "7K0xVs8f8aXL"
      },
      "execution_count": 5,
      "outputs": []
    },
    {
      "cell_type": "code",
      "source": [
        "def load_and_prepare_img(filename, img_shape=224):\n",
        "  # read in target file\n",
        "  img = tf.io.read_file(filename)\n",
        "\n",
        "  # Decode the read image into a tensor and ensure it has 3 colour channels\n",
        "  img = tf.image.decode_image(img, channels=3)\n",
        "\n",
        "  # Resize image to the same size we've trained our model \n",
        "  img = tf.image.resize(img, size=[img_shape, img_shape])\n",
        "\n",
        "  # Rescale the image \n",
        "  img = img/255\n",
        "\n",
        "  return img"
      ],
      "metadata": {
        "id": "mZ3BoSA18aZ1"
      },
      "execution_count": 45,
      "outputs": []
    },
    {
      "cell_type": "code",
      "source": [
        "def classify(img):\n",
        "  class_names = ['chicken_curry','chicken_wings','fried_rice','grilled_salmon','hamburger','ice_cream','pizza','ramen','steak','sushi']\n",
        "  img = load_and_prepare_img(img)\n",
        "  \n",
        "  model = resnet\n",
        "  pred = model.predict(tf.expand_dims(img, axis=0))\n",
        "  pred_class = class_names[tf.argmax(tf.squeeze(pred))]\n",
        "  conf = {class_names[i]: float(tf.squeeze(pred)[i]) for i in range(10)}  \n",
        "  return conf\n",
        "\n",
        "\n"
      ],
      "metadata": {
        "id": "QggANKmd8ac1"
      },
      "execution_count": 46,
      "outputs": []
    },
    {
      "cell_type": "code",
      "source": [
        "classify(\"chicken4.jpeg\")"
      ],
      "metadata": {
        "colab": {
          "base_uri": "https://localhost:8080/"
        },
        "id": "r8gwdf_LB-oK",
        "outputId": "4c647685-df37-48af-ed1f-1a118ae2d450"
      },
      "execution_count": 47,
      "outputs": [
        {
          "output_type": "execute_result",
          "data": {
            "text/plain": [
              "{'chicken_curry': 0.028368989005684853,\n",
              " 'chicken_wings': 0.05629316344857216,\n",
              " 'fried_rice': 0.20357385277748108,\n",
              " 'grilled_salmon': 0.1432567834854126,\n",
              " 'hamburger': 0.02022935263812542,\n",
              " 'ice_cream': 0.0015001470455899835,\n",
              " 'pizza': 0.46360552310943604,\n",
              " 'ramen': 0.0004759082803502679,\n",
              " 'steak': 0.01760471798479557,\n",
              " 'sushi': 0.0650915876030922}"
            ]
          },
          "metadata": {},
          "execution_count": 47
        }
      ]
    },
    {
      "cell_type": "code",
      "source": [
        "demo = gr.Interface(fn=classify, \n",
        "                    inputs=gr.Image(shape=(224, 224)),\n",
        "                    outputs=gr.Label(num_top_classes=3),\n",
        "                    examples=[\"chicken4.jpeg\", \"hamburguer.jpeg\"])\n",
        "\n",
        "\n",
        "demo.launch(share=True) # link 72 hrs"
      ],
      "metadata": {
        "colab": {
          "base_uri": "https://localhost:8080/",
          "height": 646
        },
        "id": "j-FaAx1L8afR",
        "outputId": "6d53b961-2987-4e95-c026-9cc65999b380"
      },
      "execution_count": 48,
      "outputs": [
        {
          "output_type": "stream",
          "name": "stdout",
          "text": [
            "Colab notebook detected. To show errors in colab notebook, set `debug=True` in `launch()`\n",
            "Running on public URL: https://18219.gradio.app\n",
            "\n",
            "This share link expires in 72 hours. For free permanent hosting, check out Spaces (https://huggingface.co/spaces)\n"
          ]
        },
        {
          "output_type": "display_data",
          "data": {
            "text/plain": [
              "<IPython.core.display.HTML object>"
            ],
            "text/html": [
              "<div><iframe src=\"https://18219.gradio.app\" width=\"900\" height=\"500\" allow=\"autoplay; camera; microphone;\" frameborder=\"0\" allowfullscreen></iframe></div>"
            ]
          },
          "metadata": {}
        },
        {
          "output_type": "execute_result",
          "data": {
            "text/plain": [
              "(<gradio.routes.App at 0x7fde7415bc50>,\n",
              " 'http://127.0.0.1:7870/',\n",
              " 'https://18219.gradio.app')"
            ]
          },
          "metadata": {},
          "execution_count": 48
        }
      ]
    },
    {
      "cell_type": "code",
      "source": [
        ""
      ],
      "metadata": {
        "id": "_4awH_eOA61Z"
      },
      "execution_count": null,
      "outputs": []
    }
  ]
}