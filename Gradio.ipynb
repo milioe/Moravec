{
  "nbformat": 4,
  "nbformat_minor": 0,
  "metadata": {
    "colab": {
      "name": "Gradio.ipynb",
      "provenance": [],
      "collapsed_sections": [],
      "authorship_tag": "ABX9TyNDbBu0lEYMs/x33B/FwLP/",
      "include_colab_link": true
    },
    "kernelspec": {
      "name": "python3",
      "display_name": "Python 3"
    },
    "language_info": {
      "name": "python"
    }
  },
  "cells": [
    {
      "cell_type": "markdown",
      "metadata": {
        "id": "view-in-github",
        "colab_type": "text"
      },
      "source": [
        "<a href=\"https://colab.research.google.com/github/milioe/Moravec/blob/main/Gradio.ipynb\" target=\"_parent\"><img src=\"https://colab.research.google.com/assets/colab-badge.svg\" alt=\"Open In Colab\"/></a>"
      ]
    },
    {
      "cell_type": "code",
      "execution_count": 2,
      "metadata": {
        "colab": {
          "base_uri": "https://localhost:8080/"
        },
        "id": "P4NivLTizO17",
        "outputId": "c7ccdb71-0869-4c6a-b550-8d07c199bb54"
      },
      "outputs": [
        {
          "output_type": "stream",
          "name": "stdout",
          "text": [
            "\u001b[K     |████████████████████████████████| 5.6 MB 5.9 MB/s \n",
            "\u001b[K     |████████████████████████████████| 84 kB 2.9 MB/s \n",
            "\u001b[K     |████████████████████████████████| 212 kB 49.6 MB/s \n",
            "\u001b[K     |████████████████████████████████| 54 kB 3.0 MB/s \n",
            "\u001b[K     |████████████████████████████████| 1.1 MB 54.6 MB/s \n",
            "\u001b[K     |████████████████████████████████| 57 kB 4.8 MB/s \n",
            "\u001b[K     |████████████████████████████████| 84 kB 3.6 MB/s \n",
            "\u001b[K     |████████████████████████████████| 140 kB 55.0 MB/s \n",
            "\u001b[K     |████████████████████████████████| 272 kB 49.5 MB/s \n",
            "\u001b[K     |████████████████████████████████| 54 kB 3.2 MB/s \n",
            "\u001b[K     |████████████████████████████████| 2.3 MB 36.0 MB/s \n",
            "\u001b[K     |████████████████████████████████| 94 kB 3.1 MB/s \n",
            "\u001b[K     |████████████████████████████████| 271 kB 49.9 MB/s \n",
            "\u001b[K     |████████████████████████████████| 144 kB 8.0 MB/s \n",
            "\u001b[K     |████████████████████████████████| 63 kB 1.9 MB/s \n",
            "\u001b[K     |████████████████████████████████| 80 kB 9.3 MB/s \n",
            "\u001b[K     |████████████████████████████████| 68 kB 6.6 MB/s \n",
            "\u001b[K     |████████████████████████████████| 43 kB 1.9 MB/s \n",
            "\u001b[K     |████████████████████████████████| 62 kB 961 kB/s \n",
            "\u001b[K     |████████████████████████████████| 4.1 MB 41.8 MB/s \n",
            "\u001b[K     |████████████████████████████████| 856 kB 63.3 MB/s \n",
            "\u001b[?25h  Building wheel for ffmpy (setup.py) ... \u001b[?25l\u001b[?25hdone\n",
            "  Building wheel for python-multipart (setup.py) ... \u001b[?25l\u001b[?25hdone\n"
          ]
        }
      ],
      "source": [
        "!pip install gradio -q\n",
        "\n",
        "import gradio as gr"
      ]
    },
    {
      "cell_type": "markdown",
      "source": [
        "Steps to use gradio\n",
        "\n",
        "1. Pip install gradio\n",
        "2. Import pickles from local computer\n",
        "3. Load those pickles\n",
        "4. Use "
      ],
      "metadata": {
        "id": "wQJyhRUI9GOE"
      }
    },
    {
      "cell_type": "code",
      "source": [
        "import tensorflow as tf\n",
        "import joblib "
      ],
      "metadata": {
        "id": "_sdJcq-R8aUX"
      },
      "execution_count": 4,
      "outputs": []
    },
    {
      "cell_type": "code",
      "source": [
        "resnet = joblib.load(\"resnet.pkl\")\n",
        "efficient = joblib.load(\"efficient.pkl\")"
      ],
      "metadata": {
        "id": "7K0xVs8f8aXL"
      },
      "execution_count": null,
      "outputs": []
    },
    {
      "cell_type": "code",
      "source": [
        "def load_and_prepare_img(filename, img_shape=224):\n",
        "  # read in target file\n",
        "  img = tf.io.read_file(filename)\n",
        "\n",
        "  # Decode the read image into a tensor and ensure it has 3 colour channels\n",
        "  img = tf.image.decode_image(img, channels=3)\n",
        "\n",
        "  # Resize image to the same size we've trained our model \n",
        "  img = tf.image.resize(img, size=[img_shape, img_shape])\n",
        "\n",
        "  # Rescale the image \n",
        "  img = img/255\n",
        "\n",
        "  return img"
      ],
      "metadata": {
        "id": "mZ3BoSA18aZ1"
      },
      "execution_count": null,
      "outputs": []
    },
    {
      "cell_type": "code",
      "source": [
        "def classify(img):\n",
        "  class_names = ['chicken_curry' 'chicken_wings' 'fried_rice' 'grilled_salmon' 'hamburger''ice_cream' 'pizza' 'ramen' 'steak' 'sushi']\n",
        "  load_and_prepare_img(img)\n",
        "  \n",
        "  model = resnet\n",
        "\n",
        "  model.predict(tf.expand_dims(img, axis=0))\n",
        "\n",
        "\n",
        "  pred_class = class_names[tf.argmax(tf.squeeze(model.predict(tf.expand_dims(load_and_prepare_img(\"icecream.jpeg\"), axis=0))))]\n",
        "\n",
        "  return f\"{class_names[pred_class]}\"\n",
        "\n"
      ],
      "metadata": {
        "id": "QggANKmd8ac1"
      },
      "execution_count": null,
      "outputs": []
    },
    {
      "cell_type": "code",
      "source": [
        "demo = gr.Interface(fn=classify, \n",
        "                    inputs=gr.Image(shape=(224, 224)),\n",
        "                    outputs=\"text\",\n",
        "                    examples=[\"chicken4.jpeg\", \"hamburguer.jpeg\"])\n",
        "\n",
        "\n",
        "demo.launch(share=True)"
      ],
      "metadata": {
        "id": "j-FaAx1L8afR"
      },
      "execution_count": null,
      "outputs": []
    }
  ]
}