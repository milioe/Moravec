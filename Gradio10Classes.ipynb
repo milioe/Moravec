{
  "nbformat": 4,
  "nbformat_minor": 0,
  "metadata": {
    "colab": {
      "name": "Gradio10Classes.ipynb",
      "provenance": [],
      "collapsed_sections": [],
      "authorship_tag": "ABX9TyNWZFOjeaTdn0PFCRZuPjv+",
      "include_colab_link": true
    },
    "kernelspec": {
      "name": "python3",
      "display_name": "Python 3"
    },
    "language_info": {
      "name": "python"
    }
  },
  "cells": [
    {
      "cell_type": "markdown",
      "metadata": {
        "id": "view-in-github",
        "colab_type": "text"
      },
      "source": [
        "<a href=\"https://colab.research.google.com/github/milioe/Moravec/blob/main/Gradio10Classes.ipynb\" target=\"_parent\"><img src=\"https://colab.research.google.com/assets/colab-badge.svg\" alt=\"Open In Colab\"/></a>"
      ]
    },
    {
      "cell_type": "code",
      "execution_count": 1,
      "metadata": {
        "id": "P4NivLTizO17"
      },
      "outputs": [],
      "source": [
        "!pip install gradio -q\n",
        "\n",
        "import gradio as gr"
      ]
    },
    {
      "cell_type": "markdown",
      "source": [
        "Steps to use gradio\n",
        "\n",
        "1. Pip install gradio\n",
        "2. Import pickles from local computer\n",
        "3. Load those pickles\n",
        "4. Use "
      ],
      "metadata": {
        "id": "wQJyhRUI9GOE"
      }
    },
    {
      "cell_type": "code",
      "source": [
        "import tensorflow as tf\n",
        "import joblib \n",
        "import numpy as np"
      ],
      "metadata": {
        "id": "_sdJcq-R8aUX"
      },
      "execution_count": 2,
      "outputs": []
    },
    {
      "cell_type": "code",
      "source": [
        "# Import pickles\n",
        "resnet = joblib.load(\"resnet.pkl\")\n",
        "efficient = joblib.load(\"efficient.pkl\")"
      ],
      "metadata": {
        "id": "7K0xVs8f8aXL"
      },
      "execution_count": 3,
      "outputs": []
    },
    {
      "cell_type": "code",
      "source": [
        "def classify(img):\n",
        "  class_names = ['chicken_curry','chicken_wings','fried_rice','grilled_salmon','hamburger','ice_cream','pizza','ramen','steak','sushi']\n",
        "  \n",
        "  img = img.reshape((-1, 224, 224, 3))\n",
        "  \n",
        "  model = resnet\n",
        "\n",
        "  pred = model.predict(img)\n",
        "  #print(tf.expand_dims(img, axis=0).shape)\n",
        "  #pred_class = class_names[tf.argmax(tf.squeeze(pred))]\n",
        "  #print(pred_class)\n",
        "  conf = {class_names[i]: float(tf.squeeze(pred)[i]) for i in range(10)}\n",
        "  #print(conf)  \n",
        "  return conf"
      ],
      "metadata": {
        "id": "NjoOw_HX3NBN"
      },
      "execution_count": 31,
      "outputs": []
    },
    {
      "cell_type": "code",
      "source": [
        "#classify(\"chicken4.jpeg\")"
      ],
      "metadata": {
        "id": "r8gwdf_LB-oK"
      },
      "execution_count": 32,
      "outputs": []
    },
    {
      "cell_type": "code",
      "source": [
        "demo = gr.Interface(fn=classify, \n",
        "                    inputs=gr.Image(shape=(224, 224)),\n",
        "                    outputs=gr.Label(num_top_classes=5),\n",
        "                    examples=[\"chicken4.jpeg\", \"hamburguer.jpeg\"])\n",
        "\n",
        "demo.launch(debug=True)\n",
        "#demo.launch(share=True) # link 72 hrs"
      ],
      "metadata": {
        "colab": {
          "base_uri": "https://localhost:8080/",
          "height": 791
        },
        "id": "j-FaAx1L8afR",
        "outputId": "21de231b-ab07-44b2-c056-8639b37cd54c"
      },
      "execution_count": 33,
      "outputs": [
        {
          "output_type": "stream",
          "name": "stdout",
          "text": [
            "Colab notebook detected. This cell will run indefinitely so that you can see errors and logs. To turn off, set debug=False in launch().\n",
            "Running on public URL: https://32600.gradio.app\n",
            "\n",
            "This share link expires in 72 hours. For free permanent hosting, check out Spaces: https://huggingface.co/spaces\n"
          ]
        },
        {
          "output_type": "display_data",
          "data": {
            "text/plain": [
              "<IPython.core.display.HTML object>"
            ],
            "text/html": [
              "<div><iframe src=\"https://32600.gradio.app\" width=\"900\" height=\"500\" allow=\"autoplay; camera; microphone;\" frameborder=\"0\" allowfullscreen></iframe></div>"
            ]
          },
          "metadata": {}
        },
        {
          "output_type": "stream",
          "name": "stdout",
          "text": [
            "(1, 1, 224, 224, 3)\n",
            "ice_cream\n",
            "{'chicken_curry': 0.0, 'chicken_wings': 1.9037113135143683e-16, 'fried_rice': 0.0, 'grilled_salmon': 0.0, 'hamburger': 0.0, 'ice_cream': 0.9999994039535522, 'pizza': 0.0, 'ramen': 0.0, 'steak': 0.0, 'sushi': 5.981692652312631e-07}\n",
            "(1, 1, 224, 224, 3)\n",
            "chicken_wings\n",
            "{'chicken_curry': 0.0, 'chicken_wings': 1.0, 'fried_rice': 0.0, 'grilled_salmon': 0.0, 'hamburger': 0.0, 'ice_cream': 2.380580615240085e-29, 'pizza': 0.0, 'ramen': 0.0, 'steak': 0.0, 'sushi': 0.0}\n",
            "Keyboard interruption in main thread... closing server.\n"
          ]
        },
        {
          "output_type": "execute_result",
          "data": {
            "text/plain": [
              "(<gradio.routes.App at 0x7f627ab5c110>,\n",
              " 'http://127.0.0.1:7860/',\n",
              " 'https://32600.gradio.app')"
            ]
          },
          "metadata": {},
          "execution_count": 33
        }
      ]
    },
    {
      "cell_type": "code",
      "source": [
        ""
      ],
      "metadata": {
        "id": "_4awH_eOA61Z"
      },
      "execution_count": null,
      "outputs": []
    }
  ]
}