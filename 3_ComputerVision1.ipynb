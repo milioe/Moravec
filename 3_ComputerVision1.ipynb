{
  "nbformat": 4,
  "nbformat_minor": 0,
  "metadata": {
    "colab": {
      "name": "3_ComputerVision1.ipynb",
      "provenance": [],
      "collapsed_sections": [],
      "authorship_tag": "ABX9TyMUAzFdbF3cqzZ4zvE9Fp6l",
      "include_colab_link": true
    },
    "kernelspec": {
      "name": "python3",
      "display_name": "Python 3"
    },
    "language_info": {
      "name": "python"
    },
    "accelerator": "GPU",
    "gpuClass": "standard"
  },
  "cells": [
    {
      "cell_type": "markdown",
      "metadata": {
        "id": "view-in-github",
        "colab_type": "text"
      },
      "source": [
        "<a href=\"https://colab.research.google.com/github/milioe/Moravec/blob/main/3_ComputerVision1.ipynb\" target=\"_parent\"><img src=\"https://colab.research.google.com/assets/colab-badge.svg\" alt=\"Open In Colab\"/></a>"
      ]
    },
    {
      "cell_type": "markdown",
      "source": [
        "# Convolutional Neural Networks and Computer Vision with TF"
      ],
      "metadata": {
        "id": "87Em_OHSFEoS"
      }
    },
    {
      "cell_type": "markdown",
      "source": [
        "* [`Pizza link`](https://storage.googleapis.com/ztm_tf_course/food_vision/pizza_steak.zip)\n",
        "\n",
        "* [`10 food all classes`](10_food_classes_all_data)"
      ],
      "metadata": {
        "id": "IjRMgQVpG3kY"
      }
    },
    {
      "cell_type": "markdown",
      "source": [
        "What we are going to cover:\n",
        "* Getting a dataset\n",
        "* Architecture of Convolutional Neural Network\n",
        "* Quick end-to-end example\n",
        "* Steps in modelling for binary image classification\n",
        "  * Preparing data\n",
        "  * Creating CNN Architecture\n",
        "  * Fitting a model\n",
        "  * Evaluating a model\n",
        "  * Improving a model\n",
        "  * Making a prediction\n",
        "* Steps in modelling for multi-class image classification\n"
      ],
      "metadata": {
        "id": "KSG9csqDG3yv"
      }
    },
    {
      "cell_type": "markdown",
      "source": [
        "# Getting data"
      ],
      "metadata": {
        "id": "vM2RrX2zHib4"
      }
    },
    {
      "cell_type": "markdown",
      "source": [
        "We take a preprocessed dataset taken from [`Food 101 image dataset`](https://data.vision.ee.ethz.ch/cvl/datasets_extra/food-101/)"
      ],
      "metadata": {
        "id": "SOx0Lq2NG32q"
      }
    },
    {
      "cell_type": "code",
      "source": [
        "import zipfile"
      ],
      "metadata": {
        "id": "0hV9UFa_G36j"
      },
      "execution_count": 49,
      "outputs": []
    },
    {
      "cell_type": "code",
      "source": [
        "!wget https://storage.googleapis.com/ztm_tf_course/food_vision/pizza_steak.zip"
      ],
      "metadata": {
        "colab": {
          "base_uri": "https://localhost:8080/"
        },
        "id": "eexVodbiG3-b",
        "outputId": "952a0d16-8ddb-4e1b-a6d8-392cb6c089c7"
      },
      "execution_count": 50,
      "outputs": [
        {
          "output_type": "stream",
          "name": "stdout",
          "text": [
            "--2022-07-02 18:40:46--  https://storage.googleapis.com/ztm_tf_course/food_vision/pizza_steak.zip\n",
            "Resolving storage.googleapis.com (storage.googleapis.com)... 142.250.136.128, 142.250.148.128, 209.85.200.128, ...\n",
            "Connecting to storage.googleapis.com (storage.googleapis.com)|142.250.136.128|:443... connected.\n",
            "HTTP request sent, awaiting response... 200 OK\n",
            "Length: 109540975 (104M) [application/zip]\n",
            "Saving to: ‘pizza_steak.zip.2’\n",
            "\n",
            "pizza_steak.zip.2   100%[===================>] 104.47M  86.9MB/s    in 1.2s    \n",
            "\n",
            "2022-07-02 18:40:47 (86.9 MB/s) - ‘pizza_steak.zip.2’ saved [109540975/109540975]\n",
            "\n"
          ]
        }
      ]
    },
    {
      "cell_type": "code",
      "source": [
        "zip_ref = zipfile.ZipFile(\"pizza_steak.zip\", \"r\")\n",
        "zip_ref.extractall()\n",
        "zip_ref.close()"
      ],
      "metadata": {
        "id": "x7l16oZKG4A6"
      },
      "execution_count": 51,
      "outputs": []
    },
    {
      "cell_type": "code",
      "source": [
        "!ls "
      ],
      "metadata": {
        "colab": {
          "base_uri": "https://localhost:8080/"
        },
        "id": "BvwJf_whQFAO",
        "outputId": "dc13d395-bf4b-4fb6-b0a9-742649ffe4c8"
      },
      "execution_count": 52,
      "outputs": [
        {
          "output_type": "stream",
          "name": "stdout",
          "text": [
            "pizza_steak  pizza_steak.zip  pizza_steak.zip.1  pizza_steak.zip.2  sample_data\n"
          ]
        }
      ]
    },
    {
      "cell_type": "code",
      "source": [
        "!ls pizza_steak/"
      ],
      "metadata": {
        "colab": {
          "base_uri": "https://localhost:8080/"
        },
        "id": "X-L6BxpgQFEc",
        "outputId": "47fbc7e7-3a11-4d48-d9ae-190a04fb36a9"
      },
      "execution_count": 53,
      "outputs": [
        {
          "output_type": "stream",
          "name": "stdout",
          "text": [
            "test  train\n"
          ]
        }
      ]
    },
    {
      "cell_type": "code",
      "source": [
        "!ls pizza_steak/test/steak"
      ],
      "metadata": {
        "colab": {
          "base_uri": "https://localhost:8080/"
        },
        "id": "d-n_wQJeQFHh",
        "outputId": "6e941b86-8fb7-4e7b-9aee-e1770957adc1"
      },
      "execution_count": 54,
      "outputs": [
        {
          "output_type": "stream",
          "name": "stdout",
          "text": [
            "100274.jpg   1653815.jpg  2307638.jpg  2944161.jpg  3622237.jpg  638678.jpg\n",
            "1012080.jpg  1655387.jpg  2308682.jpg  2945937.jpg  365725.jpg\t 640024.jpg\n",
            "1016217.jpg  1662212.jpg  2315011.jpg  296375.jpg   3662612.jpg  647683.jpg\n",
            "1064847.jpg  168551.jpg   2339231.jpg  2981911.jpg  367422.jpg\t 653303.jpg\n",
            "1082384.jpg  1687010.jpg  2353677.jpg  2984679.jpg  3681340.jpg  66183.jpg\n",
            "108310.jpg   1718949.jpg  2365038.jpg  2989645.jpg  3753767.jpg  66207.jpg\n",
            "1094883.jpg  1778186.jpg  2372048.jpg  3013185.jpg  3757027.jpg  66858.jpg\n",
            "1107549.jpg  1792128.jpg  2382600.jpg  3013404.jpg  378397.jpg\t 670345.jpg\n",
            "1118585.jpg  1794566.jpg  2416973.jpg  3029602.jpg  3786535.jpg  673127.jpg\n",
            "1163050.jpg  1848046.jpg  2475366.jpg  3048920.jpg  3835895.jpg  690177.jpg\n",
            "1166047.jpg  1848936.jpg  2484823.jpg  3060047.jpg  3842125.jpg  690477.jpg\n",
            "1190808.jpg  1868005.jpg  2510026.jpg  3062369.jpg  3873283.jpg  697562.jpg\n",
            "1194662.jpg  1872368.jpg  2512387.jpg  3063435.jpg  3873655.jpg  7056.jpg\n",
            "1206166.jpg  1874088.jpg  2545411.jpg  3088325.jpg  3901703.jpg  717293.jpg\n",
            "1225389.jpg  1879697.jpg  2576310.jpg  30892.jpg    3903517.jpg  721500.jpg\n",
            "1259789.jpg  1882831.jpg  2600656.jpg  3100563.jpg  3905395.jpg  730464.jpg\n",
            "1274725.jpg  1902895.jpg  2619782.jpg  3137334.jpg  391144.jpg\t 746921.jpg\n",
            "1285886.jpg  1951003.jpg  2649745.jpg  3138001.jpg  39461.jpg\t 766575.jpg\n",
            "1288129.jpg  1956040.jpg  2685931.jpg  3173402.jpg  399377.jpg\t 776184.jpg\n",
            "1288540.jpg  1972463.jpg  2716791.jpg  321090.jpg   400530.jpg\t 787462.jpg\n",
            "13023.jpg    1982192.jpg  2720938.jpg  3235645.jpg  400951.jpg\t 790544.jpg\n",
            "1302563.jpg  1983405.jpg  2726773.jpg  324862.jpg   401660.jpg\t 831681.jpg\n",
            "1319758.jpg  2014349.jpg  2738323.jpg  3293212.jpg  40947.jpg\t 835871.jpg\n",
            "1335842.jpg  2056621.jpg  27415.jpg    3293650.jpg  413497.jpg\t 847477.jpg\n",
            "1342025.jpg  2061929.jpg  2752603.jpg  3297938.jpg  429304.jpg\t 864661.jpg\n",
            "1352319.jpg  2069289.jpg  2756200.jpg  3315737.jpg  459522.jpg\t 867610.jpg\n",
            "13719.jpg    2071320.jpg  2772358.jpg  3343970.jpg  476333.jpg\t 86782.jpg\n",
            "1375503.jpg  2077577.jpg  277297.jpg   3352834.jpg  481867.jpg\t 87246.jpg\n",
            "1379840.jpg  2092345.jpg  2802460.jpg  3383942.jpg  48208.jpg\t 894825.jpg\n",
            "138754.jpg   2117351.jpg  2814314.jpg  3424937.jpg  4889.jpg\t 902211.jpg\n",
            "1403881.jpg  2138503.jpg  281731.jpg   3444448.jpg  502076.jpg\t 904856.jpg\n",
            "1415873.jpg  2144308.jpg  2821155.jpg  347745.jpg   504349.jpg\t 906508.jpg\n",
            "144370.jpg   219196.jpg   2824517.jpg  3479599.jpg  515830.jpg\t 90930.jpg\n",
            "1449248.jpg  2193535.jpg  2825105.jpg  3497585.jpg  526186.jpg\t 912108.jpg\n",
            "1451299.jpg  2198931.jpg  284097.jpg   3503350.jpg  550687.jpg\t 918793.jpg\n",
            "1482489.jpg  221604.jpg   2843725.jpg  3504515.jpg  552171.jpg\t 926656.jpg\n",
            "148595.jpg   2229090.jpg  285269.jpg   3541033.jpg  562855.jpg\t 928920.jpg\n",
            "1498778.jpg  2246332.jpg  2861000.jpg  354513.jpg   565095.jpg\t 958704.jpg\n",
            "1499273.jpg  2276476.jpg  289822.jpg   3548389.jpg  595836.jpg\t 966174.jpg\n",
            "1515274.jpg  2285106.jpg  290406.jpg   3553838.jpg  603417.jpg\t 970916.jpg\n",
            "1523026.jpg  228683.jpg   2921355.jpg  3576324.jpg  60819.jpg\n",
            "1627703.jpg  2293470.jpg  2943601.jpg  36042.jpg    6261.jpg\n"
          ]
        }
      ]
    },
    {
      "cell_type": "code",
      "source": [
        "import os # move through os system or files\n",
        "num_steak_images_train = len(os.listdir(\"pizza_steak/train/steak\"))\n",
        "\n",
        "num_steak_images_train"
      ],
      "metadata": {
        "colab": {
          "base_uri": "https://localhost:8080/"
        },
        "id": "9az2nBiIQyIG",
        "outputId": "e4172d8f-7f37-4ede-eaa3-0df172615c08"
      },
      "execution_count": 55,
      "outputs": [
        {
          "output_type": "execute_result",
          "data": {
            "text/plain": [
              "750"
            ]
          },
          "metadata": {},
          "execution_count": 55
        }
      ]
    },
    {
      "cell_type": "code",
      "source": [
        "import pathlib \n",
        "import numpy as np\n",
        "\n",
        "data_dir = pathlib.Path(\"pizza_steak/train\")\n",
        "class_names = np.array(sorted([item.name for item in data_dir.glob(\"*\")]))\n",
        "print(class_names)"
      ],
      "metadata": {
        "colab": {
          "base_uri": "https://localhost:8080/"
        },
        "id": "Ww5l6kpqQyLm",
        "outputId": "d654a8f4-68bd-4699-fbee-95e5744c0ed4"
      },
      "execution_count": 56,
      "outputs": [
        {
          "output_type": "stream",
          "name": "stdout",
          "text": [
            "['pizza' 'steak']\n"
          ]
        }
      ]
    },
    {
      "cell_type": "code",
      "source": [
        "# View images\n",
        "import matplotlib.pyplot as plt\n",
        "import matplotlib.image as mpimg\n",
        "import random\n",
        "\n",
        "def view_random(target_dir, target_class):\n",
        "  target_folder = target_dir+target_class\n",
        "\n",
        "  random_image = random.sample(os.listdir(target_folder), 1)\n",
        "\n",
        "  img = mpimg.imread(target_folder + \"/\" + random_image[0]) # target_folder/test/00001.jpg\n",
        "  plt.imshow(img)\n",
        "  plt.title(target_class)\n",
        "  plt.axis(\"off\")\n",
        "\n",
        "  print(f\"Image shape: {img.shape}\")\n",
        "\n",
        "  return img\n",
        "\n"
      ],
      "metadata": {
        "id": "drTVf8GgQyOP"
      },
      "execution_count": 57,
      "outputs": []
    },
    {
      "cell_type": "code",
      "source": [
        "img = view_random(target_dir=\"pizza_steak/train/\",\n",
        "                  target_class=\"pizza\")"
      ],
      "metadata": {
        "colab": {
          "base_uri": "https://localhost:8080/",
          "height": 282
        },
        "id": "wQE38MKvQyQe",
        "outputId": "1e96950e-1a98-4fe0-cbb2-64ed0328d2c5"
      },
      "execution_count": 58,
      "outputs": [
        {
          "output_type": "stream",
          "name": "stdout",
          "text": [
            "Image shape: (512, 512, 3)\n"
          ]
        },
        {
          "output_type": "display_data",
          "data": {
            "text/plain": [
              "<Figure size 432x288 with 1 Axes>"
            ],
            "image/png": "[encoded data removed]"
          },
          "metadata": {
            "needs_background": "light"
          }
        }
      ]
    },
    {
      "cell_type": "code",
      "source": [
        "img"
      ],
      "metadata": {
        "colab": {
          "base_uri": "https://localhost:8080/"
        },
        "id": "ORTnFDvKS5YF",
        "outputId": "f263aee0-48f4-4bd4-b98b-03884c9e008f"
      },
      "execution_count": 59,
      "outputs": [
        {
          "output_type": "execute_result",
          "data": {
            "text/plain": [
              "array([[[193, 186, 202],\n",
              "        [191, 184, 200],\n",
              "        [189, 182, 198],\n",
              "        ...,\n",
              "        [187, 184, 193],\n",
              "        [186, 183, 192],\n",
              "        [185, 182, 191]],\n",
              "\n",
              "       [[191, 187, 202],\n",
              "        [189, 185, 200],\n",
              "        [187, 183, 198],\n",
              "        ...,\n",
              "        [187, 184, 193],\n",
              "        [187, 184, 193],\n",
              "        [187, 184, 193]],\n",
              "\n",
              "       [[189, 185, 200],\n",
              "        [188, 184, 199],\n",
              "        [186, 182, 197],\n",
              "        ...,\n",
              "        [186, 183, 192],\n",
              "        [187, 184, 193],\n",
              "        [188, 185, 194]],\n",
              "\n",
              "       ...,\n",
              "\n",
              "       [[197, 193, 207],\n",
              "        [196, 192, 206],\n",
              "        [195, 191, 205],\n",
              "        ...,\n",
              "        [187, 180, 188],\n",
              "        [185, 178, 186],\n",
              "        [181, 174, 182]],\n",
              "\n",
              "       [[195, 191, 205],\n",
              "        [194, 190, 204],\n",
              "        [193, 189, 203],\n",
              "        ...,\n",
              "        [184, 177, 185],\n",
              "        [182, 175, 183],\n",
              "        [180, 173, 181]],\n",
              "\n",
              "       [[196, 192, 206],\n",
              "        [195, 191, 205],\n",
              "        [195, 191, 205],\n",
              "        ...,\n",
              "        [181, 174, 182],\n",
              "        [180, 173, 181],\n",
              "        [180, 173, 181]]], dtype=uint8)"
            ]
          },
          "metadata": {},
          "execution_count": 59
        }
      ]
    },
    {
      "cell_type": "code",
      "source": [
        "img/255.0"
      ],
      "metadata": {
        "colab": {
          "base_uri": "https://localhost:8080/"
        },
        "id": "6W7J__e-S5aT",
        "outputId": "9606a0ff-4919-472d-b741-76f7162fa668"
      },
      "execution_count": 60,
      "outputs": [
        {
          "output_type": "execute_result",
          "data": {
            "text/plain": [
              "array([[[0.75686275, 0.72941176, 0.79215686],\n",
              "        [0.74901961, 0.72156863, 0.78431373],\n",
              "        [0.74117647, 0.71372549, 0.77647059],\n",
              "        ...,\n",
              "        [0.73333333, 0.72156863, 0.75686275],\n",
              "        [0.72941176, 0.71764706, 0.75294118],\n",
              "        [0.7254902 , 0.71372549, 0.74901961]],\n",
              "\n",
              "       [[0.74901961, 0.73333333, 0.79215686],\n",
              "        [0.74117647, 0.7254902 , 0.78431373],\n",
              "        [0.73333333, 0.71764706, 0.77647059],\n",
              "        ...,\n",
              "        [0.73333333, 0.72156863, 0.75686275],\n",
              "        [0.73333333, 0.72156863, 0.75686275],\n",
              "        [0.73333333, 0.72156863, 0.75686275]],\n",
              "\n",
              "       [[0.74117647, 0.7254902 , 0.78431373],\n",
              "        [0.7372549 , 0.72156863, 0.78039216],\n",
              "        [0.72941176, 0.71372549, 0.77254902],\n",
              "        ...,\n",
              "        [0.72941176, 0.71764706, 0.75294118],\n",
              "        [0.73333333, 0.72156863, 0.75686275],\n",
              "        [0.7372549 , 0.7254902 , 0.76078431]],\n",
              "\n",
              "       ...,\n",
              "\n",
              "       [[0.77254902, 0.75686275, 0.81176471],\n",
              "        [0.76862745, 0.75294118, 0.80784314],\n",
              "        [0.76470588, 0.74901961, 0.80392157],\n",
              "        ...,\n",
              "        [0.73333333, 0.70588235, 0.7372549 ],\n",
              "        [0.7254902 , 0.69803922, 0.72941176],\n",
              "        [0.70980392, 0.68235294, 0.71372549]],\n",
              "\n",
              "       [[0.76470588, 0.74901961, 0.80392157],\n",
              "        [0.76078431, 0.74509804, 0.8       ],\n",
              "        [0.75686275, 0.74117647, 0.79607843],\n",
              "        ...,\n",
              "        [0.72156863, 0.69411765, 0.7254902 ],\n",
              "        [0.71372549, 0.68627451, 0.71764706],\n",
              "        [0.70588235, 0.67843137, 0.70980392]],\n",
              "\n",
              "       [[0.76862745, 0.75294118, 0.80784314],\n",
              "        [0.76470588, 0.74901961, 0.80392157],\n",
              "        [0.76470588, 0.74901961, 0.80392157],\n",
              "        ...,\n",
              "        [0.70980392, 0.68235294, 0.71372549],\n",
              "        [0.70588235, 0.67843137, 0.70980392],\n",
              "        [0.70588235, 0.67843137, 0.70980392]]])"
            ]
          },
          "metadata": {},
          "execution_count": 60
        }
      ]
    },
    {
      "cell_type": "markdown",
      "source": [
        "## Resources:\n",
        "* [CNN Explainer](https://poloclub.github.io/cnn-explainer/)\n",
        "* [Explained Visually](https://setosa.io/ev/image-kernels/)\n",
        "* [Food 101](https://data.vision.ee.ethz.ch/cvl/datasets_extra/food-101/)\n",
        "* [Distil Pub](https://distill.pub/)\n",
        "* [A guide to convolution arithmetic for deep learning](https://arxiv.org/pdf/1603.07285.pdf)"
      ],
      "metadata": {
        "id": "gZ_LQeGNWWvI"
      }
    },
    {
      "cell_type": "markdown",
      "source": [
        "🚨 **Baseline_** 50.76% random forest accuracy"
      ],
      "metadata": {
        "id": "T1RBPVzZWWyl"
      }
    },
    {
      "cell_type": "markdown",
      "source": [
        "## Hyperparameters\n",
        "\n",
        "* `2D` - means `x`, `y`, two dimensional (height, width), even tough we have 3 color channels\n",
        "* `kernel_size`- size of our filter \n",
        "* `filter` - **feature extractor**\n",
        "* `stride` - the number of pixels a filter will move across as it covers the image\n",
        "* `padding` - it can be either `same` or `valid`\n",
        "  * `same` = adds zeros to the outside\n",
        "  * `valid` = adds cuts off excess pixels where the filter doesn't fit (e.g. 224 pixels wide divided by a kernel sixe of 3 (224/3=74.6) means a single pixel will get cut off of the end)"
      ],
      "metadata": {
        "id": "OupAMH0GkA0E"
      }
    },
    {
      "cell_type": "code",
      "source": [
        "import tensorflow as tf\n",
        "from tensorflow.keras.preprocessing.image import ImageDataGenerator\n",
        "\n",
        "# 0. Set random seed\n",
        "tf.random.set_seed(42)\n",
        "\n",
        "## IMAGE PREPROCESSING ##\n",
        "# a. Preprocess data (get all pixels between 0 and 1)\n",
        "train_datagen = ImageDataGenerator(rescale=1/255)\n",
        "valid_datagen = ImageDataGenerator(rescale=1/255)\n",
        "\n",
        "# b. Setup train and test directories\n",
        "train_dir = \"pizza_steak/train/\"\n",
        "test_dir = \"pizza_steak/test/\"\n",
        "\n",
        "# c. Import data from directories (X_train, y_train)\n",
        "train_data = train_datagen.flow_from_directory(train_dir,\n",
        "                                               batch_size=32,\n",
        "                                               target_size=(224, 224), # image pixels\n",
        "                                               class_mode=\"binary\", # pizza vs steak\n",
        "                                               seed=42)\n",
        "# (X_test, y_test) \n",
        "valid_data = valid_datagen.flow_from_directory(test_dir,\n",
        "                                              batch_size=32,\n",
        "                                              target_size=(224,224),\n",
        "                                              class_mode=\"binary\",\n",
        "                                              seed=42)\n",
        "\n",
        "####################################\n",
        "# 1. Create a model\n",
        "model_1 = tf.keras.Sequential([\n",
        "  tf.keras.layers.Conv2D(filters=10,\n",
        "                         kernel_size=3,\n",
        "                         activation=\"relu\",\n",
        "                         input_shape=(224, 224,3)),\n",
        "  tf.keras.layers.Conv2D(10, 3, activation=\"relu\"),\n",
        "  tf.keras.layers.MaxPool2D(pool_size=2, padding=\"valid\"),\n",
        "  tf.keras.layers.Conv2D(10, 3, activation=\"relu\"),\n",
        "  tf.keras.layers.Conv2D(10, 3, activation=\"relu\"),\n",
        "  tf.keras.layers.MaxPool2D(2),\n",
        "  tf.keras.layers.Flatten(),\n",
        "  tf.keras.layers.Dense(1, activation=\"sigmoid\")\n",
        "])\n",
        "\n",
        "\n",
        "# 2. Compile the model\n",
        "model_1.compile(loss=\"binary_crossentropy\",\n",
        "                optimizer=tf.keras.optimizers.Adam(),\n",
        "                metrics=[\"accuracy\"])\n",
        "\n",
        "# 3. Fit model\n",
        "history_1 = model_1.fit(train_data,\n",
        "                        epochs=5,\n",
        "                        steps_per_epoch=len(train_data), # 47 # any number(:\n",
        "                        validation_data=valid_data,\n",
        "                        validation_steps=len(valid_data)) # 16\n",
        "\n"
      ],
      "metadata": {
        "colab": {
          "base_uri": "https://localhost:8080/"
        },
        "id": "GwY3NVhIWW1L",
        "outputId": "c78918fb-b193-4cd9-ffe9-741c267cd7e8"
      },
      "execution_count": 61,
      "outputs": [
        {
          "output_type": "stream",
          "name": "stdout",
          "text": [
            "Found 1500 images belonging to 2 classes.\n",
            "Found 500 images belonging to 2 classes.\n",
            "Epoch 1/5\n",
            "47/47 [==============================] - 11s 225ms/step - loss: 0.5445 - accuracy: 0.7220 - val_loss: 0.4039 - val_accuracy: 0.8520\n",
            "Epoch 2/5\n",
            "47/47 [==============================] - 9s 196ms/step - loss: 0.4140 - accuracy: 0.8100 - val_loss: 0.3418 - val_accuracy: 0.8640\n",
            "Epoch 3/5\n",
            "47/47 [==============================] - 9s 196ms/step - loss: 0.4125 - accuracy: 0.8253 - val_loss: 0.3635 - val_accuracy: 0.8560\n",
            "Epoch 4/5\n",
            "47/47 [==============================] - 9s 199ms/step - loss: 0.3685 - accuracy: 0.8360 - val_loss: 0.3198 - val_accuracy: 0.8680\n",
            "Epoch 5/5\n",
            "47/47 [==============================] - 9s 200ms/step - loss: 0.3319 - accuracy: 0.8600 - val_loss: 0.3072 - val_accuracy: 0.8740\n"
          ]
        }
      ]
    },
    {
      "cell_type": "code",
      "source": [
        "len(train_data), len(valid_data)"
      ],
      "metadata": {
        "colab": {
          "base_uri": "https://localhost:8080/"
        },
        "id": "PgWQQVM4wf49",
        "outputId": "e8d700aa-d547-44dc-c4fa-025c4286433d"
      },
      "execution_count": 62,
      "outputs": [
        {
          "output_type": "execute_result",
          "data": {
            "text/plain": [
              "(47, 16)"
            ]
          },
          "metadata": {},
          "execution_count": 62
        }
      ]
    },
    {
      "cell_type": "code",
      "source": [
        "model_1.summary()"
      ],
      "metadata": {
        "colab": {
          "base_uri": "https://localhost:8080/"
        },
        "id": "yfrfYRFmxlu_",
        "outputId": "bfc0b4de-7fd7-4451-a4e1-0f515c6f408d"
      },
      "execution_count": 63,
      "outputs": [
        {
          "output_type": "stream",
          "name": "stdout",
          "text": [
            "Model: \"sequential_5\"\n",
            "_________________________________________________________________\n",
            " Layer (type)                Output Shape              Param #   \n",
            "=================================================================\n",
            " conv2d_10 (Conv2D)          (None, 222, 222, 10)      280       \n",
            "                                                                 \n",
            " conv2d_11 (Conv2D)          (None, 220, 220, 10)      910       \n",
            "                                                                 \n",
            " max_pooling2d_5 (MaxPooling  (None, 110, 110, 10)     0         \n",
            " 2D)                                                             \n",
            "                                                                 \n",
            " conv2d_12 (Conv2D)          (None, 108, 108, 10)      910       \n",
            "                                                                 \n",
            " conv2d_13 (Conv2D)          (None, 106, 106, 10)      910       \n",
            "                                                                 \n",
            " max_pooling2d_6 (MaxPooling  (None, 53, 53, 10)       0         \n",
            " 2D)                                                             \n",
            "                                                                 \n",
            " flatten_5 (Flatten)         (None, 28090)             0         \n",
            "                                                                 \n",
            " dense_10 (Dense)            (None, 1)                 28091     \n",
            "                                                                 \n",
            "=================================================================\n",
            "Total params: 31,101\n",
            "Trainable params: 31,101\n",
            "Non-trainable params: 0\n",
            "_________________________________________________________________\n"
          ]
        }
      ]
    },
    {
      "cell_type": "code",
      "source": [
        "model_1.evaluate(valid_data)"
      ],
      "metadata": {
        "colab": {
          "base_uri": "https://localhost:8080/"
        },
        "id": "Vxz8GMzqkA3J",
        "outputId": "9580663d-203c-4546-c448-a6192cc61269"
      },
      "execution_count": 64,
      "outputs": [
        {
          "output_type": "stream",
          "name": "stdout",
          "text": [
            "16/16 [==============================] - 2s 143ms/step - loss: 0.3072 - accuracy: 0.8740\n"
          ]
        },
        {
          "output_type": "execute_result",
          "data": {
            "text/plain": [
              "[0.30724188685417175, 0.8740000128746033]"
            ]
          },
          "metadata": {},
          "execution_count": 64
        }
      ]
    },
    {
      "cell_type": "markdown",
      "source": [
        "## Model 2"
      ],
      "metadata": {
        "id": "QHgK64uDkA45"
      }
    },
    {
      "cell_type": "code",
      "source": [
        "# set random seed\n",
        "tf.random.set_seed(42)\n",
        "\n",
        "# 1. Create a model\n",
        "model_2 = tf.keras.Sequential([\n",
        "  tf.keras.layers.Flatten(input_shape=(224,224,3)),\n",
        "  tf.keras.layers.Dense(4, activation=\"relu\"),\n",
        "  tf.keras.layers.Dense(4, activation=\"relu\"),\n",
        "  tf.keras.layers.Dense(1, activation=\"sigmoid\"),\n",
        "])\n",
        "\n",
        "# 2 compile the model\n",
        "model_2.compile(loss=\"binary_crossentropy\",\n",
        "                optimizer=tf.keras.optimizers.Adam(lr=0.001),\n",
        "                metrics=[\"accuracy\"])\n",
        "\n",
        "# 3 Fit the model\n",
        "model_2.fit(train_data,\n",
        "            epochs=5,\n",
        "            steps_per_epoch=len(train_data), # lenght of train dataset = 47\n",
        "            validation_data=valid_data,\n",
        "            validation_steps=len(valid_data))"
      ],
      "metadata": {
        "colab": {
          "base_uri": "https://localhost:8080/"
        },
        "id": "eoOZnMF2OsCE",
        "outputId": "969da32f-7894-4313-a1a9-99131f8286a7"
      },
      "execution_count": 65,
      "outputs": [
        {
          "output_type": "stream",
          "name": "stdout",
          "text": [
            "Epoch 1/5\n"
          ]
        },
        {
          "output_type": "stream",
          "name": "stderr",
          "text": [
            "/usr/local/lib/python3.7/dist-packages/keras/optimizer_v2/adam.py:105: UserWarning: The `lr` argument is deprecated, use `learning_rate` instead.\n",
            "  super(Adam, self).__init__(name, **kwargs)\n"
          ]
        },
        {
          "output_type": "stream",
          "name": "stdout",
          "text": [
            "47/47 [==============================] - 9s 193ms/step - loss: 1.0927 - accuracy: 0.6540 - val_loss: 0.6277 - val_accuracy: 0.7400\n",
            "Epoch 2/5\n",
            "47/47 [==============================] - 11s 231ms/step - loss: 0.6250 - accuracy: 0.7187 - val_loss: 0.6869 - val_accuracy: 0.5340\n",
            "Epoch 3/5\n",
            "47/47 [==============================] - 9s 187ms/step - loss: 0.6260 - accuracy: 0.6733 - val_loss: 0.5791 - val_accuracy: 0.7800\n",
            "Epoch 4/5\n",
            "47/47 [==============================] - 9s 186ms/step - loss: 0.5691 - accuracy: 0.7627 - val_loss: 0.5557 - val_accuracy: 0.7660\n",
            "Epoch 5/5\n",
            "47/47 [==============================] - 9s 182ms/step - loss: 0.6009 - accuracy: 0.6927 - val_loss: 0.5742 - val_accuracy: 0.7680\n"
          ]
        },
        {
          "output_type": "execute_result",
          "data": {
            "text/plain": [
              "<keras.callbacks.History at 0x7f7e60fd1a10>"
            ]
          },
          "metadata": {},
          "execution_count": 65
        }
      ]
    },
    {
      "cell_type": "code",
      "source": [
        "model_2.summary()"
      ],
      "metadata": {
        "colab": {
          "base_uri": "https://localhost:8080/"
        },
        "id": "vq7Byok2O38J",
        "outputId": "d89d330b-9704-4b4a-bacb-539eac7f720a"
      },
      "execution_count": 66,
      "outputs": [
        {
          "output_type": "stream",
          "name": "stdout",
          "text": [
            "Model: \"sequential_6\"\n",
            "_________________________________________________________________\n",
            " Layer (type)                Output Shape              Param #   \n",
            "=================================================================\n",
            " flatten_6 (Flatten)         (None, 150528)            0         \n",
            "                                                                 \n",
            " dense_11 (Dense)            (None, 4)                 602116    \n",
            "                                                                 \n",
            " dense_12 (Dense)            (None, 4)                 20        \n",
            "                                                                 \n",
            " dense_13 (Dense)            (None, 1)                 5         \n",
            "                                                                 \n",
            "=================================================================\n",
            "Total params: 602,141\n",
            "Trainable params: 602,141\n",
            "Non-trainable params: 0\n",
            "_________________________________________________________________\n"
          ]
        }
      ]
    },
    {
      "cell_type": "markdown",
      "source": [
        "`model_1` has 31,101 trainable parameters\n",
        "\n",
        "`model_2` has 602,141 trainable parameters\n",
        "\n",
        "🔑 **Note**: Think of trainable parameters as *patterns* a model can learn from data (or from images). More layers (or units) does not mean more parameters. \n",
        "\n",
        "**Fully-connected layers** vs old architectures\n",
        "\n"
      ],
      "metadata": {
        "id": "pjZQuwzFO4EC"
      }
    },
    {
      "cell_type": "code",
      "source": [
        "# Set random seed\n",
        "tf.random.set_seed(42)\n",
        "\n",
        "# # Create model\n",
        "model_3 = tf.keras.Sequential([\n",
        "  tf.keras.layers.Flatten(input_shape=(224,224,3)),\n",
        "  tf.keras.layers.Dense(100, activation=\"relu\"),\n",
        "  tf.keras.layers.Dense(100, activation=\"relu\"),\n",
        "  tf.keras.layers.Dense(100, activation=\"relu\"),\n",
        "  tf.keras.layers.Dense(1, activation=\"sigmoid\")\n",
        "])\n",
        "\n",
        "# Compile the model\n",
        "model_3.compile(loss=\"binary_crossentropy\",\n",
        "                optimizer=tf.keras.optimizers.Adam(lr=0.001),\n",
        "                metrics=[\"accuracy\"])\n",
        "\n",
        "# Fit the model\n",
        "model_3.fit(train_data,\n",
        "            epochs=10,\n",
        "            steps_per_epoch=len(train_data),\n",
        "            validation_data=valid_data,\n",
        "            validation_steps=len(valid_data))"
      ],
      "metadata": {
        "colab": {
          "base_uri": "https://localhost:8080/"
        },
        "id": "p0SxaNciO4Jp",
        "outputId": "ab3ba0b1-fc63-48f9-9bc9-f791e26a95cb"
      },
      "execution_count": 67,
      "outputs": [
        {
          "output_type": "stream",
          "name": "stdout",
          "text": [
            "Epoch 1/10\n"
          ]
        },
        {
          "output_type": "stream",
          "name": "stderr",
          "text": [
            "/usr/local/lib/python3.7/dist-packages/keras/optimizer_v2/adam.py:105: UserWarning: The `lr` argument is deprecated, use `learning_rate` instead.\n",
            "  super(Adam, self).__init__(name, **kwargs)\n"
          ]
        },
        {
          "output_type": "stream",
          "name": "stdout",
          "text": [
            "47/47 [==============================] - 9s 191ms/step - loss: 2.9099 - accuracy: 0.6480 - val_loss: 0.9414 - val_accuracy: 0.7540\n",
            "Epoch 2/10\n",
            "47/47 [==============================] - 9s 184ms/step - loss: 1.4212 - accuracy: 0.6893 - val_loss: 0.5404 - val_accuracy: 0.7400\n",
            "Epoch 3/10\n",
            "47/47 [==============================] - 9s 184ms/step - loss: 0.6972 - accuracy: 0.7047 - val_loss: 0.5781 - val_accuracy: 0.7600\n",
            "Epoch 4/10\n",
            "47/47 [==============================] - 9s 184ms/step - loss: 0.5787 - accuracy: 0.7593 - val_loss: 0.4640 - val_accuracy: 0.7560\n",
            "Epoch 5/10\n",
            "47/47 [==============================] - 9s 183ms/step - loss: 0.5435 - accuracy: 0.7820 - val_loss: 0.6240 - val_accuracy: 0.7360\n",
            "Epoch 6/10\n",
            "47/47 [==============================] - 9s 182ms/step - loss: 0.6641 - accuracy: 0.7380 - val_loss: 0.9470 - val_accuracy: 0.6400\n",
            "Epoch 7/10\n",
            "47/47 [==============================] - 9s 183ms/step - loss: 0.5027 - accuracy: 0.7947 - val_loss: 0.7277 - val_accuracy: 0.6700\n",
            "Epoch 8/10\n",
            "47/47 [==============================] - 9s 184ms/step - loss: 0.5051 - accuracy: 0.7880 - val_loss: 0.8778 - val_accuracy: 0.6620\n",
            "Epoch 9/10\n",
            "47/47 [==============================] - 8s 181ms/step - loss: 0.4008 - accuracy: 0.8287 - val_loss: 0.4482 - val_accuracy: 0.8040\n",
            "Epoch 10/10\n",
            "47/47 [==============================] - 9s 183ms/step - loss: 0.5132 - accuracy: 0.7967 - val_loss: 0.9408 - val_accuracy: 0.6840\n"
          ]
        },
        {
          "output_type": "execute_result",
          "data": {
            "text/plain": [
              "<keras.callbacks.History at 0x7f7e60fdfa10>"
            ]
          },
          "metadata": {},
          "execution_count": 67
        }
      ]
    },
    {
      "cell_type": "code",
      "source": [
        "model_3.summary()"
      ],
      "metadata": {
        "colab": {
          "base_uri": "https://localhost:8080/"
        },
        "id": "iAOVysDVOsGW",
        "outputId": "895cbc5b-de01-4ee7-b1c1-cf21539f8074"
      },
      "execution_count": 68,
      "outputs": [
        {
          "output_type": "stream",
          "name": "stdout",
          "text": [
            "Model: \"sequential_7\"\n",
            "_________________________________________________________________\n",
            " Layer (type)                Output Shape              Param #   \n",
            "=================================================================\n",
            " flatten_7 (Flatten)         (None, 150528)            0         \n",
            "                                                                 \n",
            " dense_14 (Dense)            (None, 100)               15052900  \n",
            "                                                                 \n",
            " dense_15 (Dense)            (None, 100)               10100     \n",
            "                                                                 \n",
            " dense_16 (Dense)            (None, 100)               10100     \n",
            "                                                                 \n",
            " dense_17 (Dense)            (None, 1)                 101       \n",
            "                                                                 \n",
            "=================================================================\n",
            "Total params: 15,073,201\n",
            "Trainable params: 15,073,201\n",
            "Non-trainable params: 0\n",
            "_________________________________________________________________\n"
          ]
        }
      ]
    },
    {
      "cell_type": "code",
      "source": [
        "score1 = model_1.evaluate(train_data)[1]\n",
        "score2 = model_2.evaluate(train_data)[1]\n",
        "score3 = model_3.evaluate(train_data)[1]"
      ],
      "metadata": {
        "colab": {
          "base_uri": "https://localhost:8080/"
        },
        "id": "JLX-9NF2OsKn",
        "outputId": "bd2d203b-f079-4fc9-d6b8-c3a56a91dca0"
      },
      "execution_count": 69,
      "outputs": [
        {
          "output_type": "stream",
          "name": "stdout",
          "text": [
            "47/47 [==============================] - 7s 141ms/step - loss: 0.2907 - accuracy: 0.8907\n",
            "47/47 [==============================] - 7s 138ms/step - loss: 0.5602 - accuracy: 0.7720\n",
            "47/47 [==============================] - 6s 137ms/step - loss: 0.7507 - accuracy: 0.7200\n"
          ]
        }
      ]
    },
    {
      "cell_type": "code",
      "source": [
        "import pandas as pd\n",
        "summary = pd.DataFrame({\"Model1\":score1, \"Model2\":score2, \"Model3\":score3}, index=[0])\n",
        "summary"
      ],
      "metadata": {
        "colab": {
          "base_uri": "https://localhost:8080/",
          "height": 81
        },
        "id": "Yq8YwvGLOsOy",
        "outputId": "ec995773-5322-4bc3-ddee-20d9068d2caf"
      },
      "execution_count": 70,
      "outputs": [
        {
          "output_type": "execute_result",
          "data": {
            "text/plain": [
              "     Model1  Model2  Model3\n",
              "0  0.890667   0.772    0.72"
            ],
            "text/html": [
              "\n",
              "  <div id=\"df-4eafab28-2174-4731-863c-c069544508df\">\n",
              "    <div class=\"colab-df-container\">\n",
              "      <div>\n",
              "<style scoped>\n",
              "    .dataframe tbody tr th:only-of-type {\n",
              "        vertical-align: middle;\n",
              "    }\n",
              "\n",
              "    .dataframe tbody tr th {\n",
              "        vertical-align: top;\n",
              "    }\n",
              "\n",
              "    .dataframe thead th {\n",
              "        text-align: right;\n",
              "    }\n",
              "</style>\n",
              "<table border=\"1\" class=\"dataframe\">\n",
              "  <thead>\n",
              "    <tr style=\"text-align: right;\">\n",
              "      <th></th>\n",
              "      <th>Model1</th>\n",
              "      <th>Model2</th>\n",
              "      <th>Model3</th>\n",
              "    </tr>\n",
              "  </thead>\n",
              "  <tbody>\n",
              "    <tr>\n",
              "      <th>0</th>\n",
              "      <td>0.890667</td>\n",
              "      <td>0.772</td>\n",
              "      <td>0.72</td>\n",
              "    </tr>\n",
              "  </tbody>\n",
              "</table>\n",
              "</div>\n",
              "      <button class=\"colab-df-convert\" onclick=\"convertToInteractive('df-4eafab28-2174-4731-863c-c069544508df')\"\n",
              "              title=\"Convert this dataframe to an interactive table.\"\n",
              "              style=\"display:none;\">\n",
              "        \n",
              "  <svg xmlns=\"http://www.w3.org/2000/svg\" height=\"24px\"viewBox=\"0 0 24 24\"\n",
              "       width=\"24px\">\n",
              "    <path d=\"M0 0h24v24H0V0z\" fill=\"none\"/>\n",
              "    <path d=\"M18.56 5.44l.94 2.06.94-2.06 2.06-.94-2.06-.94-.94-2.06-.94 2.06-2.06.94zm-11 1L8.5 8.5l.94-2.06 2.06-.94-2.06-.94L8.5 2.5l-.94 2.06-2.06.94zm10 10l.94 2.06.94-2.06 2.06-.94-2.06-.94-.94-2.06-.94 2.06-2.06.94z\"/><path d=\"M17.41 7.96l-1.37-1.37c-.4-.4-.92-.59-1.43-.59-.52 0-1.04.2-1.43.59L10.3 9.45l-7.72 7.72c-.78.78-.78 2.05 0 2.83L4 21.41c.39.39.9.59 1.41.59.51 0 1.02-.2 1.41-.59l7.78-7.78 2.81-2.81c.8-.78.8-2.07 0-2.86zM5.41 20L4 18.59l7.72-7.72 1.47 1.35L5.41 20z\"/>\n",
              "  </svg>\n",
              "      </button>\n",
              "      \n",
              "  <style>\n",
              "    .colab-df-container {\n",
              "      display:flex;\n",
              "      flex-wrap:wrap;\n",
              "      gap: 12px;\n",
              "    }\n",
              "\n",
              "    .colab-df-convert {\n",
              "      background-color: #E8F0FE;\n",
              "      border: none;\n",
              "      border-radius: 50%;\n",
              "      cursor: pointer;\n",
              "      display: none;\n",
              "      fill: #1967D2;\n",
              "      height: 32px;\n",
              "      padding: 0 0 0 0;\n",
              "      width: 32px;\n",
              "    }\n",
              "\n",
              "    .colab-df-convert:hover {\n",
              "      background-color: #E2EBFA;\n",
              "      box-shadow: 0px 1px 2px rgba(60, 64, 67, 0.3), 0px 1px 3px 1px rgba(60, 64, 67, 0.15);\n",
              "      fill: #174EA6;\n",
              "    }\n",
              "\n",
              "    [theme=dark] .colab-df-convert {\n",
              "      background-color: #3B4455;\n",
              "      fill: #D2E3FC;\n",
              "    }\n",
              "\n",
              "    [theme=dark] .colab-df-convert:hover {\n",
              "      background-color: #434B5C;\n",
              "      box-shadow: 0px 1px 3px 1px rgba(0, 0, 0, 0.15);\n",
              "      filter: drop-shadow(0px 1px 2px rgba(0, 0, 0, 0.3));\n",
              "      fill: #FFFFFF;\n",
              "    }\n",
              "  </style>\n",
              "\n",
              "      <script>\n",
              "        const buttonEl =\n",
              "          document.querySelector('#df-4eafab28-2174-4731-863c-c069544508df button.colab-df-convert');\n",
              "        buttonEl.style.display =\n",
              "          google.colab.kernel.accessAllowed ? 'block' : 'none';\n",
              "\n",
              "        async function convertToInteractive(key) {\n",
              "          const element = document.querySelector('#df-4eafab28-2174-4731-863c-c069544508df');\n",
              "          const dataTable =\n",
              "            await google.colab.kernel.invokeFunction('convertToInteractive',\n",
              "                                                     [key], {});\n",
              "          if (!dataTable) return;\n",
              "\n",
              "          const docLinkHtml = 'Like what you see? Visit the ' +\n",
              "            '<a target=\"_blank\" href=https://colab.research.google.com/notebooks/data_table.ipynb>data table notebook</a>'\n",
              "            + ' to learn more about interactive tables.';\n",
              "          element.innerHTML = '';\n",
              "          dataTable['output_type'] = 'display_data';\n",
              "          await google.colab.output.renderOutput(dataTable, element);\n",
              "          const docLink = document.createElement('div');\n",
              "          docLink.innerHTML = docLinkHtml;\n",
              "          element.appendChild(docLink);\n",
              "        }\n",
              "      </script>\n",
              "    </div>\n",
              "  </div>\n",
              "  "
            ]
          },
          "metadata": {},
          "execution_count": 70
        }
      ]
    },
    {
      "cell_type": "markdown",
      "source": [
        "## Re-Preprocessing Data"
      ],
      "metadata": {
        "id": "Mrv5IHJCOsWd"
      }
    },
    {
      "cell_type": "code",
      "source": [
        "!wget https://storage.googleapis.com/ztm_tf_course/food_vision/pizza_steak.zip"
      ],
      "metadata": {
        "colab": {
          "base_uri": "https://localhost:8080/"
        },
        "id": "GzP_HG9qYchC",
        "outputId": "ed0c5973-8507-4691-a935-c244530c3a93"
      },
      "execution_count": 71,
      "outputs": [
        {
          "output_type": "stream",
          "name": "stdout",
          "text": [
            "--2022-07-02 18:44:22--  https://storage.googleapis.com/ztm_tf_course/food_vision/pizza_steak.zip\n",
            "Resolving storage.googleapis.com (storage.googleapis.com)... 172.217.219.128, 209.85.147.128, 142.250.136.128, ...\n",
            "Connecting to storage.googleapis.com (storage.googleapis.com)|172.217.219.128|:443... connected.\n",
            "HTTP request sent, awaiting response... 200 OK\n",
            "Length: 109540975 (104M) [application/zip]\n",
            "Saving to: ‘pizza_steak.zip.3’\n",
            "\n",
            "pizza_steak.zip.3   100%[===================>] 104.47M   261MB/s    in 0.4s    \n",
            "\n",
            "2022-07-02 18:44:22 (261 MB/s) - ‘pizza_steak.zip.3’ saved [109540975/109540975]\n",
            "\n"
          ]
        }
      ]
    },
    {
      "cell_type": "code",
      "source": [
        "train_dir = \"pizza_steak/train/\"\n",
        "test_dir = \"pizza_steak/test/\""
      ],
      "metadata": {
        "id": "DSHU9wm1YclZ"
      },
      "execution_count": 72,
      "outputs": []
    },
    {
      "cell_type": "code",
      "source": [
        "from tensorflow.keras.preprocessing.image import ImageDataGenerator\n",
        "\n",
        "train_datagen = ImageDataGenerator(rescale=1/255.)\n",
        "test_datagen = ImageDataGenerator(rescale=1/255.)"
      ],
      "metadata": {
        "id": "dPAuuXC1Ycot"
      },
      "execution_count": 73,
      "outputs": []
    },
    {
      "cell_type": "code",
      "source": [
        "train_data = train_datagen.flow_from_directory(directory=train_dir,\n",
        "                                            target_size=(224,224),\n",
        "                                            class_mode=\"binary\",\n",
        "                                            batch_size=32)\n",
        "\n",
        "test_data = test_datagen.flow_from_directory(directory=test_dir,\n",
        "                                            target_size=(224,224),\n",
        "                                            class_mode=\"binary\",\n",
        "                                            batch_size=32)"
      ],
      "metadata": {
        "colab": {
          "base_uri": "https://localhost:8080/"
        },
        "id": "UBvBVE7AYcra",
        "outputId": "1f27112a-94da-4926-d3e3-ce7156e60d5c"
      },
      "execution_count": 74,
      "outputs": [
        {
          "output_type": "stream",
          "name": "stdout",
          "text": [
            "Found 1500 images belonging to 2 classes.\n",
            "Found 500 images belonging to 2 classes.\n"
          ]
        }
      ]
    },
    {
      "cell_type": "code",
      "source": [
        "# Get a sample of the training data batch\n",
        "images, labels = train_data.next() # get \"next\" batch of images/labels"
      ],
      "metadata": {
        "id": "XH7uo7fpYcuN"
      },
      "execution_count": 75,
      "outputs": []
    },
    {
      "cell_type": "code",
      "source": [
        "len(images), len(labels)"
      ],
      "metadata": {
        "colab": {
          "base_uri": "https://localhost:8080/"
        },
        "id": "wri-eRZaZhfH",
        "outputId": "2c6b9dcc-934f-41d2-9bbe-454d6199bd3d"
      },
      "execution_count": 76,
      "outputs": [
        {
          "output_type": "execute_result",
          "data": {
            "text/plain": [
              "(32, 32)"
            ]
          },
          "metadata": {},
          "execution_count": 76
        }
      ]
    },
    {
      "cell_type": "code",
      "source": [
        "images[:2], images[0].shape"
      ],
      "metadata": {
        "colab": {
          "base_uri": "https://localhost:8080/"
        },
        "id": "50N8OGYoZhjQ",
        "outputId": "e8319de1-5179-4a10-99ac-bcb6168d9ba6"
      },
      "execution_count": 77,
      "outputs": [
        {
          "output_type": "execute_result",
          "data": {
            "text/plain": [
              "(array([[[[0.8196079 , 0.69411767, 0.53333336],\n",
              "          [0.8196079 , 0.69411767, 0.53333336],\n",
              "          [0.8235295 , 0.69803923, 0.54509807],\n",
              "          ...,\n",
              "          [0.05882353, 0.05882353, 0.06666667],\n",
              "          [0.07058824, 0.07058824, 0.07843138],\n",
              "          [0.07058824, 0.07058824, 0.07843138]],\n",
              " \n",
              "         [[0.8117648 , 0.6862745 , 0.5372549 ],\n",
              "          [0.8196079 , 0.69411767, 0.54509807],\n",
              "          [0.8196079 , 0.69411767, 0.54509807],\n",
              "          ...,\n",
              "          [0.05490196, 0.04705883, 0.05882353],\n",
              "          [0.07058824, 0.0627451 , 0.07450981],\n",
              "          [0.07058824, 0.0627451 , 0.07450981]],\n",
              " \n",
              "         [[0.8352942 , 0.7058824 , 0.5764706 ],\n",
              "          [0.8352942 , 0.7176471 , 0.58431375],\n",
              "          [0.8196079 , 0.7019608 , 0.56078434],\n",
              "          ...,\n",
              "          [0.07450981, 0.06666667, 0.07843138],\n",
              "          [0.0627451 , 0.05490196, 0.06666667],\n",
              "          [0.06666667, 0.05882353, 0.07058824]],\n",
              " \n",
              "         ...,\n",
              " \n",
              "         [[0.22352943, 0.16078432, 0.10980393],\n",
              "          [0.20784315, 0.14509805, 0.09411766],\n",
              "          [0.20784315, 0.14117648, 0.10196079],\n",
              "          ...,\n",
              "          [0.3529412 , 0.29803923, 0.24705884],\n",
              "          [0.42352945, 0.37254903, 0.30980393],\n",
              "          [0.47450984, 0.4156863 , 0.34117648]],\n",
              " \n",
              "         [[0.22352943, 0.15686275, 0.09411766],\n",
              "          [0.22352943, 0.15686275, 0.09411766],\n",
              "          [0.21176472, 0.14901961, 0.09019608],\n",
              "          ...,\n",
              "          [0.3921569 , 0.34117648, 0.27450982],\n",
              "          [0.46274513, 0.4039216 , 0.32156864],\n",
              "          [0.5529412 , 0.49803925, 0.39607847]],\n",
              " \n",
              "         [[0.2392157 , 0.16470589, 0.09803922],\n",
              "          [0.23529413, 0.16862746, 0.09803922],\n",
              "          [0.21176472, 0.14509805, 0.08235294],\n",
              "          ...,\n",
              "          [0.454902  , 0.39607847, 0.3137255 ],\n",
              "          [0.48235297, 0.427451  , 0.3254902 ],\n",
              "          [0.50980395, 0.44705886, 0.34509805]]],\n",
              " \n",
              " \n",
              "        [[[0.65882355, 0.64705884, 0.6745098 ],\n",
              "          [0.7058824 , 0.69411767, 0.72156864],\n",
              "          [0.80392164, 0.8000001 , 0.8313726 ],\n",
              "          ...,\n",
              "          [0.909804  , 0.8431373 , 0.7411765 ],\n",
              "          [0.94117653, 0.8980393 , 0.78823537],\n",
              "          [0.9725491 , 0.9450981 , 0.8313726 ]],\n",
              " \n",
              "         [[0.67058825, 0.65882355, 0.69411767],\n",
              "          [0.7490196 , 0.74509805, 0.77647066],\n",
              "          [0.8352942 , 0.82745105, 0.8705883 ],\n",
              "          ...,\n",
              "          [1.        , 0.93725497, 0.83921576],\n",
              "          [1.        , 0.9450981 , 0.8431373 ],\n",
              "          [1.        , 0.95294124, 0.83921576]],\n",
              " \n",
              "         [[0.7294118 , 0.72156864, 0.7725491 ],\n",
              "          [0.81568635, 0.8078432 , 0.8588236 ],\n",
              "          [0.854902  , 0.854902  , 0.90196085],\n",
              "          ...,\n",
              "          [0.97647065, 0.89019614, 0.7960785 ],\n",
              "          [0.9686275 , 0.8745099 , 0.7803922 ],\n",
              "          [0.87843144, 0.7843138 , 0.68235296]],\n",
              " \n",
              "         ...,\n",
              " \n",
              "         [[0.8470589 , 0.8980393 , 0.96470594],\n",
              "          [0.86666673, 0.9294118 , 0.9921569 ],\n",
              "          [0.87843144, 0.94117653, 1.        ],\n",
              "          ...,\n",
              "          [0.5647059 , 0.5882353 , 0.68235296],\n",
              "          [0.6156863 , 0.6392157 , 0.73333335],\n",
              "          [0.6392157 , 0.6627451 , 0.7568628 ]],\n",
              " \n",
              "         [[0.8745099 , 0.92549026, 0.98823535],\n",
              "          [0.8705883 , 0.9333334 , 0.9921569 ],\n",
              "          [0.8705883 , 0.9333334 , 0.9960785 ],\n",
              "          ...,\n",
              "          [0.38431376, 0.40784317, 0.49411768],\n",
              "          [0.4156863 , 0.43921572, 0.5254902 ],\n",
              "          [0.4901961 , 0.5137255 , 0.6       ]],\n",
              " \n",
              "         [[0.8862746 , 0.93725497, 1.        ],\n",
              "          [0.86666673, 0.9294118 , 0.98823535],\n",
              "          [0.8588236 , 0.9215687 , 0.9843138 ],\n",
              "          ...,\n",
              "          [0.2509804 , 0.2784314 , 0.3529412 ],\n",
              "          [0.2627451 , 0.2901961 , 0.3647059 ],\n",
              "          [0.32941177, 0.35686275, 0.43137258]]]], dtype=float32),\n",
              " (224, 224, 3))"
            ]
          },
          "metadata": {},
          "execution_count": 77
        }
      ]
    },
    {
      "cell_type": "code",
      "source": [
        "labels"
      ],
      "metadata": {
        "colab": {
          "base_uri": "https://localhost:8080/"
        },
        "id": "shnvRjXFZhl_",
        "outputId": "f066e723-c496-42d5-97c8-801c0dc0ae62"
      },
      "execution_count": 78,
      "outputs": [
        {
          "output_type": "execute_result",
          "data": {
            "text/plain": [
              "array([1., 1., 0., 0., 1., 1., 1., 0., 0., 1., 1., 1., 1., 0., 1., 0., 0.,\n",
              "       0., 1., 1., 0., 1., 1., 0., 1., 1., 1., 0., 0., 0., 1., 1.],\n",
              "      dtype=float32)"
            ]
          },
          "metadata": {},
          "execution_count": 78
        }
      ]
    },
    {
      "cell_type": "markdown",
      "source": [
        "## Model 4 Baseline"
      ],
      "metadata": {
        "id": "m5pW15v8Zhos"
      }
    },
    {
      "cell_type": "markdown",
      "source": [
        "We will use a model with less layers (3 or 4) and state of the art performance."
      ],
      "metadata": {
        "id": "38PiZBAebY2K"
      }
    },
    {
      "cell_type": "code",
      "source": [
        "from tensorflow.keras.optimizers import Adam\n",
        "from tensorflow.keras.layers import Dense, Flatten, Conv2D, MaxPool2D, Activation\n",
        "from tensorflow.keras import Sequential"
      ],
      "metadata": {
        "id": "D5Q3Cs8vbEWk"
      },
      "execution_count": 79,
      "outputs": []
    },
    {
      "cell_type": "code",
      "source": [
        "# Create baseline\n",
        "model_4 = Sequential([\n",
        "  Conv2D(filters=10,\n",
        "         kernel_size=3,\n",
        "         strides=1,\n",
        "         padding=\"valid\",\n",
        "         activation=\"relu\",\n",
        "         input_shape=(224,224,3)),\n",
        "  Conv2D(10,3, activation=\"relu\"),\n",
        "  Conv2D(10,3, activation=\"relu\"),\n",
        "  Flatten(),\n",
        "  Dense(1, activation=\"sigmoid\")\n",
        "])\n",
        "\n",
        "# Compile model\n",
        "model_4.compile(loss=\"binary_crossentropy\",\n",
        "                optimizer=Adam(),\n",
        "                metrics=[\"accuracy\"])\n",
        "# fit the model\n",
        "history_4 = model_4.fit(train_data,\n",
        "                      epochs=10,\n",
        "                      steps_per_epoch=len(train_data),\n",
        "                      validation_data=test_data,\n",
        "                      validation_steps=len(test_data))"
      ],
      "metadata": {
        "colab": {
          "base_uri": "https://localhost:8080/"
        },
        "id": "1Z1bNliqbEaF",
        "outputId": "cd5f6887-3b80-4711-f8b6-445ced489485"
      },
      "execution_count": 80,
      "outputs": [
        {
          "output_type": "stream",
          "name": "stdout",
          "text": [
            "Epoch 1/10\n",
            "47/47 [==============================] - 10s 212ms/step - loss: 1.5205 - accuracy: 0.6240 - val_loss: 0.5417 - val_accuracy: 0.7620\n",
            "Epoch 2/10\n",
            "47/47 [==============================] - 9s 199ms/step - loss: 0.4893 - accuracy: 0.7873 - val_loss: 0.4204 - val_accuracy: 0.8060\n",
            "Epoch 3/10\n",
            "47/47 [==============================] - 9s 198ms/step - loss: 0.3780 - accuracy: 0.8333 - val_loss: 0.3959 - val_accuracy: 0.8340\n",
            "Epoch 4/10\n",
            "47/47 [==============================] - 9s 198ms/step - loss: 0.2139 - accuracy: 0.9293 - val_loss: 0.4619 - val_accuracy: 0.7940\n",
            "Epoch 5/10\n",
            "47/47 [==============================] - 9s 199ms/step - loss: 0.0751 - accuracy: 0.9820 - val_loss: 0.5316 - val_accuracy: 0.7920\n",
            "Epoch 6/10\n",
            "47/47 [==============================] - 9s 200ms/step - loss: 0.0235 - accuracy: 0.9973 - val_loss: 0.5328 - val_accuracy: 0.8220\n",
            "Epoch 7/10\n",
            "47/47 [==============================] - 9s 200ms/step - loss: 0.0149 - accuracy: 0.9973 - val_loss: 0.7533 - val_accuracy: 0.7840\n",
            "Epoch 8/10\n",
            "47/47 [==============================] - 9s 199ms/step - loss: 0.0239 - accuracy: 0.9973 - val_loss: 1.1596 - val_accuracy: 0.7380\n",
            "Epoch 9/10\n",
            "47/47 [==============================] - 9s 200ms/step - loss: 0.0058 - accuracy: 0.9993 - val_loss: 0.8539 - val_accuracy: 0.8000\n",
            "Epoch 10/10\n",
            "47/47 [==============================] - 9s 200ms/step - loss: 0.0010 - accuracy: 1.0000 - val_loss: 0.9749 - val_accuracy: 0.7880\n"
          ]
        }
      ]
    },
    {
      "cell_type": "code",
      "source": [
        "import pandas as pd\n",
        "pd.DataFrame(history_4.history).plot(figsize=(10,7));"
      ],
      "metadata": {
        "colab": {
          "base_uri": "https://localhost:8080/",
          "height": 428
        },
        "id": "GozKomNHbEc_",
        "outputId": "2fce0ef8-74b1-4a9f-be40-fab3b4a5448f"
      },
      "execution_count": 81,
      "outputs": [
        {
          "output_type": "display_data",
          "data": {
            "text/plain": [
              "<Figure size 720x504 with 1 Axes>"
            ],
            "image/png": "[encoded data removed]"
          },
          "metadata": {
            "needs_background": "light"
          }
        }
      ]
    },
    {
      "cell_type": "code",
      "source": [
        "def plot_loss_curves(history):\n",
        "  loss = history.history[\"loss\"]\n",
        "  val_loss = history.history[\"val_loss\"]\n",
        "\n",
        "  accuracy = history.history[\"accuracy\"]\n",
        "  val_accuracy = history.history[\"val_accuracy\"]\n",
        "\n",
        "  epochs = range(len(history.history[\"accuracy\"])) # cualquiera\n",
        "\n",
        "  # plot loss\n",
        "  plt.plot(epochs, loss, label=\"training_loss\")\n",
        "  plt.plot(epochs, val_loss, label=\"val_loss\")\n",
        "  plt.title(\"Loss\")\n",
        "  plt.xlabel(\"Epochs\")\n",
        "  plt.legend()\n",
        "\n",
        "  # Plot accuracy\n",
        "  plt.figure()\n",
        "  plt.plot(epochs, accuracy, label=\"training_accuracy\")\n",
        "  plt.plot(epochs, val_accuracy, label=\"val_accuracy\")\n",
        "  plt.title(\"Accuracy\")\n",
        "  plt.xlabel(\"Epochs\")\n",
        "  plt.legend();"
      ],
      "metadata": {
        "id": "5PTjXbbNbEf9"
      },
      "execution_count": 82,
      "outputs": []
    },
    {
      "cell_type": "code",
      "source": [
        "plot_loss_curves(history_4)"
      ],
      "metadata": {
        "colab": {
          "base_uri": "https://localhost:8080/",
          "height": 573
        },
        "id": "kT0x3V_0_w9F",
        "outputId": "64b82f18-2749-46c0-8b8f-75ecc4ec443c"
      },
      "execution_count": 83,
      "outputs": [
        {
          "output_type": "display_data",
          "data": {
            "text/plain": [
              "<Figure size 432x288 with 1 Axes>"
            ],
            "image/png": "[encoded data removed]"
          },
          "metadata": {
            "needs_background": "light"
          }
        },
        {
          "output_type": "display_data",
          "data": {
            "text/plain": [
              "<Figure size 432x288 with 1 Axes>"
            ],
            "image/png": "[encoded data removed]"
          },
          "metadata": {
            "needs_background": "light"
          }
        }
      ]
    },
    {
      "cell_type": "code",
      "source": [
        "model_4.summary()"
      ],
      "metadata": {
        "colab": {
          "base_uri": "https://localhost:8080/"
        },
        "id": "09F2wbytAxGx",
        "outputId": "531c05fe-448a-4368-8316-7103af1d6353"
      },
      "execution_count": 84,
      "outputs": [
        {
          "output_type": "stream",
          "name": "stdout",
          "text": [
            "Model: \"sequential_8\"\n",
            "_________________________________________________________________\n",
            " Layer (type)                Output Shape              Param #   \n",
            "=================================================================\n",
            " conv2d_14 (Conv2D)          (None, 222, 222, 10)      280       \n",
            "                                                                 \n",
            " conv2d_15 (Conv2D)          (None, 220, 220, 10)      910       \n",
            "                                                                 \n",
            " conv2d_16 (Conv2D)          (None, 218, 218, 10)      910       \n",
            "                                                                 \n",
            " flatten_8 (Flatten)         (None, 475240)            0         \n",
            "                                                                 \n",
            " dense_18 (Dense)            (None, 1)                 475241    \n",
            "                                                                 \n",
            "=================================================================\n",
            "Total params: 477,341\n",
            "Trainable params: 477,341\n",
            "Non-trainable params: 0\n",
            "_________________________________________________________________\n"
          ]
        }
      ]
    },
    {
      "cell_type": "markdown",
      "source": [
        "# Adjust the model parameters\n",
        "\n",
        "1. Create a baseline\n",
        "2. Beat the baseline by overfitting a larger model\n",
        "3. Reduce overfitting \n",
        "\n",
        "and there are few more things that we can try to overfit our model:\n",
        "* Increase convolutional layers\n",
        "* Increase convolutional filters\n",
        "* Add another dense layer to the output of our flattened layer\n",
        "\n",
        "\n",
        "We will build:\n",
        "* A Convnet with max pooling\n",
        "* A Convnet with max pooling and data augmentation\n"
      ],
      "metadata": {
        "id": "f-omsAakAxL6"
      }
    },
    {
      "cell_type": "markdown",
      "source": [
        "## Model 5"
      ],
      "metadata": {
        "id": "ivjaxNEfAxQu"
      }
    },
    {
      "cell_type": "code",
      "source": [
        "# 0. seet seed\n",
        "tf.random.set_seed(42)\n",
        "\n",
        "# create model\n",
        "model_5 = Sequential([\n",
        "  Conv2D(10, 3, activation=\"relu\", input_shape=(224, 224, 3)),\n",
        "  MaxPool2D(pool_size=2), # squeeze the features on the image\n",
        "  Conv2D(10, 3, activation=\"relu\"),\n",
        "  MaxPool2D(),\n",
        "  Conv2D(10, 3, activation=\"relu\"),\n",
        "  MaxPool2D(),\n",
        "  Flatten(),\n",
        "  Dense(1, activation=\"sigmoid\")\n",
        "])\n",
        "\n",
        "# compile model\n",
        "model_5.compile(loss=\"binary_crossentropy\",\n",
        "                optimizer=Adam(),\n",
        "                metrics=[\"accuracy\"])\n",
        "\n",
        "# Fit the model\n",
        "history_5 = model_5.fit(train_data,\n",
        "                        epochs=10,\n",
        "                        steps_per_epoch=len(train_data),\n",
        "                        validation_data=test_data,\n",
        "                        validation_steps=len(test_data))"
      ],
      "metadata": {
        "colab": {
          "base_uri": "https://localhost:8080/"
        },
        "id": "GZo8PczyAxU_",
        "outputId": "dac85c68-69ed-47b8-b229-b5e083b895ac"
      },
      "execution_count": 85,
      "outputs": [
        {
          "output_type": "stream",
          "name": "stdout",
          "text": [
            "Epoch 1/10\n",
            "47/47 [==============================] - 10s 199ms/step - loss: 0.5707 - accuracy: 0.7093 - val_loss: 0.4595 - val_accuracy: 0.7920\n",
            "Epoch 2/10\n",
            "47/47 [==============================] - 9s 190ms/step - loss: 0.4605 - accuracy: 0.7860 - val_loss: 0.3926 - val_accuracy: 0.8200\n",
            "Epoch 3/10\n",
            "47/47 [==============================] - 9s 190ms/step - loss: 0.4131 - accuracy: 0.8140 - val_loss: 0.3505 - val_accuracy: 0.8420\n",
            "Epoch 4/10\n",
            "47/47 [==============================] - 9s 191ms/step - loss: 0.3997 - accuracy: 0.8193 - val_loss: 0.3872 - val_accuracy: 0.8240\n",
            "Epoch 5/10\n",
            "47/47 [==============================] - 9s 190ms/step - loss: 0.3780 - accuracy: 0.8393 - val_loss: 0.3181 - val_accuracy: 0.8580\n",
            "Epoch 6/10\n",
            "47/47 [==============================] - 9s 191ms/step - loss: 0.3465 - accuracy: 0.8533 - val_loss: 0.3138 - val_accuracy: 0.8640\n",
            "Epoch 7/10\n",
            "47/47 [==============================] - 9s 192ms/step - loss: 0.3600 - accuracy: 0.8433 - val_loss: 0.2890 - val_accuracy: 0.8940\n",
            "Epoch 8/10\n",
            "47/47 [==============================] - 9s 190ms/step - loss: 0.3236 - accuracy: 0.8667 - val_loss: 0.2813 - val_accuracy: 0.8920\n",
            "Epoch 9/10\n",
            "47/47 [==============================] - 9s 191ms/step - loss: 0.3229 - accuracy: 0.8653 - val_loss: 0.2738 - val_accuracy: 0.8960\n",
            "Epoch 10/10\n",
            "47/47 [==============================] - 9s 191ms/step - loss: 0.3201 - accuracy: 0.8640 - val_loss: 0.3056 - val_accuracy: 0.8640\n"
          ]
        }
      ]
    },
    {
      "cell_type": "code",
      "source": [
        "model_5.summary()"
      ],
      "metadata": {
        "colab": {
          "base_uri": "https://localhost:8080/"
        },
        "id": "YeP9FpFtNT6v",
        "outputId": "2cb92096-d74e-4c36-de5a-e995686badb1"
      },
      "execution_count": 86,
      "outputs": [
        {
          "output_type": "stream",
          "name": "stdout",
          "text": [
            "Model: \"sequential_9\"\n",
            "_________________________________________________________________\n",
            " Layer (type)                Output Shape              Param #   \n",
            "=================================================================\n",
            " conv2d_17 (Conv2D)          (None, 222, 222, 10)      280       \n",
            "                                                                 \n",
            " max_pooling2d_7 (MaxPooling  (None, 111, 111, 10)     0         \n",
            " 2D)                                                             \n",
            "                                                                 \n",
            " conv2d_18 (Conv2D)          (None, 109, 109, 10)      910       \n",
            "                                                                 \n",
            " max_pooling2d_8 (MaxPooling  (None, 54, 54, 10)       0         \n",
            " 2D)                                                             \n",
            "                                                                 \n",
            " conv2d_19 (Conv2D)          (None, 52, 52, 10)        910       \n",
            "                                                                 \n",
            " max_pooling2d_9 (MaxPooling  (None, 26, 26, 10)       0         \n",
            " 2D)                                                             \n",
            "                                                                 \n",
            " flatten_9 (Flatten)         (None, 6760)              0         \n",
            "                                                                 \n",
            " dense_19 (Dense)            (None, 1)                 6761      \n",
            "                                                                 \n",
            "=================================================================\n",
            "Total params: 8,861\n",
            "Trainable params: 8,861\n",
            "Non-trainable params: 0\n",
            "_________________________________________________________________\n"
          ]
        }
      ]
    },
    {
      "cell_type": "code",
      "source": [
        "model_4.summary()"
      ],
      "metadata": {
        "colab": {
          "base_uri": "https://localhost:8080/"
        },
        "id": "zUp5DqSFQQTy",
        "outputId": "ec460f97-277e-430d-a1ed-87723c744441"
      },
      "execution_count": 88,
      "outputs": [
        {
          "output_type": "stream",
          "name": "stdout",
          "text": [
            "Model: \"sequential_8\"\n",
            "_________________________________________________________________\n",
            " Layer (type)                Output Shape              Param #   \n",
            "=================================================================\n",
            " conv2d_14 (Conv2D)          (None, 222, 222, 10)      280       \n",
            "                                                                 \n",
            " conv2d_15 (Conv2D)          (None, 220, 220, 10)      910       \n",
            "                                                                 \n",
            " conv2d_16 (Conv2D)          (None, 218, 218, 10)      910       \n",
            "                                                                 \n",
            " flatten_8 (Flatten)         (None, 475240)            0         \n",
            "                                                                 \n",
            " dense_18 (Dense)            (None, 1)                 475241    \n",
            "                                                                 \n",
            "=================================================================\n",
            "Total params: 477,341\n",
            "Trainable params: 477,341\n",
            "Non-trainable params: 0\n",
            "_________________________________________________________________\n"
          ]
        }
      ]
    },
    {
      "cell_type": "code",
      "source": [
        "plot_loss_curves(history_5)"
      ],
      "metadata": {
        "colab": {
          "base_uri": "https://localhost:8080/",
          "height": 573
        },
        "id": "bgtSPK3lNT-_",
        "outputId": "0bc8646d-6e60-4875-f6f0-dc1face96fc4"
      },
      "execution_count": 87,
      "outputs": [
        {
          "output_type": "display_data",
          "data": {
            "text/plain": [
              "<Figure size 432x288 with 1 Axes>"
            ],
            "image/png": "[encoded data removed]"
          },
          "metadata": {
            "needs_background": "light"
          }
        },
        {
          "output_type": "display_data",
          "data": {
            "text/plain": [
              "<Figure size 432x288 with 1 Axes>"
            ],
            "image/png": "[encoded data removed]"
          },
          "metadata": {
            "needs_background": "light"
          }
        }
      ]
    },
    {
      "cell_type": "code",
      "source": [
        ""
      ],
      "metadata": {
        "id": "UkW_LIXRNUDO"
      },
      "execution_count": 85,
      "outputs": []
    },
    {
      "cell_type": "code",
      "source": [
        ""
      ],
      "metadata": {
        "id": "CKWWOc6uNUFt"
      },
      "execution_count": 85,
      "outputs": []
    },
    {
      "cell_type": "code",
      "source": [
        ""
      ],
      "metadata": {
        "id": "fnk6w2gD_xBg"
      },
      "execution_count": 85,
      "outputs": []
    }
  ]
}