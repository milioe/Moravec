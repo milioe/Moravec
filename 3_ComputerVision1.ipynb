{
  "nbformat": 4,
  "nbformat_minor": 0,
  "metadata": {
    "colab": {
      "name": "3_ComputerVision1.ipynb",
      "provenance": [],
      "collapsed_sections": [],
      "authorship_tag": "ABX9TyPt3zSLelpWkqMt2G2c/lm8",
      "include_colab_link": true
    },
    "kernelspec": {
      "name": "python3",
      "display_name": "Python 3"
    },
    "language_info": {
      "name": "python"
    },
    "accelerator": "GPU",
    "gpuClass": "standard"
  },
  "cells": [
    {
      "cell_type": "markdown",
      "metadata": {
        "id": "view-in-github",
        "colab_type": "text"
      },
      "source": [
        "<a href=\"https://colab.research.google.com/github/milioe/Moravec/blob/main/3_ComputerVision1.ipynb\" target=\"_parent\"><img src=\"https://colab.research.google.com/assets/colab-badge.svg\" alt=\"Open In Colab\"/></a>"
      ]
    },
    {
      "cell_type": "markdown",
      "source": [
        "# Convolutional Neural Networks and Computer Vision with TF"
      ],
      "metadata": {
        "id": "87Em_OHSFEoS"
      }
    },
    {
      "cell_type": "markdown",
      "source": [
        "* [`Pizza link`](https://storage.googleapis.com/ztm_tf_course/food_vision/pizza_steak.zip)\n",
        "\n",
        "* [`10 food all classes`](10_food_classes_all_data)"
      ],
      "metadata": {
        "id": "IjRMgQVpG3kY"
      }
    },
    {
      "cell_type": "markdown",
      "source": [
        "What we are going to cover:\n",
        "* Getting a dataset\n",
        "* Architecture of Convolutional Neural Network\n",
        "* Quick end-to-end example\n",
        "* Steps in modelling for binary image classification\n",
        "  * Preparing data\n",
        "  * Creating CNN Architecture\n",
        "  * Fitting a model\n",
        "  * Evaluating a model\n",
        "  * Improving a model\n",
        "  * Making a prediction\n",
        "* Steps in modelling for multi-class image classification\n"
      ],
      "metadata": {
        "id": "KSG9csqDG3yv"
      }
    },
    {
      "cell_type": "markdown",
      "source": [
        "# Getting data"
      ],
      "metadata": {
        "id": "vM2RrX2zHib4"
      }
    },
    {
      "cell_type": "markdown",
      "source": [
        "We take a preprocessed dataset taken from [`Food 101 image dataset`](https://data.vision.ee.ethz.ch/cvl/datasets_extra/food-101/)"
      ],
      "metadata": {
        "id": "SOx0Lq2NG32q"
      }
    },
    {
      "cell_type": "code",
      "source": [
        "import zipfile"
      ],
      "metadata": {
        "id": "0hV9UFa_G36j"
      },
      "execution_count": 17,
      "outputs": []
    },
    {
      "cell_type": "code",
      "source": [
        "!wget https://storage.googleapis.com/ztm_tf_course/food_vision/pizza_steak.zip"
      ],
      "metadata": {
        "colab": {
          "base_uri": "https://localhost:8080/"
        },
        "id": "eexVodbiG3-b",
        "outputId": "d5e7696b-6a59-45e3-d5ba-a2484817d3d5"
      },
      "execution_count": 18,
      "outputs": [
        {
          "output_type": "stream",
          "name": "stdout",
          "text": [
            "--2022-06-29 02:13:45--  https://storage.googleapis.com/ztm_tf_course/food_vision/pizza_steak.zip\n",
            "Resolving storage.googleapis.com (storage.googleapis.com)... 172.217.194.128, 142.250.4.128, 74.125.200.128, ...\n",
            "Connecting to storage.googleapis.com (storage.googleapis.com)|172.217.194.128|:443... connected.\n",
            "HTTP request sent, awaiting response... 200 OK\n",
            "Length: 109540975 (104M) [application/zip]\n",
            "Saving to: ‘pizza_steak.zip.1’\n",
            "\n",
            "pizza_steak.zip.1   100%[===================>] 104.47M   112MB/s    in 0.9s    \n",
            "\n",
            "2022-06-29 02:13:46 (112 MB/s) - ‘pizza_steak.zip.1’ saved [109540975/109540975]\n",
            "\n"
          ]
        }
      ]
    },
    {
      "cell_type": "code",
      "source": [
        "zip_ref = zipfile.ZipFile(\"pizza_steak.zip\", \"r\")\n",
        "zip_ref.extractall()\n",
        "zip_ref.close()"
      ],
      "metadata": {
        "id": "x7l16oZKG4A6"
      },
      "execution_count": 19,
      "outputs": []
    },
    {
      "cell_type": "code",
      "source": [
        "!ls "
      ],
      "metadata": {
        "colab": {
          "base_uri": "https://localhost:8080/"
        },
        "id": "BvwJf_whQFAO",
        "outputId": "13142051-ed8a-4859-d7c0-88b228c98d09"
      },
      "execution_count": 20,
      "outputs": [
        {
          "output_type": "stream",
          "name": "stdout",
          "text": [
            "pizza_steak  pizza_steak.zip  pizza_steak.zip.1  sample_data\n"
          ]
        }
      ]
    },
    {
      "cell_type": "code",
      "source": [
        "!ls pizza_steak/"
      ],
      "metadata": {
        "colab": {
          "base_uri": "https://localhost:8080/"
        },
        "id": "X-L6BxpgQFEc",
        "outputId": "653c5eec-a451-4a96-956f-6213c4015190"
      },
      "execution_count": 21,
      "outputs": [
        {
          "output_type": "stream",
          "name": "stdout",
          "text": [
            "test  train\n"
          ]
        }
      ]
    },
    {
      "cell_type": "code",
      "source": [
        "!ls pizza_steak/test/steak"
      ],
      "metadata": {
        "colab": {
          "base_uri": "https://localhost:8080/"
        },
        "id": "d-n_wQJeQFHh",
        "outputId": "689374ee-5768-4f20-a384-368e002e859a"
      },
      "execution_count": 22,
      "outputs": [
        {
          "output_type": "stream",
          "name": "stdout",
          "text": [
            "100274.jpg   1653815.jpg  2307638.jpg  2944161.jpg  3622237.jpg  638678.jpg\n",
            "1012080.jpg  1655387.jpg  2308682.jpg  2945937.jpg  365725.jpg\t 640024.jpg\n",
            "1016217.jpg  1662212.jpg  2315011.jpg  296375.jpg   3662612.jpg  647683.jpg\n",
            "1064847.jpg  168551.jpg   2339231.jpg  2981911.jpg  367422.jpg\t 653303.jpg\n",
            "1082384.jpg  1687010.jpg  2353677.jpg  2984679.jpg  3681340.jpg  66183.jpg\n",
            "108310.jpg   1718949.jpg  2365038.jpg  2989645.jpg  3753767.jpg  66207.jpg\n",
            "1094883.jpg  1778186.jpg  2372048.jpg  3013185.jpg  3757027.jpg  66858.jpg\n",
            "1107549.jpg  1792128.jpg  2382600.jpg  3013404.jpg  378397.jpg\t 670345.jpg\n",
            "1118585.jpg  1794566.jpg  2416973.jpg  3029602.jpg  3786535.jpg  673127.jpg\n",
            "1163050.jpg  1848046.jpg  2475366.jpg  3048920.jpg  3835895.jpg  690177.jpg\n",
            "1166047.jpg  1848936.jpg  2484823.jpg  3060047.jpg  3842125.jpg  690477.jpg\n",
            "1190808.jpg  1868005.jpg  2510026.jpg  3062369.jpg  3873283.jpg  697562.jpg\n",
            "1194662.jpg  1872368.jpg  2512387.jpg  3063435.jpg  3873655.jpg  7056.jpg\n",
            "1206166.jpg  1874088.jpg  2545411.jpg  3088325.jpg  3901703.jpg  717293.jpg\n",
            "1225389.jpg  1879697.jpg  2576310.jpg  30892.jpg    3903517.jpg  721500.jpg\n",
            "1259789.jpg  1882831.jpg  2600656.jpg  3100563.jpg  3905395.jpg  730464.jpg\n",
            "1274725.jpg  1902895.jpg  2619782.jpg  3137334.jpg  391144.jpg\t 746921.jpg\n",
            "1285886.jpg  1951003.jpg  2649745.jpg  3138001.jpg  39461.jpg\t 766575.jpg\n",
            "1288129.jpg  1956040.jpg  2685931.jpg  3173402.jpg  399377.jpg\t 776184.jpg\n",
            "1288540.jpg  1972463.jpg  2716791.jpg  321090.jpg   400530.jpg\t 787462.jpg\n",
            "13023.jpg    1982192.jpg  2720938.jpg  3235645.jpg  400951.jpg\t 790544.jpg\n",
            "1302563.jpg  1983405.jpg  2726773.jpg  324862.jpg   401660.jpg\t 831681.jpg\n",
            "1319758.jpg  2014349.jpg  2738323.jpg  3293212.jpg  40947.jpg\t 835871.jpg\n",
            "1335842.jpg  2056621.jpg  27415.jpg    3293650.jpg  413497.jpg\t 847477.jpg\n",
            "1342025.jpg  2061929.jpg  2752603.jpg  3297938.jpg  429304.jpg\t 864661.jpg\n",
            "1352319.jpg  2069289.jpg  2756200.jpg  3315737.jpg  459522.jpg\t 867610.jpg\n",
            "13719.jpg    2071320.jpg  2772358.jpg  3343970.jpg  476333.jpg\t 86782.jpg\n",
            "1375503.jpg  2077577.jpg  277297.jpg   3352834.jpg  481867.jpg\t 87246.jpg\n",
            "1379840.jpg  2092345.jpg  2802460.jpg  3383942.jpg  48208.jpg\t 894825.jpg\n",
            "138754.jpg   2117351.jpg  2814314.jpg  3424937.jpg  4889.jpg\t 902211.jpg\n",
            "1403881.jpg  2138503.jpg  281731.jpg   3444448.jpg  502076.jpg\t 904856.jpg\n",
            "1415873.jpg  2144308.jpg  2821155.jpg  347745.jpg   504349.jpg\t 906508.jpg\n",
            "144370.jpg   219196.jpg   2824517.jpg  3479599.jpg  515830.jpg\t 90930.jpg\n",
            "1449248.jpg  2193535.jpg  2825105.jpg  3497585.jpg  526186.jpg\t 912108.jpg\n",
            "1451299.jpg  2198931.jpg  284097.jpg   3503350.jpg  550687.jpg\t 918793.jpg\n",
            "1482489.jpg  221604.jpg   2843725.jpg  3504515.jpg  552171.jpg\t 926656.jpg\n",
            "148595.jpg   2229090.jpg  285269.jpg   3541033.jpg  562855.jpg\t 928920.jpg\n",
            "1498778.jpg  2246332.jpg  2861000.jpg  354513.jpg   565095.jpg\t 958704.jpg\n",
            "1499273.jpg  2276476.jpg  289822.jpg   3548389.jpg  595836.jpg\t 966174.jpg\n",
            "1515274.jpg  2285106.jpg  290406.jpg   3553838.jpg  603417.jpg\t 970916.jpg\n",
            "1523026.jpg  228683.jpg   2921355.jpg  3576324.jpg  60819.jpg\n",
            "1627703.jpg  2293470.jpg  2943601.jpg  36042.jpg    6261.jpg\n"
          ]
        }
      ]
    },
    {
      "cell_type": "code",
      "source": [
        "import os # move through os system or files\n",
        "num_steak_images_train = len(os.listdir(\"pizza_steak/train/steak\"))\n",
        "\n",
        "num_steak_images_train"
      ],
      "metadata": {
        "colab": {
          "base_uri": "https://localhost:8080/"
        },
        "id": "9az2nBiIQyIG",
        "outputId": "935352c5-32d2-4bc1-e28c-01abc85a038e"
      },
      "execution_count": 23,
      "outputs": [
        {
          "output_type": "execute_result",
          "data": {
            "text/plain": [
              "750"
            ]
          },
          "metadata": {},
          "execution_count": 23
        }
      ]
    },
    {
      "cell_type": "code",
      "source": [
        "import pathlib \n",
        "import numpy as np\n",
        "\n",
        "data_dir = pathlib.Path(\"pizza_steak/train\")\n",
        "class_names = np.array(sorted([item.name for item in data_dir.glob(\"*\")]))\n",
        "print(class_names)"
      ],
      "metadata": {
        "colab": {
          "base_uri": "https://localhost:8080/"
        },
        "id": "Ww5l6kpqQyLm",
        "outputId": "df495cec-37c0-4300-a138-81073cc34998"
      },
      "execution_count": 24,
      "outputs": [
        {
          "output_type": "stream",
          "name": "stdout",
          "text": [
            "['pizza' 'steak']\n"
          ]
        }
      ]
    },
    {
      "cell_type": "code",
      "source": [
        "# View images\n",
        "import matplotlib.pyplot as plt\n",
        "import matplotlib.image as mpimg\n",
        "import random\n",
        "\n",
        "def view_random(target_dir, target_class):\n",
        "  target_folder = target_dir+target_class\n",
        "\n",
        "  random_image = random.sample(os.listdir(target_folder), 1)\n",
        "\n",
        "  img = mpimg.imread(target_folder + \"/\" + random_image[0]) # target_folder/test/00001.jpg\n",
        "  plt.imshow(img)\n",
        "  plt.title(target_class)\n",
        "  plt.axis(\"off\")\n",
        "\n",
        "  print(f\"Image shape: {img.shape}\")\n",
        "\n",
        "  return img\n",
        "\n"
      ],
      "metadata": {
        "id": "drTVf8GgQyOP"
      },
      "execution_count": 25,
      "outputs": []
    },
    {
      "cell_type": "code",
      "source": [
        "img = view_random(target_dir=\"pizza_steak/train/\",\n",
        "                  target_class=\"pizza\")"
      ],
      "metadata": {
        "colab": {
          "base_uri": "https://localhost:8080/",
          "height": 281
        },
        "id": "wQE38MKvQyQe",
        "outputId": "466b23b7-4a3e-45ec-94c7-416a33a2ad8f"
      },
      "execution_count": 26,
      "outputs": [
        {
          "output_type": "stream",
          "name": "stdout",
          "text": [
            "Image shape: (512, 512, 3)\n"
          ]
        },
        {
          "output_type": "display_data",
          "data": {
            "text/plain": [
              "<Figure size 432x288 with 1 Axes>"
            ],
            "image/png": "[encoded data removed]"
          },
          "metadata": {
            "needs_background": "light"
          }
        }
      ]
    },
    {
      "cell_type": "code",
      "source": [
        "img"
      ],
      "metadata": {
        "colab": {
          "base_uri": "https://localhost:8080/"
        },
        "id": "ORTnFDvKS5YF",
        "outputId": "c9adc057-31fc-40ba-8cf7-ac253b0e5203"
      },
      "execution_count": 27,
      "outputs": [
        {
          "output_type": "execute_result",
          "data": {
            "text/plain": [
              "array([[[ 0,  0,  2],\n",
              "        [ 0,  0,  2],\n",
              "        [ 0,  0,  2],\n",
              "        ...,\n",
              "        [94, 69, 38],\n",
              "        [93, 68, 37],\n",
              "        [93, 68, 37]],\n",
              "\n",
              "       [[ 0,  0,  2],\n",
              "        [ 0,  0,  2],\n",
              "        [ 0,  0,  2],\n",
              "        ...,\n",
              "        [97, 72, 41],\n",
              "        [96, 71, 40],\n",
              "        [96, 71, 40]],\n",
              "\n",
              "       [[ 0,  0,  2],\n",
              "        [ 0,  0,  2],\n",
              "        [ 0,  0,  2],\n",
              "        ...,\n",
              "        [99, 74, 43],\n",
              "        [99, 74, 43],\n",
              "        [98, 73, 42]],\n",
              "\n",
              "       ...,\n",
              "\n",
              "       [[32,  0,  1],\n",
              "        [32,  0,  1],\n",
              "        [32,  0,  1],\n",
              "        ...,\n",
              "        [58, 31, 10],\n",
              "        [63, 37, 14],\n",
              "        [63, 37, 14]],\n",
              "\n",
              "       [[33,  1,  2],\n",
              "        [33,  1,  2],\n",
              "        [32,  0,  1],\n",
              "        ...,\n",
              "        [56, 29,  8],\n",
              "        [63, 37, 14],\n",
              "        [63, 37, 14]],\n",
              "\n",
              "       [[36,  2,  3],\n",
              "        [33,  1,  2],\n",
              "        [32,  0,  1],\n",
              "        ...,\n",
              "        [55, 28,  7],\n",
              "        [62, 36, 13],\n",
              "        [62, 36, 13]]], dtype=uint8)"
            ]
          },
          "metadata": {},
          "execution_count": 27
        }
      ]
    },
    {
      "cell_type": "code",
      "source": [
        "img/255.0"
      ],
      "metadata": {
        "colab": {
          "base_uri": "https://localhost:8080/"
        },
        "id": "6W7J__e-S5aT",
        "outputId": "21305105-2729-448b-80d4-e100195f2c44"
      },
      "execution_count": 28,
      "outputs": [
        {
          "output_type": "execute_result",
          "data": {
            "text/plain": [
              "array([[[0.        , 0.        , 0.00784314],\n",
              "        [0.        , 0.        , 0.00784314],\n",
              "        [0.        , 0.        , 0.00784314],\n",
              "        ...,\n",
              "        [0.36862745, 0.27058824, 0.14901961],\n",
              "        [0.36470588, 0.26666667, 0.14509804],\n",
              "        [0.36470588, 0.26666667, 0.14509804]],\n",
              "\n",
              "       [[0.        , 0.        , 0.00784314],\n",
              "        [0.        , 0.        , 0.00784314],\n",
              "        [0.        , 0.        , 0.00784314],\n",
              "        ...,\n",
              "        [0.38039216, 0.28235294, 0.16078431],\n",
              "        [0.37647059, 0.27843137, 0.15686275],\n",
              "        [0.37647059, 0.27843137, 0.15686275]],\n",
              "\n",
              "       [[0.        , 0.        , 0.00784314],\n",
              "        [0.        , 0.        , 0.00784314],\n",
              "        [0.        , 0.        , 0.00784314],\n",
              "        ...,\n",
              "        [0.38823529, 0.29019608, 0.16862745],\n",
              "        [0.38823529, 0.29019608, 0.16862745],\n",
              "        [0.38431373, 0.28627451, 0.16470588]],\n",
              "\n",
              "       ...,\n",
              "\n",
              "       [[0.1254902 , 0.        , 0.00392157],\n",
              "        [0.1254902 , 0.        , 0.00392157],\n",
              "        [0.1254902 , 0.        , 0.00392157],\n",
              "        ...,\n",
              "        [0.22745098, 0.12156863, 0.03921569],\n",
              "        [0.24705882, 0.14509804, 0.05490196],\n",
              "        [0.24705882, 0.14509804, 0.05490196]],\n",
              "\n",
              "       [[0.12941176, 0.00392157, 0.00784314],\n",
              "        [0.12941176, 0.00392157, 0.00784314],\n",
              "        [0.1254902 , 0.        , 0.00392157],\n",
              "        ...,\n",
              "        [0.21960784, 0.11372549, 0.03137255],\n",
              "        [0.24705882, 0.14509804, 0.05490196],\n",
              "        [0.24705882, 0.14509804, 0.05490196]],\n",
              "\n",
              "       [[0.14117647, 0.00784314, 0.01176471],\n",
              "        [0.12941176, 0.00392157, 0.00784314],\n",
              "        [0.1254902 , 0.        , 0.00392157],\n",
              "        ...,\n",
              "        [0.21568627, 0.10980392, 0.02745098],\n",
              "        [0.24313725, 0.14117647, 0.05098039],\n",
              "        [0.24313725, 0.14117647, 0.05098039]]])"
            ]
          },
          "metadata": {},
          "execution_count": 28
        }
      ]
    },
    {
      "cell_type": "markdown",
      "source": [
        "## Resources:\n",
        "* [CNN Explainer](https://poloclub.github.io/cnn-explainer/)\n",
        "* [Explained Visually](https://setosa.io/ev/image-kernels/)\n",
        "* [Food 101](https://data.vision.ee.ethz.ch/cvl/datasets_extra/food-101/)\n",
        "* [Distil Pub](https://distill.pub/)\n",
        "* [A guide to convolution arithmetic for deep learning](https://arxiv.org/pdf/1603.07285.pdf)"
      ],
      "metadata": {
        "id": "gZ_LQeGNWWvI"
      }
    },
    {
      "cell_type": "markdown",
      "source": [
        "🚨 **Baseline_** 50.76% random forest accuracy"
      ],
      "metadata": {
        "id": "T1RBPVzZWWyl"
      }
    },
    {
      "cell_type": "markdown",
      "source": [
        "## Hyperparameters\n",
        "\n",
        "* `2D` - means `x`, `y`, two dimensional (height, width), even tough we have 3 color channels\n",
        "* `kernel_size`- size of our filter \n",
        "* `filter` - **feature extractor**\n",
        "* `stride` - the number of pixels a filter will move across as it covers the image\n",
        "* `padding` - it can be either `same` or `valid`\n",
        "  * `same` = adds zeros to the outside\n",
        "  * `valid` = adds cuts off excess pixels where the filter doesn't fit (e.g. 224 pixels wide divided by a kernel sixe of 3 (224/3=74.6) means a single pixel will get cut off of the end)"
      ],
      "metadata": {
        "id": "OupAMH0GkA0E"
      }
    },
    {
      "cell_type": "code",
      "source": [
        "import tensorflow as tf\n",
        "from tensorflow.keras.preprocessing.image import ImageDataGenerator\n",
        "\n",
        "# 0. Set random seed\n",
        "tf.random.set_seed(42)\n",
        "\n",
        "## IMAGE PREPROCESSING ##\n",
        "# a. Preprocess data (get all pixels between 0 and 1)\n",
        "train_datagen = ImageDataGenerator(rescale=1/255)\n",
        "valid_datagen = ImageDataGenerator(rescale=1/255)\n",
        "\n",
        "# b. Setup train and test directories\n",
        "train_dir = \"pizza_steak/train/\"\n",
        "test_dir = \"pizza_steak/test/\"\n",
        "\n",
        "# c. Import data from directories (X_train, y_train)\n",
        "train_data = train_datagen.flow_from_directory(train_dir,\n",
        "                                               batch_size=32,\n",
        "                                               target_size=(224, 224), # image pixels\n",
        "                                               class_mode=\"binary\", # pizza vs steak\n",
        "                                               seed=42)\n",
        "# (X_test, y_test) \n",
        "valid_data = valid_datagen.flow_from_directory(test_dir,\n",
        "                                              batch_size=32,\n",
        "                                              target_size=(224,224),\n",
        "                                              class_mode=\"binary\",\n",
        "                                              seed=42)\n",
        "\n",
        "# 1. Create a model\n",
        "model_1 = tf.keras.Sequential([\n",
        "  tf.keras.layers.Conv2D(filters=10,\n",
        "                         kernel_size=3,\n",
        "                         activation=\"relu\",\n",
        "                         input_shape=(224, 224,3)),\n",
        "  tf.keras.layers.Conv2D(10, 3, activation=\"relu\"),\n",
        "  tf.keras.layers.MaxPool2D(pool_size=2, padding=\"valid\"),\n",
        "  tf.keras.layers.Conv2D(10, 3, activation=\"relu\"),\n",
        "  tf.keras.layers.Conv2D(10, 3, activation=\"relu\"),\n",
        "  tf.keras.layers.MaxPool2D(2),\n",
        "  tf.keras.layers.Flatten(),\n",
        "  tf.keras.layers.Dense(1, activation=\"sigmoid\")\n",
        "])\n",
        "\n",
        "\n",
        "# 2. Compile the model\n",
        "model_1.compile(loss=\"binary_crossentropy\",\n",
        "                optimizer=tf.keras.optimizers.Adam(),\n",
        "                metrics=[\"accuracy\"])\n",
        "\n",
        "# 3. Fit model\n",
        "history_1 = model_1.fit(train_data,\n",
        "                        epochs=5,\n",
        "                        steps_per_epoch=len(train_data), # 47 # any number(:\n",
        "                        validation_data=valid_data,\n",
        "                        validation_steps=len(valid_data)) # 16\n",
        "\n"
      ],
      "metadata": {
        "colab": {
          "base_uri": "https://localhost:8080/"
        },
        "id": "GwY3NVhIWW1L",
        "outputId": "b234a494-e1ef-4d3c-8b44-7be8cf61ce24"
      },
      "execution_count": 29,
      "outputs": [
        {
          "output_type": "stream",
          "name": "stdout",
          "text": [
            "Found 1500 images belonging to 2 classes.\n",
            "Found 500 images belonging to 2 classes.\n",
            "Epoch 1/5\n",
            "47/47 [==============================] - 14s 295ms/step - loss: 0.5630 - accuracy: 0.7087 - val_loss: 0.4192 - val_accuracy: 0.8020\n",
            "Epoch 2/5\n",
            "47/47 [==============================] - 9s 189ms/step - loss: 0.4565 - accuracy: 0.7913 - val_loss: 0.3461 - val_accuracy: 0.8460\n",
            "Epoch 3/5\n",
            "47/47 [==============================] - 9s 189ms/step - loss: 0.3974 - accuracy: 0.8293 - val_loss: 0.3420 - val_accuracy: 0.8680\n",
            "Epoch 4/5\n",
            "47/47 [==============================] - 9s 190ms/step - loss: 0.3556 - accuracy: 0.8373 - val_loss: 0.3316 - val_accuracy: 0.8700\n",
            "Epoch 5/5\n",
            "47/47 [==============================] - 9s 190ms/step - loss: 0.3320 - accuracy: 0.8560 - val_loss: 0.3003 - val_accuracy: 0.8860\n"
          ]
        }
      ]
    },
    {
      "cell_type": "code",
      "source": [
        "len(train_data), len(valid_data)"
      ],
      "metadata": {
        "colab": {
          "base_uri": "https://localhost:8080/"
        },
        "id": "PgWQQVM4wf49",
        "outputId": "f4dba531-9670-49c0-ea45-400fc3b14954"
      },
      "execution_count": 30,
      "outputs": [
        {
          "output_type": "execute_result",
          "data": {
            "text/plain": [
              "(47, 16)"
            ]
          },
          "metadata": {},
          "execution_count": 30
        }
      ]
    },
    {
      "cell_type": "code",
      "source": [
        "model_1.summary()"
      ],
      "metadata": {
        "colab": {
          "base_uri": "https://localhost:8080/"
        },
        "id": "yfrfYRFmxlu_",
        "outputId": "5f1b745a-2b47-4e3b-b098-7fb1062a50b4"
      },
      "execution_count": 31,
      "outputs": [
        {
          "output_type": "stream",
          "name": "stdout",
          "text": [
            "Model: \"sequential_1\"\n",
            "_________________________________________________________________\n",
            " Layer (type)                Output Shape              Param #   \n",
            "=================================================================\n",
            " conv2d_4 (Conv2D)           (None, 222, 222, 10)      280       \n",
            "                                                                 \n",
            " conv2d_5 (Conv2D)           (None, 220, 220, 10)      910       \n",
            "                                                                 \n",
            " max_pooling2d_2 (MaxPooling  (None, 110, 110, 10)     0         \n",
            " 2D)                                                             \n",
            "                                                                 \n",
            " conv2d_6 (Conv2D)           (None, 108, 108, 10)      910       \n",
            "                                                                 \n",
            " conv2d_7 (Conv2D)           (None, 106, 106, 10)      910       \n",
            "                                                                 \n",
            " max_pooling2d_3 (MaxPooling  (None, 53, 53, 10)       0         \n",
            " 2D)                                                             \n",
            "                                                                 \n",
            " flatten_1 (Flatten)         (None, 28090)             0         \n",
            "                                                                 \n",
            " dense_1 (Dense)             (None, 1)                 28091     \n",
            "                                                                 \n",
            "=================================================================\n",
            "Total params: 31,101\n",
            "Trainable params: 31,101\n",
            "Non-trainable params: 0\n",
            "_________________________________________________________________\n"
          ]
        }
      ]
    },
    {
      "cell_type": "code",
      "source": [
        "model_1.evaluate(valid_data)"
      ],
      "metadata": {
        "colab": {
          "base_uri": "https://localhost:8080/"
        },
        "id": "Vxz8GMzqkA3J",
        "outputId": "9e778766-b88d-4c48-8ddf-a22197b74cb2"
      },
      "execution_count": 32,
      "outputs": [
        {
          "output_type": "stream",
          "name": "stdout",
          "text": [
            "16/16 [==============================] - 2s 132ms/step - loss: 0.3003 - accuracy: 0.8860\n"
          ]
        },
        {
          "output_type": "execute_result",
          "data": {
            "text/plain": [
              "[0.3002541661262512, 0.8859999775886536]"
            ]
          },
          "metadata": {},
          "execution_count": 32
        }
      ]
    },
    {
      "cell_type": "markdown",
      "source": [
        "## Model 2"
      ],
      "metadata": {
        "id": "QHgK64uDkA45"
      }
    },
    {
      "cell_type": "code",
      "source": [
        "# set random seed\n",
        "tf.random.set_seed(42)\n",
        "\n",
        "# 1. Create a model\n",
        "model_2 = tf.keras.Sequential([\n",
        "  tf.keras.layers.Flatten(input_shape=(224,224,3)),\n",
        "  tf.keras.layers.Dense(4, activation=\"relu\"),\n",
        "  tf.keras.layers.Dense(4, activation=\"relu\"),\n",
        "  tf.keras.layers.Dense(1, activation=\"sigmoid\"),\n",
        "])\n",
        "\n",
        "# 2 compile the model\n",
        "model_2.compile(loss=\"binary_crossentropy\",\n",
        "                optimizer=tf.keras.optimizers.Adam(lr=0.001),\n",
        "                metrics=[\"accuracy\"])\n",
        "\n",
        "# 3 Fit the model\n",
        "model_2.fit(train_data,\n",
        "            epochs=5,\n",
        "            steps_per_epoch=len(train_data), # lenght of train dataset = 47\n",
        "            validation_data=valid_data,\n",
        "            validation_steps=len(valid_data))"
      ],
      "metadata": {
        "colab": {
          "base_uri": "https://localhost:8080/"
        },
        "id": "eoOZnMF2OsCE",
        "outputId": "3b68bf48-eae8-4b5c-ced3-9cce923aba35"
      },
      "execution_count": 34,
      "outputs": [
        {
          "output_type": "stream",
          "name": "stdout",
          "text": [
            "Epoch 1/5\n"
          ]
        },
        {
          "output_type": "stream",
          "name": "stderr",
          "text": [
            "/usr/local/lib/python3.7/dist-packages/keras/optimizer_v2/adam.py:105: UserWarning: The `lr` argument is deprecated, use `learning_rate` instead.\n",
            "  super(Adam, self).__init__(name, **kwargs)\n"
          ]
        },
        {
          "output_type": "stream",
          "name": "stdout",
          "text": [
            "47/47 [==============================] - 9s 179ms/step - loss: 0.9543 - accuracy: 0.5013 - val_loss: 0.6932 - val_accuracy: 0.5000\n",
            "Epoch 2/5\n",
            "47/47 [==============================] - 8s 180ms/step - loss: 0.6932 - accuracy: 0.5000 - val_loss: 0.6932 - val_accuracy: 0.5000\n",
            "Epoch 3/5\n",
            "47/47 [==============================] - 9s 185ms/step - loss: 0.6932 - accuracy: 0.5000 - val_loss: 0.6932 - val_accuracy: 0.5000\n",
            "Epoch 4/5\n",
            "47/47 [==============================] - 8s 174ms/step - loss: 0.6932 - accuracy: 0.5000 - val_loss: 0.6932 - val_accuracy: 0.5000\n",
            "Epoch 5/5\n",
            "47/47 [==============================] - 8s 176ms/step - loss: 0.6932 - accuracy: 0.5000 - val_loss: 0.6932 - val_accuracy: 0.5000\n"
          ]
        },
        {
          "output_type": "execute_result",
          "data": {
            "text/plain": [
              "<keras.callbacks.History at 0x7fa6b72dcbd0>"
            ]
          },
          "metadata": {},
          "execution_count": 34
        }
      ]
    },
    {
      "cell_type": "code",
      "source": [
        "model_2.summary()"
      ],
      "metadata": {
        "colab": {
          "base_uri": "https://localhost:8080/"
        },
        "id": "vq7Byok2O38J",
        "outputId": "2ae199e4-1761-4fa0-f767-a35050c11803"
      },
      "execution_count": 35,
      "outputs": [
        {
          "output_type": "stream",
          "name": "stdout",
          "text": [
            "Model: \"sequential_2\"\n",
            "_________________________________________________________________\n",
            " Layer (type)                Output Shape              Param #   \n",
            "=================================================================\n",
            " flatten_2 (Flatten)         (None, 150528)            0         \n",
            "                                                                 \n",
            " dense_2 (Dense)             (None, 4)                 602116    \n",
            "                                                                 \n",
            " dense_3 (Dense)             (None, 4)                 20        \n",
            "                                                                 \n",
            " dense_4 (Dense)             (None, 1)                 5         \n",
            "                                                                 \n",
            "=================================================================\n",
            "Total params: 602,141\n",
            "Trainable params: 602,141\n",
            "Non-trainable params: 0\n",
            "_________________________________________________________________\n"
          ]
        }
      ]
    },
    {
      "cell_type": "markdown",
      "source": [
        "`model_1` has 31,101 trainable parameters\n",
        "\n",
        "`model_2` has 602,141 trainable parameters\n",
        "\n",
        "🔑 **Note**: Think of trainable parameters as *patterns* a model can learn from data (or from images). More layers (or units) does not mean more parameters. \n",
        "\n",
        "**Fully-connected layers** vs old architectures\n",
        "\n"
      ],
      "metadata": {
        "id": "pjZQuwzFO4EC"
      }
    },
    {
      "cell_type": "code",
      "source": [
        "# Set random seed\n",
        "tf.random.set_seed(42)\n",
        "\n",
        "# # Create model\n",
        "model_3 = tf.keras.Sequential([\n",
        "  tf.keras.layers.Flatten(input_shape=(224,224,3)),\n",
        "  tf.keras.layers.Dense(100, activation=\"relu\"),\n",
        "  tf.keras.layers.Dense(100, activation=\"relu\"),\n",
        "  tf.keras.layers.Dense(100, activation=\"relu\"),\n",
        "  tf.keras.layers.Dense(1, activation=\"sigmoid\")\n",
        "])\n",
        "\n",
        "# Compile the model\n",
        "model_3.compile(loss=\"binary_crossentropy\",\n",
        "                optimizer=tf.keras.optimizers.Adam(lr=0.001),\n",
        "                metrics=[\"accuracy\"])\n",
        "\n",
        "# Fit the model\n",
        "model_3.fit(train_data,\n",
        "            epochs=10,\n",
        "            steps_per_epoch=len(train_data),\n",
        "            validation_data=valid_data,\n",
        "            validation_steps=len(valid_data))"
      ],
      "metadata": {
        "colab": {
          "base_uri": "https://localhost:8080/"
        },
        "id": "p0SxaNciO4Jp",
        "outputId": "b465e822-49cd-4a48-d506-190fba2f9b3e"
      },
      "execution_count": 38,
      "outputs": [
        {
          "output_type": "stream",
          "name": "stdout",
          "text": [
            "Epoch 1/10\n"
          ]
        },
        {
          "output_type": "stream",
          "name": "stderr",
          "text": [
            "/usr/local/lib/python3.7/dist-packages/keras/optimizer_v2/adam.py:105: UserWarning: The `lr` argument is deprecated, use `learning_rate` instead.\n",
            "  super(Adam, self).__init__(name, **kwargs)\n"
          ]
        },
        {
          "output_type": "stream",
          "name": "stdout",
          "text": [
            "47/47 [==============================] - 9s 181ms/step - loss: 2.6937 - accuracy: 0.6307 - val_loss: 0.8671 - val_accuracy: 0.6820\n",
            "Epoch 2/10\n",
            "47/47 [==============================] - 9s 191ms/step - loss: 0.8414 - accuracy: 0.6740 - val_loss: 0.4923 - val_accuracy: 0.7840\n",
            "Epoch 3/10\n",
            "47/47 [==============================] - 8s 179ms/step - loss: 0.6452 - accuracy: 0.7240 - val_loss: 0.6795 - val_accuracy: 0.7040\n",
            "Epoch 4/10\n",
            "47/47 [==============================] - 8s 174ms/step - loss: 0.5800 - accuracy: 0.7407 - val_loss: 0.4318 - val_accuracy: 0.7960\n",
            "Epoch 5/10\n",
            "47/47 [==============================] - 9s 184ms/step - loss: 0.4796 - accuracy: 0.7853 - val_loss: 0.5403 - val_accuracy: 0.7440\n",
            "Epoch 6/10\n",
            "47/47 [==============================] - 8s 174ms/step - loss: 0.5062 - accuracy: 0.7753 - val_loss: 0.4450 - val_accuracy: 0.7940\n",
            "Epoch 7/10\n",
            "47/47 [==============================] - 8s 174ms/step - loss: 0.4468 - accuracy: 0.8093 - val_loss: 0.5307 - val_accuracy: 0.7500\n",
            "Epoch 8/10\n",
            "47/47 [==============================] - 8s 174ms/step - loss: 0.4278 - accuracy: 0.8147 - val_loss: 1.0010 - val_accuracy: 0.6500\n",
            "Epoch 9/10\n",
            "47/47 [==============================] - 8s 176ms/step - loss: 0.4764 - accuracy: 0.7847 - val_loss: 0.5866 - val_accuracy: 0.7320\n",
            "Epoch 10/10\n",
            "47/47 [==============================] - 8s 174ms/step - loss: 0.4441 - accuracy: 0.8107 - val_loss: 0.4372 - val_accuracy: 0.7900\n"
          ]
        },
        {
          "output_type": "execute_result",
          "data": {
            "text/plain": [
              "<keras.callbacks.History at 0x7fa6e3b4f410>"
            ]
          },
          "metadata": {},
          "execution_count": 38
        }
      ]
    },
    {
      "cell_type": "code",
      "source": [
        "model_3.summary()"
      ],
      "metadata": {
        "colab": {
          "base_uri": "https://localhost:8080/"
        },
        "id": "iAOVysDVOsGW",
        "outputId": "b1c10010-7b7a-40e7-9767-9db87095d72c"
      },
      "execution_count": 39,
      "outputs": [
        {
          "output_type": "stream",
          "name": "stdout",
          "text": [
            "Model: \"sequential_4\"\n",
            "_________________________________________________________________\n",
            " Layer (type)                Output Shape              Param #   \n",
            "=================================================================\n",
            " flatten_4 (Flatten)         (None, 150528)            0         \n",
            "                                                                 \n",
            " dense_9 (Dense)             (None, 100)               15052900  \n",
            "                                                                 \n",
            " dense_10 (Dense)            (None, 100)               10100     \n",
            "                                                                 \n",
            " dense_11 (Dense)            (None, 100)               10100     \n",
            "                                                                 \n",
            " dense_12 (Dense)            (None, 1)                 101       \n",
            "                                                                 \n",
            "=================================================================\n",
            "Total params: 15,073,201\n",
            "Trainable params: 15,073,201\n",
            "Non-trainable params: 0\n",
            "_________________________________________________________________\n"
          ]
        }
      ]
    },
    {
      "cell_type": "code",
      "source": [
        "score1 = model_1.evaluate(train_data)[1]\n",
        "score2 = model_2.evaluate(train_data)[1]\n",
        "score3 = model_3.evaluate(train_data)[1]"
      ],
      "metadata": {
        "colab": {
          "base_uri": "https://localhost:8080/"
        },
        "id": "JLX-9NF2OsKn",
        "outputId": "719862f9-3bb3-49f1-adcf-2a62b7793d46"
      },
      "execution_count": 44,
      "outputs": [
        {
          "output_type": "stream",
          "name": "stdout",
          "text": [
            "47/47 [==============================] - 6s 134ms/step - loss: 0.2846 - accuracy: 0.8887\n",
            "47/47 [==============================] - 6s 130ms/step - loss: 0.6932 - accuracy: 0.5000\n",
            "47/47 [==============================] - 6s 129ms/step - loss: 0.3466 - accuracy: 0.8500\n"
          ]
        }
      ]
    },
    {
      "cell_type": "code",
      "source": [
        "import pandas as pd\n",
        "summary = pd.DataFrame({\"Model1\":score1, \"Model2\":score2, \"Model3\":score3}, index=[0])\n",
        "summary"
      ],
      "metadata": {
        "colab": {
          "base_uri": "https://localhost:8080/",
          "height": 81
        },
        "id": "Yq8YwvGLOsOy",
        "outputId": "dac79bcc-a8bf-4aaf-f712-935166a5a432"
      },
      "execution_count": 50,
      "outputs": [
        {
          "output_type": "execute_result",
          "data": {
            "text/plain": [
              "     Model1  Model2  Model3\n",
              "0  0.888667     0.5    0.85"
            ],
            "text/html": [
              "\n",
              "  <div id=\"df-da206b97-2b38-4cf5-9bcd-e963a5bd666c\">\n",
              "    <div class=\"colab-df-container\">\n",
              "      <div>\n",
              "<style scoped>\n",
              "    .dataframe tbody tr th:only-of-type {\n",
              "        vertical-align: middle;\n",
              "    }\n",
              "\n",
              "    .dataframe tbody tr th {\n",
              "        vertical-align: top;\n",
              "    }\n",
              "\n",
              "    .dataframe thead th {\n",
              "        text-align: right;\n",
              "    }\n",
              "</style>\n",
              "<table border=\"1\" class=\"dataframe\">\n",
              "  <thead>\n",
              "    <tr style=\"text-align: right;\">\n",
              "      <th></th>\n",
              "      <th>Model1</th>\n",
              "      <th>Model2</th>\n",
              "      <th>Model3</th>\n",
              "    </tr>\n",
              "  </thead>\n",
              "  <tbody>\n",
              "    <tr>\n",
              "      <th>0</th>\n",
              "      <td>0.888667</td>\n",
              "      <td>0.5</td>\n",
              "      <td>0.85</td>\n",
              "    </tr>\n",
              "  </tbody>\n",
              "</table>\n",
              "</div>\n",
              "      <button class=\"colab-df-convert\" onclick=\"convertToInteractive('df-da206b97-2b38-4cf5-9bcd-e963a5bd666c')\"\n",
              "              title=\"Convert this dataframe to an interactive table.\"\n",
              "              style=\"display:none;\">\n",
              "        \n",
              "  <svg xmlns=\"http://www.w3.org/2000/svg\" height=\"24px\"viewBox=\"0 0 24 24\"\n",
              "       width=\"24px\">\n",
              "    <path d=\"M0 0h24v24H0V0z\" fill=\"none\"/>\n",
              "    <path d=\"M18.56 5.44l.94 2.06.94-2.06 2.06-.94-2.06-.94-.94-2.06-.94 2.06-2.06.94zm-11 1L8.5 8.5l.94-2.06 2.06-.94-2.06-.94L8.5 2.5l-.94 2.06-2.06.94zm10 10l.94 2.06.94-2.06 2.06-.94-2.06-.94-.94-2.06-.94 2.06-2.06.94z\"/><path d=\"M17.41 7.96l-1.37-1.37c-.4-.4-.92-.59-1.43-.59-.52 0-1.04.2-1.43.59L10.3 9.45l-7.72 7.72c-.78.78-.78 2.05 0 2.83L4 21.41c.39.39.9.59 1.41.59.51 0 1.02-.2 1.41-.59l7.78-7.78 2.81-2.81c.8-.78.8-2.07 0-2.86zM5.41 20L4 18.59l7.72-7.72 1.47 1.35L5.41 20z\"/>\n",
              "  </svg>\n",
              "      </button>\n",
              "      \n",
              "  <style>\n",
              "    .colab-df-container {\n",
              "      display:flex;\n",
              "      flex-wrap:wrap;\n",
              "      gap: 12px;\n",
              "    }\n",
              "\n",
              "    .colab-df-convert {\n",
              "      background-color: #E8F0FE;\n",
              "      border: none;\n",
              "      border-radius: 50%;\n",
              "      cursor: pointer;\n",
              "      display: none;\n",
              "      fill: #1967D2;\n",
              "      height: 32px;\n",
              "      padding: 0 0 0 0;\n",
              "      width: 32px;\n",
              "    }\n",
              "\n",
              "    .colab-df-convert:hover {\n",
              "      background-color: #E2EBFA;\n",
              "      box-shadow: 0px 1px 2px rgba(60, 64, 67, 0.3), 0px 1px 3px 1px rgba(60, 64, 67, 0.15);\n",
              "      fill: #174EA6;\n",
              "    }\n",
              "\n",
              "    [theme=dark] .colab-df-convert {\n",
              "      background-color: #3B4455;\n",
              "      fill: #D2E3FC;\n",
              "    }\n",
              "\n",
              "    [theme=dark] .colab-df-convert:hover {\n",
              "      background-color: #434B5C;\n",
              "      box-shadow: 0px 1px 3px 1px rgba(0, 0, 0, 0.15);\n",
              "      filter: drop-shadow(0px 1px 2px rgba(0, 0, 0, 0.3));\n",
              "      fill: #FFFFFF;\n",
              "    }\n",
              "  </style>\n",
              "\n",
              "      <script>\n",
              "        const buttonEl =\n",
              "          document.querySelector('#df-da206b97-2b38-4cf5-9bcd-e963a5bd666c button.colab-df-convert');\n",
              "        buttonEl.style.display =\n",
              "          google.colab.kernel.accessAllowed ? 'block' : 'none';\n",
              "\n",
              "        async function convertToInteractive(key) {\n",
              "          const element = document.querySelector('#df-da206b97-2b38-4cf5-9bcd-e963a5bd666c');\n",
              "          const dataTable =\n",
              "            await google.colab.kernel.invokeFunction('convertToInteractive',\n",
              "                                                     [key], {});\n",
              "          if (!dataTable) return;\n",
              "\n",
              "          const docLinkHtml = 'Like what you see? Visit the ' +\n",
              "            '<a target=\"_blank\" href=https://colab.research.google.com/notebooks/data_table.ipynb>data table notebook</a>'\n",
              "            + ' to learn more about interactive tables.';\n",
              "          element.innerHTML = '';\n",
              "          dataTable['output_type'] = 'display_data';\n",
              "          await google.colab.output.renderOutput(dataTable, element);\n",
              "          const docLink = document.createElement('div');\n",
              "          docLink.innerHTML = docLinkHtml;\n",
              "          element.appendChild(docLink);\n",
              "        }\n",
              "      </script>\n",
              "    </div>\n",
              "  </div>\n",
              "  "
            ]
          },
          "metadata": {},
          "execution_count": 50
        }
      ]
    },
    {
      "cell_type": "markdown",
      "source": [
        "## Re-Preprocessing Data"
      ],
      "metadata": {
        "id": "Mrv5IHJCOsWd"
      }
    },
    {
      "cell_type": "code",
      "source": [
        "!wget https://storage.googleapis.com/ztm_tf_course/food_vision/pizza_steak.zip"
      ],
      "metadata": {
        "colab": {
          "base_uri": "https://localhost:8080/"
        },
        "id": "GzP_HG9qYchC",
        "outputId": "2edae96a-e36f-45bb-ddc2-1fd09987888b"
      },
      "execution_count": 51,
      "outputs": [
        {
          "output_type": "stream",
          "name": "stdout",
          "text": [
            "--2022-06-29 02:55:00--  https://storage.googleapis.com/ztm_tf_course/food_vision/pizza_steak.zip\n",
            "Resolving storage.googleapis.com (storage.googleapis.com)... 142.251.12.128, 172.217.194.128, 142.250.4.128, ...\n",
            "Connecting to storage.googleapis.com (storage.googleapis.com)|142.251.12.128|:443... connected.\n",
            "HTTP request sent, awaiting response... 200 OK\n",
            "Length: 109540975 (104M) [application/zip]\n",
            "Saving to: ‘pizza_steak.zip.2’\n",
            "\n",
            "pizza_steak.zip.2   100%[===================>] 104.47M   301MB/s    in 0.3s    \n",
            "\n",
            "2022-06-29 02:55:00 (301 MB/s) - ‘pizza_steak.zip.2’ saved [109540975/109540975]\n",
            "\n"
          ]
        }
      ]
    },
    {
      "cell_type": "code",
      "source": [
        "train_dir = \"pizza_steak/train/\"\n",
        "test_dir = \"pizza_steak/test/\""
      ],
      "metadata": {
        "id": "DSHU9wm1YclZ"
      },
      "execution_count": 52,
      "outputs": []
    },
    {
      "cell_type": "code",
      "source": [
        "from tensorflow.keras.preprocessing.image import ImageDataGenerator\n",
        "\n",
        "train_datagen = ImageDataGenerator(rescale=1/255.)\n",
        "test_datagen = ImageDataGenerator(rescale=1/255.)"
      ],
      "metadata": {
        "id": "dPAuuXC1Ycot"
      },
      "execution_count": 55,
      "outputs": []
    },
    {
      "cell_type": "code",
      "source": [
        "train_data = train_datagen.flow_from_directory(directory=train_dir,\n",
        "                                            target_size=(224,224),\n",
        "                                            class_mode=\"binary\",\n",
        "                                            batch_size=32)\n",
        "\n",
        "test_data = test_datagen.flow_from_directory(directory=test_dir,\n",
        "                                            target_size=(224,224),\n",
        "                                            class_mode=\"binary\",\n",
        "                                            batch_size=32)"
      ],
      "metadata": {
        "colab": {
          "base_uri": "https://localhost:8080/"
        },
        "id": "UBvBVE7AYcra",
        "outputId": "336dda33-e0b4-428d-c654-5bcbd741ebec"
      },
      "execution_count": 56,
      "outputs": [
        {
          "output_type": "stream",
          "name": "stdout",
          "text": [
            "Found 1500 images belonging to 2 classes.\n",
            "Found 500 images belonging to 2 classes.\n"
          ]
        }
      ]
    },
    {
      "cell_type": "code",
      "source": [
        "# Get a sample of the training data batch\n",
        "images, labels = train_data.next() # get \"next\" batch of images/labels"
      ],
      "metadata": {
        "id": "XH7uo7fpYcuN"
      },
      "execution_count": 57,
      "outputs": []
    },
    {
      "cell_type": "code",
      "source": [
        "len(images), len(labels)"
      ],
      "metadata": {
        "colab": {
          "base_uri": "https://localhost:8080/"
        },
        "id": "wri-eRZaZhfH",
        "outputId": "2a40fd90-7793-45df-e235-40db04a73d8b"
      },
      "execution_count": 60,
      "outputs": [
        {
          "output_type": "execute_result",
          "data": {
            "text/plain": [
              "(32, 32)"
            ]
          },
          "metadata": {},
          "execution_count": 60
        }
      ]
    },
    {
      "cell_type": "code",
      "source": [
        "images[:2], images[0].shape"
      ],
      "metadata": {
        "colab": {
          "base_uri": "https://localhost:8080/"
        },
        "id": "50N8OGYoZhjQ",
        "outputId": "7ce7aae3-73d2-4937-f3a0-9fd935ee54b4"
      },
      "execution_count": 61,
      "outputs": [
        {
          "output_type": "execute_result",
          "data": {
            "text/plain": [
              "(array([[[[0.01176471, 0.01176471, 0.00392157],\n",
              "          [0.01176471, 0.01176471, 0.00392157],\n",
              "          [0.01176471, 0.01176471, 0.00392157],\n",
              "          ...,\n",
              "          [0.01568628, 0.01176471, 0.        ],\n",
              "          [0.01568628, 0.01176471, 0.        ],\n",
              "          [0.01568628, 0.01176471, 0.        ]],\n",
              " \n",
              "         [[0.01176471, 0.01176471, 0.00392157],\n",
              "          [0.01176471, 0.01176471, 0.00392157],\n",
              "          [0.01176471, 0.01176471, 0.00392157],\n",
              "          ...,\n",
              "          [0.01176471, 0.01176471, 0.00392157],\n",
              "          [0.01176471, 0.01176471, 0.00392157],\n",
              "          [0.01176471, 0.01176471, 0.00392157]],\n",
              " \n",
              "         [[0.01176471, 0.01176471, 0.00392157],\n",
              "          [0.01176471, 0.01176471, 0.00392157],\n",
              "          [0.01176471, 0.01176471, 0.00392157],\n",
              "          ...,\n",
              "          [0.01176471, 0.01176471, 0.00392157],\n",
              "          [0.00784314, 0.01568628, 0.00392157],\n",
              "          [0.00784314, 0.01568628, 0.00392157]],\n",
              " \n",
              "         ...,\n",
              " \n",
              "         [[0.8000001 , 0.75294125, 0.7686275 ],\n",
              "          [0.882353  , 0.83921576, 0.86274517],\n",
              "          [0.8941177 , 0.86666673, 0.8941177 ],\n",
              "          ...,\n",
              "          [0.19215688, 0.30588236, 0.29803923],\n",
              "          [0.2392157 , 0.31764707, 0.27450982],\n",
              "          [0.28235295, 0.33333334, 0.25490198]],\n",
              " \n",
              "         [[0.81568635, 0.74509805, 0.74509805],\n",
              "          [0.76470596, 0.70980394, 0.7058824 ],\n",
              "          [0.8431373 , 0.7960785 , 0.80392164],\n",
              "          ...,\n",
              "          [0.23529413, 0.31764707, 0.25882354],\n",
              "          [0.28235295, 0.3019608 , 0.22352943],\n",
              "          [0.3529412 , 0.33333334, 0.21960786]],\n",
              " \n",
              "         [[0.83921576, 0.7568628 , 0.7372549 ],\n",
              "          [0.85098046, 0.7803922 , 0.76470596],\n",
              "          [0.78823537, 0.73333335, 0.72156864],\n",
              "          ...,\n",
              "          [0.33333334, 0.3803922 , 0.28627452],\n",
              "          [0.36078432, 0.3372549 , 0.23529413],\n",
              "          [0.36078432, 0.29803923, 0.16862746]]],\n",
              " \n",
              " \n",
              "        [[[0.36078432, 0.3372549 , 0.21176472],\n",
              "          [0.38823533, 0.3529412 , 0.2392157 ],\n",
              "          [0.39607847, 0.34117648, 0.23529413],\n",
              "          ...,\n",
              "          [0.31764707, 0.33333334, 0.43137258],\n",
              "          [0.16862746, 0.18823531, 0.3019608 ],\n",
              "          [0.09411766, 0.12156864, 0.23529413]],\n",
              " \n",
              "         [[0.36078432, 0.33333334, 0.21960786],\n",
              "          [0.37254903, 0.3372549 , 0.22352943],\n",
              "          [0.37254903, 0.31764707, 0.21568629],\n",
              "          ...,\n",
              "          [0.29411766, 0.30980393, 0.40784317],\n",
              "          [0.11764707, 0.14509805, 0.25490198],\n",
              "          [0.09411766, 0.12941177, 0.24313727]],\n",
              " \n",
              "         [[0.3647059 , 0.3372549 , 0.22352943],\n",
              "          [0.37647063, 0.3372549 , 0.23137257],\n",
              "          [0.3647059 , 0.31764707, 0.21568629],\n",
              "          ...,\n",
              "          [0.26666668, 0.2901961 , 0.38431376],\n",
              "          [0.09019608, 0.12941177, 0.23529413],\n",
              "          [0.09411766, 0.14901961, 0.25490198]],\n",
              " \n",
              "         ...,\n",
              " \n",
              "         [[0.43137258, 0.5137255 , 0.5803922 ],\n",
              "          [0.48627454, 0.58431375, 0.6627451 ],\n",
              "          [0.47058827, 0.5803922 , 0.6745098 ],\n",
              "          ...,\n",
              "          [0.49803925, 0.42352945, 0.39607847],\n",
              "          [0.5372549 , 0.4666667 , 0.427451  ],\n",
              "          [0.6039216 , 0.53333336, 0.49411768]],\n",
              " \n",
              "         [[0.42352945, 0.52156866, 0.60784316],\n",
              "          [0.454902  , 0.5568628 , 0.64705884],\n",
              "          [0.45098042, 0.5686275 , 0.6627451 ],\n",
              "          ...,\n",
              "          [0.5254902 , 0.44705886, 0.41176474],\n",
              "          [0.5764706 , 0.49803925, 0.47058827],\n",
              "          [0.6117647 , 0.53333336, 0.5058824 ]],\n",
              " \n",
              "         [[0.3803922 , 0.48627454, 0.5921569 ],\n",
              "          [0.3921569 , 0.50980395, 0.6117647 ],\n",
              "          [0.43529415, 0.5568628 , 0.6666667 ],\n",
              "          ...,\n",
              "          [0.5803922 , 0.5019608 , 0.4666667 ],\n",
              "          [0.65882355, 0.5686275 , 0.54509807],\n",
              "          [0.64705884, 0.5529412 , 0.5372549 ]]]], dtype=float32),\n",
              " (224, 224, 3))"
            ]
          },
          "metadata": {},
          "execution_count": 61
        }
      ]
    },
    {
      "cell_type": "code",
      "source": [
        "labels"
      ],
      "metadata": {
        "colab": {
          "base_uri": "https://localhost:8080/"
        },
        "id": "shnvRjXFZhl_",
        "outputId": "7ed8c059-4ed5-496d-a427-5fa9b8f870aa"
      },
      "execution_count": 62,
      "outputs": [
        {
          "output_type": "execute_result",
          "data": {
            "text/plain": [
              "array([1., 0., 0., 0., 0., 1., 1., 0., 0., 1., 0., 0., 1., 1., 0., 0., 0.,\n",
              "       1., 1., 0., 1., 1., 0., 1., 0., 1., 0., 1., 1., 0., 1., 0.],\n",
              "      dtype=float32)"
            ]
          },
          "metadata": {},
          "execution_count": 62
        }
      ]
    },
    {
      "cell_type": "markdown",
      "source": [
        "## Model 4 Baseline"
      ],
      "metadata": {
        "id": "m5pW15v8Zhos"
      }
    },
    {
      "cell_type": "markdown",
      "source": [
        "We will use a model with less layers (3 or 4) and state of the art performance."
      ],
      "metadata": {
        "id": "38PiZBAebY2K"
      }
    },
    {
      "cell_type": "code",
      "source": [
        "from tensorflow.keras.optimizers import Adam\n",
        "from tensorflow.keras.layers import Dense, Flatten, Conv2D, MaxPool2D, Activation\n",
        "from tensorflow.keras import Sequential"
      ],
      "metadata": {
        "id": "D5Q3Cs8vbEWk"
      },
      "execution_count": 63,
      "outputs": []
    },
    {
      "cell_type": "code",
      "source": [
        "# Create baseline\n",
        "model_4 = Sequential([\n",
        "  Conv2D(filters=10,\n",
        "         kernel_size=3,\n",
        "         strides=1,\n",
        "         padding=\"valid\",\n",
        "         activation=\"relu\",\n",
        "         input_shape=(224,224,3)),\n",
        "  Conv2D(10,3, activation=\"relu\"),\n",
        "  Conv2D(10,3, activation=\"relu\"),\n",
        "  Flatten(),\n",
        "  Dense(1, activation=\"sigmoid\")\n",
        "])\n",
        "\n",
        "# Compile model\n",
        "model_4.compile(loss=\"binary_crossentropy\",\n",
        "                optimizer=Adam(),\n",
        "                metrics=[\"accuracy\"])\n",
        "# fit the model\n",
        "history_4 = model_4.fit(train_data,\n",
        "                      epochs=10,\n",
        "                      steps_per_epoch=len(train_data),\n",
        "                      validation_data=test_data,\n",
        "                      validation_steps=len(test_data))"
      ],
      "metadata": {
        "colab": {
          "base_uri": "https://localhost:8080/"
        },
        "id": "1Z1bNliqbEaF",
        "outputId": "03978071-4436-46dd-926d-438345b39ffc"
      },
      "execution_count": 65,
      "outputs": [
        {
          "output_type": "stream",
          "name": "stdout",
          "text": [
            "Epoch 1/10\n",
            "47/47 [==============================] - 11s 207ms/step - loss: 0.8721 - accuracy: 0.6693 - val_loss: 0.4455 - val_accuracy: 0.8140\n",
            "Epoch 2/10\n",
            "47/47 [==============================] - 9s 189ms/step - loss: 0.4056 - accuracy: 0.8260 - val_loss: 0.4772 - val_accuracy: 0.7620\n",
            "Epoch 3/10\n",
            "47/47 [==============================] - 9s 190ms/step - loss: 0.2944 - accuracy: 0.8800 - val_loss: 0.5070 - val_accuracy: 0.7680\n",
            "Epoch 4/10\n",
            "47/47 [==============================] - 9s 189ms/step - loss: 0.1587 - accuracy: 0.9507 - val_loss: 0.3796 - val_accuracy: 0.8380\n",
            "Epoch 5/10\n",
            "47/47 [==============================] - 9s 199ms/step - loss: 0.0540 - accuracy: 0.9887 - val_loss: 0.4337 - val_accuracy: 0.8260\n",
            "Epoch 6/10\n",
            "47/47 [==============================] - 10s 207ms/step - loss: 0.0208 - accuracy: 0.9973 - val_loss: 0.5028 - val_accuracy: 0.8180\n",
            "Epoch 7/10\n",
            "47/47 [==============================] - 10s 211ms/step - loss: 0.0077 - accuracy: 1.0000 - val_loss: 0.4538 - val_accuracy: 0.8380\n",
            "Epoch 8/10\n",
            "47/47 [==============================] - 9s 200ms/step - loss: 0.0024 - accuracy: 1.0000 - val_loss: 0.4920 - val_accuracy: 0.8380\n",
            "Epoch 9/10\n",
            "47/47 [==============================] - 9s 201ms/step - loss: 0.0013 - accuracy: 1.0000 - val_loss: 0.5156 - val_accuracy: 0.8380\n",
            "Epoch 10/10\n",
            "47/47 [==============================] - 9s 190ms/step - loss: 8.2083e-04 - accuracy: 1.0000 - val_loss: 0.5204 - val_accuracy: 0.8420\n"
          ]
        }
      ]
    },
    {
      "cell_type": "code",
      "source": [
        "import pandas as pd\n",
        "pd.DataFrame(history_4.history).plot(figsize=(10,7));"
      ],
      "metadata": {
        "colab": {
          "base_uri": "https://localhost:8080/",
          "height": 428
        },
        "id": "GozKomNHbEc_",
        "outputId": "da689b67-f17d-476b-853d-40032e97c0b7"
      },
      "execution_count": 66,
      "outputs": [
        {
          "output_type": "display_data",
          "data": {
            "text/plain": [
              "<Figure size 720x504 with 1 Axes>"
            ],
            "image/png": "[encoded data removed]"
          },
          "metadata": {
            "needs_background": "light"
          }
        }
      ]
    },
    {
      "cell_type": "code",
      "source": [
        ""
      ],
      "metadata": {
        "id": "5PTjXbbNbEf9"
      },
      "execution_count": null,
      "outputs": []
    }
  ]
}