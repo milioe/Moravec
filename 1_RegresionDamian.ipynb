{
  "nbformat": 4,
  "nbformat_minor": 0,
  "metadata": {
    "colab": {
      "name": "1-RegresionDamian.ipynb",
      "provenance": [],
      "collapsed_sections": [],
      "authorship_tag": "ABX9TyPTfdcIP6qeabPZ1uIazl6G",
      "include_colab_link": true
    },
    "kernelspec": {
      "name": "python3",
      "display_name": "Python 3"
    },
    "language_info": {
      "name": "python"
    }
  },
  "cells": [
    {
      "cell_type": "markdown",
      "metadata": {
        "id": "view-in-github",
        "colab_type": "text"
      },
      "source": [
        "<a href=\"https://colab.research.google.com/github/milioe/Moravec/blob/main/1_RegresionDamian.ipynb\" target=\"_parent\"><img src=\"https://colab.research.google.com/assets/colab-badge.svg\" alt=\"Open In Colab\"/></a>"
      ]
    },
    {
      "cell_type": "markdown",
      "source": [
        "What we're going to see:\n",
        "\n",
        "* Architecture\n",
        "* Input shapes\n",
        "  * `X`: features/data (inputs)\n",
        "  * `y`: labels (outputs)\n",
        "* Creating custom data to view and fit\n",
        "* Steps in modelling\n",
        "  * Creating a model\n",
        "  * Compiling a model\n",
        "    * Define a loss function\n",
        "    * Setting up an optimizer\n",
        "    * Creating evaluation metrics\n",
        "  * Fitting a model (getting it to find patterns in our data)\n",
        "* Evaluating a model\n",
        "  * Visualizing the model \n",
        "  * Looking at training curves\n",
        "  * Compare predictions to ground truth (using our evaluation metrics)\n",
        "* Saving a model (so we can use it it later \n",
        "* Loading model"
      ],
      "metadata": {
        "id": "FPEbU-iZiDyL"
      }
    },
    {
      "cell_type": "code",
      "source": [
        "import tensorflow as tf\n",
        "print(tf.__version__)"
      ],
      "metadata": {
        "colab": {
          "base_uri": "https://localhost:8080/"
        },
        "id": "_6XPYyxYiKFH",
        "outputId": "e522ce39-8b58-4e91-8e98-dfac59b653ae"
      },
      "execution_count": 1,
      "outputs": [
        {
          "output_type": "stream",
          "name": "stdout",
          "text": [
            "2.8.2\n"
          ]
        }
      ]
    },
    {
      "cell_type": "code",
      "source": [
        "import numpy as np\n",
        "import matplotlib.pyplot as plt\n",
        "\n",
        "# Create feature\n",
        "X = np.array([-7.0, -4.0, -1.0, 2.0, 5.0, 8.0, 11.0, 14.0, 17.0])\n",
        "\n",
        "# Create labels\n",
        "y = np.array([3.0, 6.0, 9.0, 12.0, 15.0, 18.0, 21.0, 24.0, 27.0])\n",
        "\n",
        "# Visulize it \n",
        "plt.scatter(X, y)"
      ],
      "metadata": {
        "colab": {
          "base_uri": "https://localhost:8080/",
          "height": 282
        },
        "id": "52w46K_biKJN",
        "outputId": "cbb1b132-886b-47b3-9b02-db30b7d1f246"
      },
      "execution_count": 2,
      "outputs": [
        {
          "output_type": "execute_result",
          "data": {
            "text/plain": [
              "<matplotlib.collections.PathCollection at 0x7f69e46f7d90>"
            ]
          },
          "metadata": {},
          "execution_count": 2
        },
        {
          "output_type": "display_data",
          "data": {
            "text/plain": [
              "<Figure size 432x288 with 1 Axes>"
            ],
            "image/png": "[encoded data removed]"
          },
          "metadata": {
            "needs_background": "light"
          }
        }
      ]
    },
    {
      "cell_type": "markdown",
      "source": [
        "## Regresion?"
      ],
      "metadata": {
        "id": "GlYwLuMqiKNW"
      }
    },
    {
      "cell_type": "code",
      "source": [
        "house_info = tf.constant([100, 4, 3, 1])\n",
        "\n",
        "house_price = tf.constant([2345678])"
      ],
      "metadata": {
        "id": "mqMdYcaSiKRB"
      },
      "execution_count": 3,
      "outputs": []
    },
    {
      "cell_type": "code",
      "source": [
        "house_info, house_price"
      ],
      "metadata": {
        "colab": {
          "base_uri": "https://localhost:8080/"
        },
        "id": "0ZyKeR8OiKVH",
        "outputId": "adcefd49-64a2-4fda-87e0-18ab15c4da3a"
      },
      "execution_count": 4,
      "outputs": [
        {
          "output_type": "execute_result",
          "data": {
            "text/plain": [
              "(<tf.Tensor: shape=(4,), dtype=int32, numpy=array([100,   4,   3,   1], dtype=int32)>,\n",
              " <tf.Tensor: shape=(1,), dtype=int32, numpy=array([2345678], dtype=int32)>)"
            ]
          },
          "metadata": {},
          "execution_count": 4
        }
      ]
    },
    {
      "cell_type": "code",
      "source": [
        "input_shape = X[1].shape\n",
        "input_shape"
      ],
      "metadata": {
        "colab": {
          "base_uri": "https://localhost:8080/"
        },
        "id": "pNpEbQ_UiKY2",
        "outputId": "5b0e5622-7271-47bf-c521-b4e81456a7c0"
      },
      "execution_count": 5,
      "outputs": [
        {
          "output_type": "execute_result",
          "data": {
            "text/plain": [
              "()"
            ]
          },
          "metadata": {},
          "execution_count": 5
        }
      ]
    },
    {
      "cell_type": "code",
      "source": [
        "output_shape = y[0].shape\n",
        "output_shape"
      ],
      "metadata": {
        "colab": {
          "base_uri": "https://localhost:8080/"
        },
        "id": "_MHSJXSpiKct",
        "outputId": "32abd5f1-ad2a-4c2d-d635-874078dd889f"
      },
      "execution_count": 6,
      "outputs": [
        {
          "output_type": "execute_result",
          "data": {
            "text/plain": [
              "()"
            ]
          },
          "metadata": {},
          "execution_count": 6
        }
      ]
    },
    {
      "cell_type": "markdown",
      "source": [
        "## First neural network"
      ],
      "metadata": {
        "id": "4hNZA1ooiKgC"
      }
    },
    {
      "cell_type": "markdown",
      "source": [
        "1. **Creating a model**\n",
        "2. **Compiling a model**\n",
        "3. **Fitting a model**\n"
      ],
      "metadata": {
        "id": "i1-uBjuWiKjG"
      }
    },
    {
      "cell_type": "markdown",
      "source": [
        "* All the steps that you **can** change are called **hiperparameters**\n",
        "* All the steps that you **cannot** change, are called **parameters**"
      ],
      "metadata": {
        "id": "Sw82QNlVq5rX"
      }
    },
    {
      "cell_type": "code",
      "source": [
        "# 0. Set random seed\n",
        "tf.random.set_seed(42)\n",
        "\n",
        "# 1. Creating a model (architecture) (Universal Approximation Theorem)\n",
        "model = tf.keras.Sequential([\n",
        "  tf.keras.layers.Dense(1)\n",
        "]) \n",
        "\n",
        "# 2. Compile a model (Backpropagation) (hiperparameters)\n",
        "model.compile(loss=tf.keras.losses.mae,\n",
        "              optimizer=tf.keras.optimizers.SGD(),\n",
        "              metrics=[\"mae\"])\n",
        "\n",
        "# 3. Fit the model\n",
        "model.fit(tf.expand_dims(X, axis=-1), y, epochs=5)"
      ],
      "metadata": {
        "colab": {
          "base_uri": "https://localhost:8080/"
        },
        "id": "EfXep_P4nhLm",
        "outputId": "2ced2cb8-0855-49be-9c9e-0dd8e29a50e2"
      },
      "execution_count": 7,
      "outputs": [
        {
          "output_type": "stream",
          "name": "stdout",
          "text": [
            "Epoch 1/5\n",
            "1/1 [==============================] - 1s 983ms/step - loss: 12.1497 - mae: 12.1497\n",
            "Epoch 2/5\n",
            "1/1 [==============================] - 0s 10ms/step - loss: 11.8897 - mae: 11.8897\n",
            "Epoch 3/5\n",
            "1/1 [==============================] - 0s 21ms/step - loss: 11.6297 - mae: 11.6297\n",
            "Epoch 4/5\n",
            "1/1 [==============================] - 0s 11ms/step - loss: 11.3697 - mae: 11.3697\n",
            "Epoch 5/5\n",
            "1/1 [==============================] - 0s 8ms/step - loss: 11.1097 - mae: 11.1097\n"
          ]
        },
        {
          "output_type": "execute_result",
          "data": {
            "text/plain": [
              "<keras.callbacks.History at 0x7f69e047fc10>"
            ]
          },
          "metadata": {},
          "execution_count": 7
        }
      ]
    },
    {
      "cell_type": "code",
      "source": [
        ""
      ],
      "metadata": {
        "id": "agLrDVbnnhRV"
      },
      "execution_count": 7,
      "outputs": []
    },
    {
      "cell_type": "code",
      "source": [
        ""
      ],
      "metadata": {
        "id": "MWpS_iI2uDiJ"
      },
      "execution_count": 7,
      "outputs": []
    },
    {
      "cell_type": "code",
      "source": [
        ""
      ],
      "metadata": {
        "id": "JcYW0Z-tuDkr"
      },
      "execution_count": 7,
      "outputs": []
    },
    {
      "cell_type": "code",
      "source": [
        ""
      ],
      "metadata": {
        "id": "LgkgEQ-BnhTz"
      },
      "execution_count": 7,
      "outputs": []
    }
  ]
}