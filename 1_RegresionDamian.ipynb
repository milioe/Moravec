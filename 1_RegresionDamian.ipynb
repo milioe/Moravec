{
  "nbformat": 4,
  "nbformat_minor": 0,
  "metadata": {
    "colab": {
      "name": "1-RegresionDamian.ipynb",
      "provenance": [],
      "collapsed_sections": [],
      "authorship_tag": "ABX9TyOAjV3VGOvBiabD70t6W2T6",
      "include_colab_link": true
    },
    "kernelspec": {
      "name": "python3",
      "display_name": "Python 3"
    },
    "language_info": {
      "name": "python"
    }
  },
  "cells": [
    {
      "cell_type": "markdown",
      "metadata": {
        "id": "view-in-github",
        "colab_type": "text"
      },
      "source": [
        "<a href=\"https://colab.research.google.com/github/milioe/Moravec/blob/main/1_RegresionDamian.ipynb\" target=\"_parent\"><img src=\"https://colab.research.google.com/assets/colab-badge.svg\" alt=\"Open In Colab\"/></a>"
      ]
    },
    {
      "cell_type": "markdown",
      "source": [
        "What we're going to see:\n",
        "\n",
        "* Architecture\n",
        "* Input shapes\n",
        "  * `X`: features/data (inputs)\n",
        "  * `y`: labels (outputs)\n",
        "* Creating custom data to view and fit\n",
        "* Steps in modelling\n",
        "  * Creating a model\n",
        "  * Compiling a model\n",
        "    * Define a loss function\n",
        "    * Setting up an optimizer\n",
        "    * Creating evaluation metrics\n",
        "  * Fitting a model (getting it to find patterns in our data)\n",
        "* Evaluating a model\n",
        "  * Visualizing the model \n",
        "  * Looking at training curves\n",
        "  * Compare predictions to ground truth (using our evaluation metrics)\n",
        "* Saving a model (so we can use it it later \n",
        "* Loading model"
      ],
      "metadata": {
        "id": "FPEbU-iZiDyL"
      }
    },
    {
      "cell_type": "code",
      "source": [
        "import tensorflow as tf\n",
        "print(tf.__version__)"
      ],
      "metadata": {
        "colab": {
          "base_uri": "https://localhost:8080/"
        },
        "id": "_6XPYyxYiKFH",
        "outputId": "9c80729c-20da-41ff-b344-e8b67d22b883"
      },
      "execution_count": 1,
      "outputs": [
        {
          "output_type": "stream",
          "name": "stdout",
          "text": [
            "2.8.2\n"
          ]
        }
      ]
    },
    {
      "cell_type": "code",
      "source": [
        "import numpy as np\n",
        "import matplotlib.pyplot as plt\n",
        "\n",
        "# Create feature\n",
        "X = np.array([-7.0, -4.0, -1.0, 2.0, 5.0, 8.0, 11.0, 14.0, 17.0])\n",
        "\n",
        "# Create labels\n",
        "y = np.array([3.0, 6.0, 9.0, 12.0, 15.0, 18.0, 21.0, 24.0, 27.0])\n",
        "\n",
        "# Visulize it \n",
        "plt.scatter(X, y)"
      ],
      "metadata": {
        "colab": {
          "base_uri": "https://localhost:8080/",
          "height": 283
        },
        "id": "52w46K_biKJN",
        "outputId": "be10b157-5260-4066-aeff-83294559884d"
      },
      "execution_count": 2,
      "outputs": [
        {
          "output_type": "execute_result",
          "data": {
            "text/plain": [
              "<matplotlib.collections.PathCollection at 0x7f6d20c75590>"
            ]
          },
          "metadata": {},
          "execution_count": 2
        },
        {
          "output_type": "display_data",
          "data": {
            "text/plain": [
              "<Figure size 432x288 with 1 Axes>"
            ],
            "image/png": "[encoded data removed]"
          },
          "metadata": {
            "needs_background": "light"
          }
        }
      ]
    },
    {
      "cell_type": "markdown",
      "source": [
        "## Regresion?"
      ],
      "metadata": {
        "id": "GlYwLuMqiKNW"
      }
    },
    {
      "cell_type": "code",
      "source": [
        "house_info = tf.constant([100, 4, 3, 1])\n",
        "\n",
        "house_price = tf.constant([2345678])"
      ],
      "metadata": {
        "id": "mqMdYcaSiKRB"
      },
      "execution_count": 3,
      "outputs": []
    },
    {
      "cell_type": "code",
      "source": [
        "house_info, house_price"
      ],
      "metadata": {
        "colab": {
          "base_uri": "https://localhost:8080/"
        },
        "id": "0ZyKeR8OiKVH",
        "outputId": "ab30b940-35e1-4578-de00-97d408b0d6cf"
      },
      "execution_count": 4,
      "outputs": [
        {
          "output_type": "execute_result",
          "data": {
            "text/plain": [
              "(<tf.Tensor: shape=(4,), dtype=int32, numpy=array([100,   4,   3,   1], dtype=int32)>,\n",
              " <tf.Tensor: shape=(1,), dtype=int32, numpy=array([2345678], dtype=int32)>)"
            ]
          },
          "metadata": {},
          "execution_count": 4
        }
      ]
    },
    {
      "cell_type": "code",
      "source": [
        "input_shape = X[1].shape\n",
        "input_shape"
      ],
      "metadata": {
        "colab": {
          "base_uri": "https://localhost:8080/"
        },
        "id": "pNpEbQ_UiKY2",
        "outputId": "0046a6aa-b0ad-4451-e67f-75a2089c2c78"
      },
      "execution_count": 5,
      "outputs": [
        {
          "output_type": "execute_result",
          "data": {
            "text/plain": [
              "()"
            ]
          },
          "metadata": {},
          "execution_count": 5
        }
      ]
    },
    {
      "cell_type": "code",
      "source": [
        "output_shape = y[0].shape\n",
        "output_shape"
      ],
      "metadata": {
        "colab": {
          "base_uri": "https://localhost:8080/"
        },
        "id": "_MHSJXSpiKct",
        "outputId": "1bd8d1d6-ab99-409a-96e8-2eb514556852"
      },
      "execution_count": 6,
      "outputs": [
        {
          "output_type": "execute_result",
          "data": {
            "text/plain": [
              "()"
            ]
          },
          "metadata": {},
          "execution_count": 6
        }
      ]
    },
    {
      "cell_type": "markdown",
      "source": [
        "## First neural network"
      ],
      "metadata": {
        "id": "4hNZA1ooiKgC"
      }
    },
    {
      "cell_type": "markdown",
      "source": [
        "1. **Creating a model**\n",
        "2. **Compiling a model**\n",
        "3. **Fitting a model**\n"
      ],
      "metadata": {
        "id": "i1-uBjuWiKjG"
      }
    },
    {
      "cell_type": "markdown",
      "source": [
        "* All the steps that you **can** change are called **hiperparameters**\n",
        "* All the steps that you **cannot** change, are called **parameters**"
      ],
      "metadata": {
        "id": "Sw82QNlVq5rX"
      }
    },
    {
      "cell_type": "code",
      "source": [
        "# 0. Set random seed\n",
        "tf.random.set_seed(42)\n",
        "\n",
        "# 1. Creating a model (architecture) (Universal Approximation Theorem)\n",
        "model = tf.keras.Sequential([\n",
        "  tf.keras.layers.Dense(1)\n",
        "]) \n",
        "\n",
        "# 2. Compile a model (Backpropagation) (hiperparameters)\n",
        "model.compile(loss=tf.keras.losses.mae,\n",
        "              optimizer=tf.keras.optimizers.SGD(),\n",
        "              metrics=[\"mae\"])\n",
        "\n",
        "# 3. Fit the model\n",
        "model.fit(tf.expand_dims(X, axis=-1), y, epochs=5)"
      ],
      "metadata": {
        "colab": {
          "base_uri": "https://localhost:8080/"
        },
        "id": "EfXep_P4nhLm",
        "outputId": "6344b6ac-91cb-4945-c58c-a8748228a1e1"
      },
      "execution_count": 7,
      "outputs": [
        {
          "output_type": "stream",
          "name": "stdout",
          "text": [
            "Epoch 1/5\n",
            "1/1 [==============================] - 1s 1s/step - loss: 12.1497 - mae: 12.1497\n",
            "Epoch 2/5\n",
            "1/1 [==============================] - 0s 25ms/step - loss: 11.8897 - mae: 11.8897\n",
            "Epoch 3/5\n",
            "1/1 [==============================] - 0s 20ms/step - loss: 11.6297 - mae: 11.6297\n",
            "Epoch 4/5\n",
            "1/1 [==============================] - 0s 26ms/step - loss: 11.3697 - mae: 11.3697\n",
            "Epoch 5/5\n",
            "1/1 [==============================] - 0s 23ms/step - loss: 11.1097 - mae: 11.1097\n"
          ]
        },
        {
          "output_type": "execute_result",
          "data": {
            "text/plain": [
              "<keras.callbacks.History at 0x7f6d1c993890>"
            ]
          },
          "metadata": {},
          "execution_count": 7
        }
      ]
    },
    {
      "cell_type": "code",
      "source": [
        "X"
      ],
      "metadata": {
        "id": "agLrDVbnnhRV",
        "colab": {
          "base_uri": "https://localhost:8080/"
        },
        "outputId": "0447e10d-ce6f-44f1-af92-ed6b078a02c7"
      },
      "execution_count": 8,
      "outputs": [
        {
          "output_type": "execute_result",
          "data": {
            "text/plain": [
              "array([-7., -4., -1.,  2.,  5.,  8., 11., 14., 17.])"
            ]
          },
          "metadata": {},
          "execution_count": 8
        }
      ]
    },
    {
      "cell_type": "code",
      "source": [
        "y"
      ],
      "metadata": {
        "id": "MWpS_iI2uDiJ",
        "colab": {
          "base_uri": "https://localhost:8080/"
        },
        "outputId": "34a800bf-8a38-4eb6-a190-223b9ce2187e"
      },
      "execution_count": 9,
      "outputs": [
        {
          "output_type": "execute_result",
          "data": {
            "text/plain": [
              "array([ 3.,  6.,  9., 12., 15., 18., 21., 24., 27.])"
            ]
          },
          "metadata": {},
          "execution_count": 9
        }
      ]
    },
    {
      "cell_type": "code",
      "source": [
        "model.predict([17.0])"
      ],
      "metadata": {
        "id": "JcYW0Z-tuDkr",
        "colab": {
          "base_uri": "https://localhost:8080/"
        },
        "outputId": "d69bd212-a060-4241-dc6d-6c503afd430a"
      },
      "execution_count": 10,
      "outputs": [
        {
          "output_type": "execute_result",
          "data": {
            "text/plain": [
              "array([[13.991019]], dtype=float32)"
            ]
          },
          "metadata": {},
          "execution_count": 10
        }
      ]
    },
    {
      "cell_type": "markdown",
      "source": [
        "![descarga (4).png](data:image/png;base64,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)"
      ],
      "metadata": {
        "id": "83GT1AFaOYWX"
      }
    },
    {
      "cell_type": "markdown",
      "source": [
        "## Model 2"
      ],
      "metadata": {
        "id": "POE0EIPsOYcf"
      }
    },
    {
      "cell_type": "code",
      "source": [
        "# 0. Set random seed\n",
        "tf.random.set_seed(42)\n",
        "\n",
        "# 1. Create a model\n",
        "model_2 = tf.keras.Sequential([\n",
        "  tf.keras.layers.Dense(1)\n",
        "])\n",
        "\n",
        "# 2. Compile model\n",
        "model_2.compile(loss=tf.keras.losses.mae,\n",
        "                optimizer=tf.keras.optimizers.SGD(),\n",
        "                metrics=[\"mae\"])\n",
        "\n",
        "# 3. Fit the model\n",
        "model_2.fit(tf.expand_dims(X, axis=-1), y, epochs=100)"
      ],
      "metadata": {
        "colab": {
          "base_uri": "https://localhost:8080/"
        },
        "id": "HXpH8fSUhPRi",
        "outputId": "b44018de-675d-4706-a222-088dcac02d52"
      },
      "execution_count": 11,
      "outputs": [
        {
          "output_type": "stream",
          "name": "stdout",
          "text": [
            "Epoch 1/100\n",
            "1/1 [==============================] - 1s 606ms/step - loss: 12.1497 - mae: 12.1497\n",
            "Epoch 2/100\n",
            "1/1 [==============================] - 0s 28ms/step - loss: 11.8897 - mae: 11.8897\n",
            "Epoch 3/100\n",
            "1/1 [==============================] - 0s 24ms/step - loss: 11.6297 - mae: 11.6297\n",
            "Epoch 4/100\n",
            "1/1 [==============================] - 0s 20ms/step - loss: 11.3697 - mae: 11.3697\n",
            "Epoch 5/100\n",
            "1/1 [==============================] - 0s 18ms/step - loss: 11.1097 - mae: 11.1097\n",
            "Epoch 6/100\n",
            "1/1 [==============================] - 0s 15ms/step - loss: 10.8497 - mae: 10.8497\n",
            "Epoch 7/100\n",
            "1/1 [==============================] - 0s 15ms/step - loss: 10.5897 - mae: 10.5897\n",
            "Epoch 8/100\n",
            "1/1 [==============================] - 0s 36ms/step - loss: 10.3297 - mae: 10.3297\n",
            "Epoch 9/100\n",
            "1/1 [==============================] - 0s 26ms/step - loss: 10.0697 - mae: 10.0697\n",
            "Epoch 10/100\n",
            "1/1 [==============================] - 0s 20ms/step - loss: 9.8097 - mae: 9.8097\n",
            "Epoch 11/100\n",
            "1/1 [==============================] - 0s 23ms/step - loss: 9.5497 - mae: 9.5497\n",
            "Epoch 12/100\n",
            "1/1 [==============================] - 0s 24ms/step - loss: 9.2897 - mae: 9.2897\n",
            "Epoch 13/100\n",
            "1/1 [==============================] - 0s 18ms/step - loss: 9.0297 - mae: 9.0297\n",
            "Epoch 14/100\n",
            "1/1 [==============================] - 0s 23ms/step - loss: 8.7697 - mae: 8.7697\n",
            "Epoch 15/100\n",
            "1/1 [==============================] - 0s 17ms/step - loss: 8.5097 - mae: 8.5097\n",
            "Epoch 16/100\n",
            "1/1 [==============================] - 0s 25ms/step - loss: 8.2497 - mae: 8.2497\n",
            "Epoch 17/100\n",
            "1/1 [==============================] - 0s 14ms/step - loss: 7.9897 - mae: 7.9897\n",
            "Epoch 18/100\n",
            "1/1 [==============================] - 0s 17ms/step - loss: 7.7297 - mae: 7.7297\n",
            "Epoch 19/100\n",
            "1/1 [==============================] - 0s 16ms/step - loss: 7.4697 - mae: 7.4697\n",
            "Epoch 20/100\n",
            "1/1 [==============================] - 0s 13ms/step - loss: 7.2097 - mae: 7.2097\n",
            "Epoch 21/100\n",
            "1/1 [==============================] - 0s 13ms/step - loss: 6.9497 - mae: 6.9497\n",
            "Epoch 22/100\n",
            "1/1 [==============================] - 0s 20ms/step - loss: 6.8566 - mae: 6.8566\n",
            "Epoch 23/100\n",
            "1/1 [==============================] - 0s 12ms/step - loss: 6.8356 - mae: 6.8356\n",
            "Epoch 24/100\n",
            "1/1 [==============================] - 0s 14ms/step - loss: 6.8146 - mae: 6.8146\n",
            "Epoch 25/100\n",
            "1/1 [==============================] - 0s 22ms/step - loss: 6.7936 - mae: 6.7936\n",
            "Epoch 26/100\n",
            "1/1 [==============================] - 0s 13ms/step - loss: 6.7726 - mae: 6.7726\n",
            "Epoch 27/100\n",
            "1/1 [==============================] - 0s 26ms/step - loss: 6.7517 - mae: 6.7517\n",
            "Epoch 28/100\n",
            "1/1 [==============================] - 0s 33ms/step - loss: 6.7307 - mae: 6.7307\n",
            "Epoch 29/100\n",
            "1/1 [==============================] - 0s 36ms/step - loss: 6.7415 - mae: 6.7415\n",
            "Epoch 30/100\n",
            "1/1 [==============================] - 0s 20ms/step - loss: 6.7284 - mae: 6.7284\n",
            "Epoch 31/100\n",
            "1/1 [==============================] - 0s 18ms/step - loss: 6.7215 - mae: 6.7215\n",
            "Epoch 32/100\n",
            "1/1 [==============================] - 0s 14ms/step - loss: 6.7262 - mae: 6.7262\n",
            "Epoch 33/100\n",
            "1/1 [==============================] - 0s 15ms/step - loss: 6.7052 - mae: 6.7052\n",
            "Epoch 34/100\n",
            "1/1 [==============================] - 0s 12ms/step - loss: 6.7202 - mae: 6.7202\n",
            "Epoch 35/100\n",
            "1/1 [==============================] - 0s 21ms/step - loss: 6.7030 - mae: 6.7030\n",
            "Epoch 36/100\n",
            "1/1 [==============================] - 0s 12ms/step - loss: 6.7002 - mae: 6.7002\n",
            "Epoch 37/100\n",
            "1/1 [==============================] - 0s 18ms/step - loss: 6.7008 - mae: 6.7008\n",
            "Epoch 38/100\n",
            "1/1 [==============================] - 0s 16ms/step - loss: 6.6802 - mae: 6.6802\n",
            "Epoch 39/100\n",
            "1/1 [==============================] - 0s 22ms/step - loss: 6.6986 - mae: 6.6986\n",
            "Epoch 40/100\n",
            "1/1 [==============================] - 0s 17ms/step - loss: 6.6776 - mae: 6.6776\n",
            "Epoch 41/100\n",
            "1/1 [==============================] - 0s 21ms/step - loss: 6.6790 - mae: 6.6790\n",
            "Epoch 42/100\n",
            "1/1 [==============================] - 0s 12ms/step - loss: 6.6754 - mae: 6.6754\n",
            "Epoch 43/100\n",
            "1/1 [==============================] - 0s 16ms/step - loss: 6.6590 - mae: 6.6590\n",
            "Epoch 44/100\n",
            "1/1 [==============================] - 0s 21ms/step - loss: 6.6731 - mae: 6.6731\n",
            "Epoch 45/100\n",
            "1/1 [==============================] - 0s 24ms/step - loss: 6.6522 - mae: 6.6522\n",
            "Epoch 46/100\n",
            "1/1 [==============================] - 0s 17ms/step - loss: 6.6578 - mae: 6.6578\n",
            "Epoch 47/100\n",
            "1/1 [==============================] - 0s 39ms/step - loss: 6.6499 - mae: 6.6499\n",
            "Epoch 48/100\n",
            "1/1 [==============================] - 0s 21ms/step - loss: 6.6378 - mae: 6.6378\n",
            "Epoch 49/100\n",
            "1/1 [==============================] - 0s 26ms/step - loss: 6.6477 - mae: 6.6477\n",
            "Epoch 50/100\n",
            "1/1 [==============================] - 0s 31ms/step - loss: 6.6267 - mae: 6.6267\n",
            "Epoch 51/100\n",
            "1/1 [==============================] - 0s 26ms/step - loss: 6.6365 - mae: 6.6365\n",
            "Epoch 52/100\n",
            "1/1 [==============================] - 0s 14ms/step - loss: 6.6245 - mae: 6.6245\n",
            "Epoch 53/100\n",
            "1/1 [==============================] - 0s 21ms/step - loss: 6.6165 - mae: 6.6165\n",
            "Epoch 54/100\n",
            "1/1 [==============================] - 0s 26ms/step - loss: 6.6223 - mae: 6.6223\n",
            "Epoch 55/100\n",
            "1/1 [==============================] - 0s 24ms/step - loss: 6.6013 - mae: 6.6013\n",
            "Epoch 56/100\n",
            "1/1 [==============================] - 0s 35ms/step - loss: 6.6153 - mae: 6.6153\n",
            "Epoch 57/100\n",
            "1/1 [==============================] - 0s 22ms/step - loss: 6.5991 - mae: 6.5991\n",
            "Epoch 58/100\n",
            "1/1 [==============================] - 0s 26ms/step - loss: 6.5953 - mae: 6.5953\n",
            "Epoch 59/100\n",
            "1/1 [==============================] - 0s 38ms/step - loss: 6.5968 - mae: 6.5968\n",
            "Epoch 60/100\n",
            "1/1 [==============================] - 0s 33ms/step - loss: 6.5759 - mae: 6.5759\n",
            "Epoch 61/100\n",
            "1/1 [==============================] - 0s 19ms/step - loss: 6.5941 - mae: 6.5941\n",
            "Epoch 62/100\n",
            "1/1 [==============================] - 0s 20ms/step - loss: 6.5736 - mae: 6.5736\n",
            "Epoch 63/100\n",
            "1/1 [==============================] - 0s 19ms/step - loss: 6.5741 - mae: 6.5741\n",
            "Epoch 64/100\n",
            "1/1 [==============================] - 0s 35ms/step - loss: 6.5714 - mae: 6.5714\n",
            "Epoch 65/100\n",
            "1/1 [==============================] - 0s 13ms/step - loss: 6.5541 - mae: 6.5541\n",
            "Epoch 66/100\n",
            "1/1 [==============================] - 0s 15ms/step - loss: 6.5692 - mae: 6.5692\n",
            "Epoch 67/100\n",
            "1/1 [==============================] - 0s 24ms/step - loss: 6.5482 - mae: 6.5482\n",
            "Epoch 68/100\n",
            "1/1 [==============================] - 0s 25ms/step - loss: 6.5528 - mae: 6.5528\n",
            "Epoch 69/100\n",
            "1/1 [==============================] - 0s 37ms/step - loss: 6.5460 - mae: 6.5460\n",
            "Epoch 70/100\n",
            "1/1 [==============================] - 0s 22ms/step - loss: 6.5328 - mae: 6.5328\n",
            "Epoch 71/100\n",
            "1/1 [==============================] - 0s 34ms/step - loss: 6.5438 - mae: 6.5438\n",
            "Epoch 72/100\n",
            "1/1 [==============================] - 0s 9ms/step - loss: 6.5228 - mae: 6.5228\n",
            "Epoch 73/100\n",
            "1/1 [==============================] - 0s 14ms/step - loss: 6.5316 - mae: 6.5316\n",
            "Epoch 74/100\n",
            "1/1 [==============================] - 0s 28ms/step - loss: 6.5205 - mae: 6.5205\n",
            "Epoch 75/100\n",
            "1/1 [==============================] - 0s 23ms/step - loss: 6.5116 - mae: 6.5116\n",
            "Epoch 76/100\n",
            "1/1 [==============================] - 0s 35ms/step - loss: 6.5183 - mae: 6.5183\n",
            "Epoch 77/100\n",
            "1/1 [==============================] - 0s 18ms/step - loss: 6.4973 - mae: 6.4973\n",
            "Epoch 78/100\n",
            "1/1 [==============================] - 0s 32ms/step - loss: 6.5104 - mae: 6.5104\n",
            "Epoch 79/100\n",
            "1/1 [==============================] - 0s 28ms/step - loss: 6.4951 - mae: 6.4951\n",
            "Epoch 80/100\n",
            "1/1 [==============================] - 0s 15ms/step - loss: 6.4904 - mae: 6.4904\n",
            "Epoch 81/100\n",
            "1/1 [==============================] - 0s 16ms/step - loss: 6.4929 - mae: 6.4929\n",
            "Epoch 82/100\n",
            "1/1 [==============================] - 0s 18ms/step - loss: 6.4719 - mae: 6.4719\n",
            "Epoch 83/100\n",
            "1/1 [==============================] - 0s 62ms/step - loss: 6.4891 - mae: 6.4891\n",
            "Epoch 84/100\n",
            "1/1 [==============================] - 0s 23ms/step - loss: 6.4697 - mae: 6.4697\n",
            "Epoch 85/100\n",
            "1/1 [==============================] - 0s 52ms/step - loss: 6.4691 - mae: 6.4691\n",
            "Epoch 86/100\n",
            "1/1 [==============================] - 0s 35ms/step - loss: 6.4675 - mae: 6.4675\n",
            "Epoch 87/100\n",
            "1/1 [==============================] - 0s 24ms/step - loss: 6.4491 - mae: 6.4491\n",
            "Epoch 88/100\n",
            "1/1 [==============================] - 0s 36ms/step - loss: 6.4652 - mae: 6.4652\n",
            "Epoch 89/100\n",
            "1/1 [==============================] - 0s 25ms/step - loss: 6.4442 - mae: 6.4442\n",
            "Epoch 90/100\n",
            "1/1 [==============================] - 0s 48ms/step - loss: 6.4479 - mae: 6.4479\n",
            "Epoch 91/100\n",
            "1/1 [==============================] - 0s 29ms/step - loss: 6.4420 - mae: 6.4420\n",
            "Epoch 92/100\n",
            "1/1 [==============================] - 0s 27ms/step - loss: 6.4279 - mae: 6.4279\n",
            "Epoch 93/100\n",
            "1/1 [==============================] - 0s 8ms/step - loss: 6.4398 - mae: 6.4398\n",
            "Epoch 94/100\n",
            "1/1 [==============================] - 0s 8ms/step - loss: 6.4188 - mae: 6.4188\n",
            "Epoch 95/100\n",
            "1/1 [==============================] - 0s 8ms/step - loss: 6.4267 - mae: 6.4267\n",
            "Epoch 96/100\n",
            "1/1 [==============================] - 0s 34ms/step - loss: 6.4166 - mae: 6.4166\n",
            "Epoch 97/100\n",
            "1/1 [==============================] - 0s 21ms/step - loss: 6.4067 - mae: 6.4067\n",
            "Epoch 98/100\n",
            "1/1 [==============================] - 0s 9ms/step - loss: 6.4144 - mae: 6.4144\n",
            "Epoch 99/100\n",
            "1/1 [==============================] - 0s 7ms/step - loss: 6.3934 - mae: 6.3934\n",
            "Epoch 100/100\n",
            "1/1 [==============================] - 0s 7ms/step - loss: 6.4054 - mae: 6.4054\n"
          ]
        },
        {
          "output_type": "execute_result",
          "data": {
            "text/plain": [
              "<keras.callbacks.History at 0x7f6d1c8bd890>"
            ]
          },
          "metadata": {},
          "execution_count": 11
        }
      ]
    },
    {
      "cell_type": "code",
      "source": [
        "X, y"
      ],
      "metadata": {
        "colab": {
          "base_uri": "https://localhost:8080/"
        },
        "id": "2NOHAt7VhPWX",
        "outputId": "ee581ca2-6bde-447b-bb8c-8e119330bac3"
      },
      "execution_count": 12,
      "outputs": [
        {
          "output_type": "execute_result",
          "data": {
            "text/plain": [
              "(array([-7., -4., -1.,  2.,  5.,  8., 11., 14., 17.]),\n",
              " array([ 3.,  6.,  9., 12., 15., 18., 21., 24., 27.]))"
            ]
          },
          "metadata": {},
          "execution_count": 12
        }
      ]
    },
    {
      "cell_type": "code",
      "source": [
        "model_2.predict([10])"
      ],
      "metadata": {
        "colab": {
          "base_uri": "https://localhost:8080/"
        },
        "id": "Ka10wV5ihPZf",
        "outputId": "4784ae52-67f0-4f92-e307-886f304bf95d"
      },
      "execution_count": 13,
      "outputs": [
        {
          "output_type": "execute_result",
          "data": {
            "text/plain": [
              "array([[17.280586]], dtype=float32)"
            ]
          },
          "metadata": {},
          "execution_count": 13
        }
      ]
    },
    {
      "cell_type": "markdown",
      "source": [
        "## Splita data into training/test set"
      ],
      "metadata": {
        "id": "5RWApVgEhPbu"
      }
    },
    {
      "cell_type": "code",
      "source": [
        "import numpy as np\n",
        "X = np.arange(-100, 100, 4)\n",
        "X"
      ],
      "metadata": {
        "colab": {
          "base_uri": "https://localhost:8080/"
        },
        "id": "bOMpAVAmi3I_",
        "outputId": "f6fba694-6d92-4fb4-a45c-db2dd2ad5858"
      },
      "execution_count": 14,
      "outputs": [
        {
          "output_type": "execute_result",
          "data": {
            "text/plain": [
              "array([-100,  -96,  -92,  -88,  -84,  -80,  -76,  -72,  -68,  -64,  -60,\n",
              "        -56,  -52,  -48,  -44,  -40,  -36,  -32,  -28,  -24,  -20,  -16,\n",
              "        -12,   -8,   -4,    0,    4,    8,   12,   16,   20,   24,   28,\n",
              "         32,   36,   40,   44,   48,   52,   56,   60,   64,   68,   72,\n",
              "         76,   80,   84,   88,   92,   96])"
            ]
          },
          "metadata": {},
          "execution_count": 14
        }
      ]
    },
    {
      "cell_type": "code",
      "source": [
        "y = np.arange(-90, 110, 4)\n",
        "y"
      ],
      "metadata": {
        "colab": {
          "base_uri": "https://localhost:8080/"
        },
        "id": "vt2QXz80jFba",
        "outputId": "4c67fcd3-9e6a-4430-a116-035289dfc0a3"
      },
      "execution_count": 15,
      "outputs": [
        {
          "output_type": "execute_result",
          "data": {
            "text/plain": [
              "array([-90, -86, -82, -78, -74, -70, -66, -62, -58, -54, -50, -46, -42,\n",
              "       -38, -34, -30, -26, -22, -18, -14, -10,  -6,  -2,   2,   6,  10,\n",
              "        14,  18,  22,  26,  30,  34,  38,  42,  46,  50,  54,  58,  62,\n",
              "        66,  70,  74,  78,  82,  86,  90,  94,  98, 102, 106])"
            ]
          },
          "metadata": {},
          "execution_count": 15
        }
      ]
    },
    {
      "cell_type": "code",
      "source": [
        "len(X), len(y)"
      ],
      "metadata": {
        "colab": {
          "base_uri": "https://localhost:8080/"
        },
        "id": "XXY1If7xjFeI",
        "outputId": "3cb7bf39-9271-48ad-b7b5-604572a3f01e"
      },
      "execution_count": 16,
      "outputs": [
        {
          "output_type": "execute_result",
          "data": {
            "text/plain": [
              "(50, 50)"
            ]
          },
          "metadata": {},
          "execution_count": 16
        }
      ]
    },
    {
      "cell_type": "code",
      "source": [
        "# Our neural network will try to approximate this equation:\n",
        "y_1 = X + 10\n",
        "y_1"
      ],
      "metadata": {
        "colab": {
          "base_uri": "https://localhost:8080/"
        },
        "id": "eCw2wA7mi3Ml",
        "outputId": "d07a7d9a-23af-4254-931f-44b3213647a9"
      },
      "execution_count": 17,
      "outputs": [
        {
          "output_type": "execute_result",
          "data": {
            "text/plain": [
              "array([-90, -86, -82, -78, -74, -70, -66, -62, -58, -54, -50, -46, -42,\n",
              "       -38, -34, -30, -26, -22, -18, -14, -10,  -6,  -2,   2,   6,  10,\n",
              "        14,  18,  22,  26,  30,  34,  38,  42,  46,  50,  54,  58,  62,\n",
              "        66,  70,  74,  78,  82,  86,  90,  94,  98, 102, 106])"
            ]
          },
          "metadata": {},
          "execution_count": 17
        }
      ]
    },
    {
      "cell_type": "code",
      "source": [
        "X_train = X[:40]\n",
        "y_train = y[:40]"
      ],
      "metadata": {
        "id": "LgkgEQ-BnhTz"
      },
      "execution_count": 18,
      "outputs": []
    },
    {
      "cell_type": "code",
      "source": [
        "X_train, y_train"
      ],
      "metadata": {
        "colab": {
          "base_uri": "https://localhost:8080/"
        },
        "id": "dzhbuzK3jvEm",
        "outputId": "57d34a26-3123-4491-e1e5-b7e020214d3d"
      },
      "execution_count": 19,
      "outputs": [
        {
          "output_type": "execute_result",
          "data": {
            "text/plain": [
              "(array([-100,  -96,  -92,  -88,  -84,  -80,  -76,  -72,  -68,  -64,  -60,\n",
              "         -56,  -52,  -48,  -44,  -40,  -36,  -32,  -28,  -24,  -20,  -16,\n",
              "         -12,   -8,   -4,    0,    4,    8,   12,   16,   20,   24,   28,\n",
              "          32,   36,   40,   44,   48,   52,   56]),\n",
              " array([-90, -86, -82, -78, -74, -70, -66, -62, -58, -54, -50, -46, -42,\n",
              "        -38, -34, -30, -26, -22, -18, -14, -10,  -6,  -2,   2,   6,  10,\n",
              "         14,  18,  22,  26,  30,  34,  38,  42,  46,  50,  54,  58,  62,\n",
              "         66]))"
            ]
          },
          "metadata": {},
          "execution_count": 19
        }
      ]
    },
    {
      "cell_type": "code",
      "source": [
        "X_test = X[40:]\n",
        "y_test = y[40:]"
      ],
      "metadata": {
        "id": "-DAk7NHLjvHx"
      },
      "execution_count": 20,
      "outputs": []
    },
    {
      "cell_type": "code",
      "source": [
        "X_test, y_test"
      ],
      "metadata": {
        "colab": {
          "base_uri": "https://localhost:8080/"
        },
        "id": "X8n07nVxjvKl",
        "outputId": "00f9c762-0763-4fd7-82ab-b38033e175d4"
      },
      "execution_count": 21,
      "outputs": [
        {
          "output_type": "execute_result",
          "data": {
            "text/plain": [
              "(array([60, 64, 68, 72, 76, 80, 84, 88, 92, 96]),\n",
              " array([ 70,  74,  78,  82,  86,  90,  94,  98, 102, 106]))"
            ]
          },
          "metadata": {},
          "execution_count": 21
        }
      ]
    },
    {
      "cell_type": "code",
      "source": [
        "len(X_train), len(X_test)"
      ],
      "metadata": {
        "colab": {
          "base_uri": "https://localhost:8080/"
        },
        "id": "UAEo-xvjj_1E",
        "outputId": "37d8f07a-fc43-4f7d-8362-60d18ce0caba"
      },
      "execution_count": 22,
      "outputs": [
        {
          "output_type": "execute_result",
          "data": {
            "text/plain": [
              "(40, 10)"
            ]
          },
          "metadata": {},
          "execution_count": 22
        }
      ]
    },
    {
      "cell_type": "code",
      "source": [
        "plt.figure(figsize=(10,7))\n",
        "\n",
        "plt.scatter(X_train, y_train, c=\"b\", label=\"Training data\")\n",
        "plt.scatter(X_test, y_test, c=\"g\", label=\"Test data\")"
      ],
      "metadata": {
        "colab": {
          "base_uri": "https://localhost:8080/",
          "height": 446
        },
        "id": "KXiuGUirj_4S",
        "outputId": "71e02c38-df07-4129-cce1-d3dee10ce4fd"
      },
      "execution_count": 23,
      "outputs": [
        {
          "output_type": "execute_result",
          "data": {
            "text/plain": [
              "<matplotlib.collections.PathCollection at 0x7f6d1b0fb990>"
            ]
          },
          "metadata": {},
          "execution_count": 23
        },
        {
          "output_type": "display_data",
          "data": {
            "text/plain": [
              "<Figure size 720x504 with 1 Axes>"
            ],
            "image/png": "[encoded data removed]"
          },
          "metadata": {
            "needs_background": "light"
          }
        }
      ]
    },
    {
      "cell_type": "markdown",
      "source": [
        "## Model 3"
      ],
      "metadata": {
        "id": "4F1p0D2yj_7z"
      }
    },
    {
      "cell_type": "code",
      "source": [
        "# 0. set random seed\n",
        "tf.random.set_seed(42)\n",
        "\n",
        "# 1. create model \n",
        "model_3 = tf.keras.Sequential([\n",
        "  tf.keras.layers.Dense(1, input_shape=[1])\n",
        "])\n",
        "\n",
        "# 2 compile model\n",
        "model_3.compile(loss=tf.keras.losses.mae,\n",
        "                 optimizer=tf.keras.optimizers.SGD(),\n",
        "                 metrics=[\"mae\"])\n",
        "\n",
        "# 3 fit the model\n",
        "model_3.fit(X_train, y_train, epochs=100)"
      ],
      "metadata": {
        "colab": {
          "base_uri": "https://localhost:8080/"
        },
        "id": "BsQphCRZlINB",
        "outputId": "395fa546-0cd9-47d6-b59b-c1305f5873cc"
      },
      "execution_count": 24,
      "outputs": [
        {
          "output_type": "stream",
          "name": "stdout",
          "text": [
            "Epoch 1/100\n",
            "2/2 [==============================] - 1s 18ms/step - loss: 15.9024 - mae: 15.9024\n",
            "Epoch 2/100\n",
            "2/2 [==============================] - 0s 11ms/step - loss: 11.2837 - mae: 11.2837\n",
            "Epoch 3/100\n",
            "2/2 [==============================] - 0s 11ms/step - loss: 11.1074 - mae: 11.1074\n",
            "Epoch 4/100\n",
            "2/2 [==============================] - 0s 17ms/step - loss: 9.2991 - mae: 9.2991\n",
            "Epoch 5/100\n",
            "2/2 [==============================] - 0s 20ms/step - loss: 10.1677 - mae: 10.1677\n",
            "Epoch 6/100\n",
            "2/2 [==============================] - 0s 33ms/step - loss: 9.4303 - mae: 9.4303\n",
            "Epoch 7/100\n",
            "2/2 [==============================] - 0s 22ms/step - loss: 8.5704 - mae: 8.5704\n",
            "Epoch 8/100\n",
            "2/2 [==============================] - 0s 12ms/step - loss: 9.0442 - mae: 9.0442\n",
            "Epoch 9/100\n",
            "2/2 [==============================] - 0s 14ms/step - loss: 18.7517 - mae: 18.7517\n",
            "Epoch 10/100\n",
            "2/2 [==============================] - 0s 21ms/step - loss: 10.1142 - mae: 10.1142\n",
            "Epoch 11/100\n",
            "2/2 [==============================] - 0s 19ms/step - loss: 8.3980 - mae: 8.3980\n",
            "Epoch 12/100\n",
            "2/2 [==============================] - 0s 10ms/step - loss: 10.6639 - mae: 10.6639\n",
            "Epoch 13/100\n",
            "2/2 [==============================] - 0s 8ms/step - loss: 9.7977 - mae: 9.7977\n",
            "Epoch 14/100\n",
            "2/2 [==============================] - 0s 19ms/step - loss: 16.0103 - mae: 16.0103\n",
            "Epoch 15/100\n",
            "2/2 [==============================] - 0s 14ms/step - loss: 11.4068 - mae: 11.4068\n",
            "Epoch 16/100\n",
            "2/2 [==============================] - 0s 18ms/step - loss: 8.5393 - mae: 8.5393\n",
            "Epoch 17/100\n",
            "2/2 [==============================] - 0s 11ms/step - loss: 13.6348 - mae: 13.6348\n",
            "Epoch 18/100\n",
            "2/2 [==============================] - 0s 10ms/step - loss: 11.4629 - mae: 11.4629\n",
            "Epoch 19/100\n",
            "2/2 [==============================] - 0s 16ms/step - loss: 17.9148 - mae: 17.9148\n",
            "Epoch 20/100\n",
            "2/2 [==============================] - 0s 11ms/step - loss: 15.0494 - mae: 15.0494\n",
            "Epoch 21/100\n",
            "2/2 [==============================] - 0s 7ms/step - loss: 11.0216 - mae: 11.0216\n",
            "Epoch 22/100\n",
            "2/2 [==============================] - 0s 7ms/step - loss: 8.1558 - mae: 8.1558\n",
            "Epoch 23/100\n",
            "2/2 [==============================] - 0s 6ms/step - loss: 9.5138 - mae: 9.5138\n",
            "Epoch 24/100\n",
            "2/2 [==============================] - 0s 9ms/step - loss: 7.6617 - mae: 7.6617\n",
            "Epoch 25/100\n",
            "2/2 [==============================] - 0s 14ms/step - loss: 13.1859 - mae: 13.1859\n",
            "Epoch 26/100\n",
            "2/2 [==============================] - 0s 13ms/step - loss: 16.4211 - mae: 16.4211\n",
            "Epoch 27/100\n",
            "2/2 [==============================] - 0s 8ms/step - loss: 13.1660 - mae: 13.1660\n",
            "Epoch 28/100\n",
            "2/2 [==============================] - 0s 10ms/step - loss: 14.2559 - mae: 14.2559\n",
            "Epoch 29/100\n",
            "2/2 [==============================] - 0s 8ms/step - loss: 10.0670 - mae: 10.0670\n",
            "Epoch 30/100\n",
            "2/2 [==============================] - 0s 14ms/step - loss: 16.3409 - mae: 16.3409\n",
            "Epoch 31/100\n",
            "2/2 [==============================] - 0s 11ms/step - loss: 23.6444 - mae: 23.6444\n",
            "Epoch 32/100\n",
            "2/2 [==============================] - 0s 23ms/step - loss: 7.6215 - mae: 7.6215\n",
            "Epoch 33/100\n",
            "2/2 [==============================] - 0s 7ms/step - loss: 9.3221 - mae: 9.3221\n",
            "Epoch 34/100\n",
            "2/2 [==============================] - 0s 7ms/step - loss: 13.7313 - mae: 13.7313\n",
            "Epoch 35/100\n",
            "2/2 [==============================] - 0s 6ms/step - loss: 11.1276 - mae: 11.1276\n",
            "Epoch 36/100\n",
            "2/2 [==============================] - 0s 23ms/step - loss: 13.3222 - mae: 13.3222\n",
            "Epoch 37/100\n",
            "2/2 [==============================] - 0s 18ms/step - loss: 9.4763 - mae: 9.4763\n",
            "Epoch 38/100\n",
            "2/2 [==============================] - 0s 19ms/step - loss: 10.1381 - mae: 10.1381\n",
            "Epoch 39/100\n",
            "2/2 [==============================] - 0s 10ms/step - loss: 10.1793 - mae: 10.1793\n",
            "Epoch 40/100\n",
            "2/2 [==============================] - 0s 16ms/step - loss: 10.9137 - mae: 10.9137\n",
            "Epoch 41/100\n",
            "2/2 [==============================] - 0s 13ms/step - loss: 7.9063 - mae: 7.9063\n",
            "Epoch 42/100\n",
            "2/2 [==============================] - 0s 5ms/step - loss: 10.0914 - mae: 10.0914\n",
            "Epoch 43/100\n",
            "2/2 [==============================] - 0s 9ms/step - loss: 8.7006 - mae: 8.7006\n",
            "Epoch 44/100\n",
            "2/2 [==============================] - 0s 10ms/step - loss: 12.2047 - mae: 12.2047\n",
            "Epoch 45/100\n",
            "2/2 [==============================] - 0s 8ms/step - loss: 13.7970 - mae: 13.7970\n",
            "Epoch 46/100\n",
            "2/2 [==============================] - 0s 9ms/step - loss: 8.4687 - mae: 8.4687\n",
            "Epoch 47/100\n",
            "2/2 [==============================] - 0s 9ms/step - loss: 9.1330 - mae: 9.1330\n",
            "Epoch 48/100\n",
            "2/2 [==============================] - 0s 7ms/step - loss: 10.6190 - mae: 10.6190\n",
            "Epoch 49/100\n",
            "2/2 [==============================] - 0s 9ms/step - loss: 7.7503 - mae: 7.7503\n",
            "Epoch 50/100\n",
            "2/2 [==============================] - 0s 8ms/step - loss: 9.5407 - mae: 9.5407\n",
            "Epoch 51/100\n",
            "2/2 [==============================] - 0s 10ms/step - loss: 9.1584 - mae: 9.1584\n",
            "Epoch 52/100\n",
            "2/2 [==============================] - 0s 16ms/step - loss: 16.3630 - mae: 16.3630\n",
            "Epoch 53/100\n",
            "2/2 [==============================] - 0s 11ms/step - loss: 14.1299 - mae: 14.1299\n",
            "Epoch 54/100\n",
            "2/2 [==============================] - 0s 22ms/step - loss: 21.1247 - mae: 21.1247\n",
            "Epoch 55/100\n",
            "2/2 [==============================] - 0s 12ms/step - loss: 16.3961 - mae: 16.3961\n",
            "Epoch 56/100\n",
            "2/2 [==============================] - 0s 16ms/step - loss: 9.9806 - mae: 9.9806\n",
            "Epoch 57/100\n",
            "2/2 [==============================] - 0s 11ms/step - loss: 9.9606 - mae: 9.9606\n",
            "Epoch 58/100\n",
            "2/2 [==============================] - 0s 7ms/step - loss: 9.2209 - mae: 9.2209\n",
            "Epoch 59/100\n",
            "2/2 [==============================] - 0s 5ms/step - loss: 8.4239 - mae: 8.4239\n",
            "Epoch 60/100\n",
            "2/2 [==============================] - 0s 5ms/step - loss: 9.4869 - mae: 9.4869\n",
            "Epoch 61/100\n",
            "2/2 [==============================] - 0s 6ms/step - loss: 11.4355 - mae: 11.4355\n",
            "Epoch 62/100\n",
            "2/2 [==============================] - 0s 9ms/step - loss: 11.6887 - mae: 11.6887\n",
            "Epoch 63/100\n",
            "2/2 [==============================] - 0s 7ms/step - loss: 7.0838 - mae: 7.0838\n",
            "Epoch 64/100\n",
            "2/2 [==============================] - 0s 7ms/step - loss: 16.9675 - mae: 16.9675\n",
            "Epoch 65/100\n",
            "2/2 [==============================] - 0s 8ms/step - loss: 12.4599 - mae: 12.4599\n",
            "Epoch 66/100\n",
            "2/2 [==============================] - 0s 23ms/step - loss: 13.0184 - mae: 13.0184\n",
            "Epoch 67/100\n",
            "2/2 [==============================] - 0s 12ms/step - loss: 8.0600 - mae: 8.0600\n",
            "Epoch 68/100\n",
            "2/2 [==============================] - 0s 18ms/step - loss: 10.1888 - mae: 10.1888\n",
            "Epoch 69/100\n",
            "2/2 [==============================] - 0s 12ms/step - loss: 12.3633 - mae: 12.3633\n",
            "Epoch 70/100\n",
            "2/2 [==============================] - 0s 11ms/step - loss: 9.0516 - mae: 9.0516\n",
            "Epoch 71/100\n",
            "2/2 [==============================] - 0s 7ms/step - loss: 10.0378 - mae: 10.0378\n",
            "Epoch 72/100\n",
            "2/2 [==============================] - 0s 6ms/step - loss: 10.0516 - mae: 10.0516\n",
            "Epoch 73/100\n",
            "2/2 [==============================] - 0s 5ms/step - loss: 12.6151 - mae: 12.6151\n",
            "Epoch 74/100\n",
            "2/2 [==============================] - 0s 13ms/step - loss: 10.3819 - mae: 10.3819\n",
            "Epoch 75/100\n",
            "2/2 [==============================] - 0s 15ms/step - loss: 9.7229 - mae: 9.7229\n",
            "Epoch 76/100\n",
            "2/2 [==============================] - 0s 11ms/step - loss: 11.2252 - mae: 11.2252\n",
            "Epoch 77/100\n",
            "2/2 [==============================] - 0s 5ms/step - loss: 8.3642 - mae: 8.3642\n",
            "Epoch 78/100\n",
            "2/2 [==============================] - 0s 7ms/step - loss: 9.1274 - mae: 9.1274\n",
            "Epoch 79/100\n",
            "2/2 [==============================] - 0s 12ms/step - loss: 19.5039 - mae: 19.5039\n",
            "Epoch 80/100\n",
            "2/2 [==============================] - 0s 7ms/step - loss: 14.8945 - mae: 14.8945\n",
            "Epoch 81/100\n",
            "2/2 [==============================] - 0s 20ms/step - loss: 9.0034 - mae: 9.0034\n",
            "Epoch 82/100\n",
            "2/2 [==============================] - 0s 9ms/step - loss: 13.0206 - mae: 13.0206\n",
            "Epoch 83/100\n",
            "2/2 [==============================] - 0s 7ms/step - loss: 7.9299 - mae: 7.9299\n",
            "Epoch 84/100\n",
            "2/2 [==============================] - 0s 6ms/step - loss: 7.6872 - mae: 7.6872\n",
            "Epoch 85/100\n",
            "2/2 [==============================] - 0s 4ms/step - loss: 10.0328 - mae: 10.0328\n",
            "Epoch 86/100\n",
            "2/2 [==============================] - 0s 5ms/step - loss: 9.2433 - mae: 9.2433\n",
            "Epoch 87/100\n",
            "2/2 [==============================] - 0s 5ms/step - loss: 12.0209 - mae: 12.0209\n",
            "Epoch 88/100\n",
            "2/2 [==============================] - 0s 14ms/step - loss: 10.6389 - mae: 10.6389\n",
            "Epoch 89/100\n",
            "2/2 [==============================] - 0s 9ms/step - loss: 7.2667 - mae: 7.2667\n",
            "Epoch 90/100\n",
            "2/2 [==============================] - 0s 8ms/step - loss: 12.7786 - mae: 12.7786\n",
            "Epoch 91/100\n",
            "2/2 [==============================] - 0s 11ms/step - loss: 7.3481 - mae: 7.3481\n",
            "Epoch 92/100\n",
            "2/2 [==============================] - 0s 18ms/step - loss: 7.7175 - mae: 7.7175\n",
            "Epoch 93/100\n",
            "2/2 [==============================] - 0s 13ms/step - loss: 7.1263 - mae: 7.1263\n",
            "Epoch 94/100\n",
            "2/2 [==============================] - 0s 13ms/step - loss: 12.6190 - mae: 12.6190\n",
            "Epoch 95/100\n",
            "2/2 [==============================] - 0s 12ms/step - loss: 10.0912 - mae: 10.0912\n",
            "Epoch 96/100\n",
            "2/2 [==============================] - 0s 26ms/step - loss: 9.3558 - mae: 9.3558\n",
            "Epoch 97/100\n",
            "2/2 [==============================] - 0s 8ms/step - loss: 12.6834 - mae: 12.6834\n",
            "Epoch 98/100\n",
            "2/2 [==============================] - 0s 18ms/step - loss: 8.6762 - mae: 8.6762\n",
            "Epoch 99/100\n",
            "2/2 [==============================] - 0s 13ms/step - loss: 9.4693 - mae: 9.4693\n",
            "Epoch 100/100\n",
            "2/2 [==============================] - 0s 21ms/step - loss: 8.7067 - mae: 8.7067\n"
          ]
        },
        {
          "output_type": "execute_result",
          "data": {
            "text/plain": [
              "<keras.callbacks.History at 0x7f6d1c850090>"
            ]
          },
          "metadata": {},
          "execution_count": 24
        }
      ]
    },
    {
      "cell_type": "code",
      "source": [
        "model_3.summary()"
      ],
      "metadata": {
        "colab": {
          "base_uri": "https://localhost:8080/"
        },
        "id": "a1CgB1LxlIdP",
        "outputId": "aec806cd-0f5b-44a2-d97f-7590f12c183f"
      },
      "execution_count": 25,
      "outputs": [
        {
          "output_type": "stream",
          "name": "stdout",
          "text": [
            "Model: \"sequential_2\"\n",
            "_________________________________________________________________\n",
            " Layer (type)                Output Shape              Param #   \n",
            "=================================================================\n",
            " dense_2 (Dense)             (None, 1)                 2         \n",
            "                                                                 \n",
            "=================================================================\n",
            "Total params: 2\n",
            "Trainable params: 2\n",
            "Non-trainable params: 0\n",
            "_________________________________________________________________\n"
          ]
        }
      ]
    },
    {
      "cell_type": "code",
      "source": [
        "from tensorflow.keras.utils import plot_model\n",
        "\n",
        "plot_model(model_3, show_shapes=True)"
      ],
      "metadata": {
        "colab": {
          "base_uri": "https://localhost:8080/",
          "height": 201
        },
        "id": "3f-2f0u8lJEU",
        "outputId": "c18ec853-2510-40dd-c437-eed4dd9207ba"
      },
      "execution_count": 26,
      "outputs": [
        {
          "output_type": "execute_result",
          "data": {
            "text/plain": [
              "<IPython.core.display.Image object>"
            ],
            "image/png": "[encoded data removed]"
          },
          "metadata": {},
          "execution_count": 26
        }
      ]
    },
    {
      "cell_type": "code",
      "source": [
        "# X_test = exam\n",
        "# y_preds = answer\n",
        "y_preds = model.predict(X_test)"
      ],
      "metadata": {
        "id": "k3LUoJ8rlJJD"
      },
      "execution_count": 27,
      "outputs": []
    },
    {
      "cell_type": "code",
      "source": [
        "y_preds"
      ],
      "metadata": {
        "colab": {
          "base_uri": "https://localhost:8080/"
        },
        "id": "Y7q5EvmulJNW",
        "outputId": "d9a9d345-b744-477f-e3b2-882b652f60fd"
      },
      "execution_count": 28,
      "outputs": [
        {
          "output_type": "execute_result",
          "data": {
            "text/plain": [
              "array([[49.253597],\n",
              "       [52.533836],\n",
              "       [55.814075],\n",
              "       [59.094315],\n",
              "       [62.374557],\n",
              "       [65.6548  ],\n",
              "       [68.935036],\n",
              "       [72.21528 ],\n",
              "       [75.49552 ],\n",
              "       [78.77576 ]], dtype=float32)"
            ]
          },
          "metadata": {},
          "execution_count": 28
        }
      ]
    },
    {
      "cell_type": "code",
      "source": [
        "y_test"
      ],
      "metadata": {
        "colab": {
          "base_uri": "https://localhost:8080/"
        },
        "id": "VELwqbWTlJQv",
        "outputId": "00f0b7ec-42fc-491f-9847-05ffb1ba0e63"
      },
      "execution_count": 29,
      "outputs": [
        {
          "output_type": "execute_result",
          "data": {
            "text/plain": [
              "array([ 70,  74,  78,  82,  86,  90,  94,  98, 102, 106])"
            ]
          },
          "metadata": {},
          "execution_count": 29
        }
      ]
    },
    {
      "cell_type": "code",
      "source": [
        "def plot_prediction(train_data=X_train,\n",
        "                    train_labels=y_train,\n",
        "                    test_data=X_test,\n",
        "                    test_labels=y_test,\n",
        "                    predictions=y_preds):\n",
        "  plt.figure(figsize=(10,7))\n",
        "  plt.scatter(train_data, train_labels, c=\"b\", label=\"Training data\")\n",
        "  plt.scatter(test_data, test_labels, c=\"g\", label=\"Test data\")\n",
        "  plt.scatter(test_data, predictions, c=\"r\", label=\"Predictions\")\n",
        "  plt.legend();"
      ],
      "metadata": {
        "id": "bdKRx4rdn6pP"
      },
      "execution_count": 30,
      "outputs": []
    },
    {
      "cell_type": "code",
      "source": [
        "plot_prediction()"
      ],
      "metadata": {
        "colab": {
          "base_uri": "https://localhost:8080/",
          "height": 428
        },
        "id": "yJ5d37-soSlP",
        "outputId": "bf1824b3-f20c-4a03-ae7a-6fcef846b509"
      },
      "execution_count": 31,
      "outputs": [
        {
          "output_type": "display_data",
          "data": {
            "text/plain": [
              "<Figure size 720x504 with 1 Axes>"
            ],
            "image/png": "[encoded data removed]"
          },
          "metadata": {
            "needs_background": "light"
          }
        }
      ]
    },
    {
      "cell_type": "markdown",
      "source": [
        "## Evaluating predictions"
      ],
      "metadata": {
        "id": "IIAHA5XWBqza"
      }
    },
    {
      "cell_type": "code",
      "source": [
        "model_3.evaluate(X_test, y_test)"
      ],
      "metadata": {
        "colab": {
          "base_uri": "https://localhost:8080/"
        },
        "id": "8dNM5esIBq5c",
        "outputId": "d46a2a24-185a-4b71-b4fc-1b638fcb1582"
      },
      "execution_count": 32,
      "outputs": [
        {
          "output_type": "stream",
          "name": "stdout",
          "text": [
            "1/1 [==============================] - 0s 374ms/step - loss: 18.7453 - mae: 18.7453\n"
          ]
        },
        {
          "output_type": "execute_result",
          "data": {
            "text/plain": [
              "[18.74532699584961, 18.74532699584961]"
            ]
          },
          "metadata": {},
          "execution_count": 32
        }
      ]
    },
    {
      "cell_type": "markdown",
      "source": [
        "* **Mean Absolute Error (MAE)** : the mean difference between each of the predictions\n",
        "* **Mean Squared Error (MSE)**: the squared mean difference between each of the predictions (outliers)\n",
        "\n",
        "Error metric is declared in `model.compile(loss,optimizer,metric)` in metric"
      ],
      "metadata": {
        "id": "hf0SIWD_Bq9X"
      }
    },
    {
      "cell_type": "code",
      "source": [
        "mae = tf.metrics.mean_absolute_error(y_true=y_test,\n",
        "                                     y_pred=y_preds)\n",
        "mae"
      ],
      "metadata": {
        "colab": {
          "base_uri": "https://localhost:8080/"
        },
        "id": "j9l4_vbhCT-H",
        "outputId": "407804a5-d6e1-465c-9d4b-a6c6c450eeae"
      },
      "execution_count": 33,
      "outputs": [
        {
          "output_type": "execute_result",
          "data": {
            "text/plain": [
              "<tf.Tensor: shape=(10,), dtype=float32, numpy=\n",
              "array([38.746403, 35.466164, 32.185925, 28.905685, 25.625443, 22.3452  ,\n",
              "       19.064964, 16.227777, 13.902687, 12.089697], dtype=float32)>"
            ]
          },
          "metadata": {},
          "execution_count": 33
        }
      ]
    },
    {
      "cell_type": "code",
      "source": [
        "y_preds_3 = model.predict(X_test)"
      ],
      "metadata": {
        "id": "s3OKRrYECUD5"
      },
      "execution_count": 34,
      "outputs": []
    },
    {
      "cell_type": "code",
      "source": [
        "plot_prediction(X_train,\n",
        "                y_train,\n",
        "                X_test,\n",
        "                y_test,\n",
        "                y_preds_3)"
      ],
      "metadata": {
        "colab": {
          "base_uri": "https://localhost:8080/",
          "height": 428
        },
        "id": "Yxpqyf_xDnFu",
        "outputId": "eabb1c4d-997b-4370-e506-c7a77871ec41"
      },
      "execution_count": 35,
      "outputs": [
        {
          "output_type": "display_data",
          "data": {
            "text/plain": [
              "<Figure size 720x504 with 1 Axes>"
            ],
            "image/png": "[encoded data removed]"
          },
          "metadata": {
            "needs_background": "light"
          }
        }
      ]
    },
    {
      "cell_type": "code",
      "source": [
        "y_test.shape, y_preds.shape"
      ],
      "metadata": {
        "colab": {
          "base_uri": "https://localhost:8080/"
        },
        "id": "K23qlfYGDnJ1",
        "outputId": "4079826b-0492-4913-9d38-6a88e855c8b4"
      },
      "execution_count": 36,
      "outputs": [
        {
          "output_type": "execute_result",
          "data": {
            "text/plain": [
              "((10,), (10, 1))"
            ]
          },
          "metadata": {},
          "execution_count": 36
        }
      ]
    },
    {
      "cell_type": "code",
      "source": [
        "# delete 1 \n",
        "y_preds = y_preds.squeeze()"
      ],
      "metadata": {
        "id": "PypRWnwwE4kk"
      },
      "execution_count": 37,
      "outputs": []
    },
    {
      "cell_type": "code",
      "source": [
        "mae = tf.metrics.mean_absolute_error(y_true=y_test,\n",
        "                                     y_pred=y_preds)\n",
        "mae"
      ],
      "metadata": {
        "colab": {
          "base_uri": "https://localhost:8080/"
        },
        "id": "0ZXfBkEMEYI0",
        "outputId": "613f4a45-cd49-47ec-e371-d9ff665490f3"
      },
      "execution_count": 38,
      "outputs": [
        {
          "output_type": "execute_result",
          "data": {
            "text/plain": [
              "<tf.Tensor: shape=(), dtype=float32, numpy=23.985325>"
            ]
          },
          "metadata": {},
          "execution_count": 38
        }
      ]
    },
    {
      "cell_type": "code",
      "source": [
        "y_preds.shape"
      ],
      "metadata": {
        "colab": {
          "base_uri": "https://localhost:8080/"
        },
        "id": "IEKmGRQAEZKK",
        "outputId": "ce40fa6d-4ee8-4a9e-8534-22a4602b1a80"
      },
      "execution_count": 39,
      "outputs": [
        {
          "output_type": "execute_result",
          "data": {
            "text/plain": [
              "(10,)"
            ]
          },
          "metadata": {},
          "execution_count": 39
        }
      ]
    },
    {
      "cell_type": "markdown",
      "source": [
        "# Model_4"
      ],
      "metadata": {
        "id": "MiiyoZWbFd_m"
      }
    },
    {
      "cell_type": "code",
      "source": [
        "# Set random seed\n",
        "tf.random.set_seed(42)\n",
        "\n",
        "# 1. Create a model\n",
        "model_4 = tf.keras.Sequential([\n",
        "  tf.keras.layers.Dense(1),\n",
        "  tf.keras.layers.Dense(1)\n",
        "])\n",
        "\n",
        "# 2. Compile model\n",
        "model_4.compile(loss=tf.keras.losses.mae,\n",
        "                optimizer=tf.keras.optimizers.SGD(),\n",
        "                metrics=[\"mae\"])\n",
        "\n",
        "# 3. fit the model\n",
        "model_4.fit(tf.expand_dims(X_train, axis=-1), y_train, epochs=100, verbose=0)"
      ],
      "metadata": {
        "colab": {
          "base_uri": "https://localhost:8080/"
        },
        "id": "DaCh2wb-FeDM",
        "outputId": "add16754-6f7e-409f-b04d-79e4504e7fc5"
      },
      "execution_count": 40,
      "outputs": [
        {
          "output_type": "execute_result",
          "data": {
            "text/plain": [
              "<keras.callbacks.History at 0x7f6d1b5de290>"
            ]
          },
          "metadata": {},
          "execution_count": 40
        }
      ]
    },
    {
      "cell_type": "code",
      "source": [
        "y_preds_4 =model_4.predict(X_test)\n",
        "y_preds_4"
      ],
      "metadata": {
        "colab": {
          "base_uri": "https://localhost:8080/"
        },
        "id": "5kTZbnENFeG-",
        "outputId": "bf796f10-c08e-4266-9ae5-fa6021b7afc2"
      },
      "execution_count": 41,
      "outputs": [
        {
          "output_type": "execute_result",
          "data": {
            "text/plain": [
              "array([[ 69.4672  ],\n",
              "       [ 73.985695],\n",
              "       [ 78.50417 ],\n",
              "       [ 83.02267 ],\n",
              "       [ 87.541145],\n",
              "       [ 92.05964 ],\n",
              "       [ 96.57812 ],\n",
              "       [101.0966  ],\n",
              "       [105.61509 ],\n",
              "       [110.133575]], dtype=float32)"
            ]
          },
          "metadata": {},
          "execution_count": 41
        }
      ]
    },
    {
      "cell_type": "code",
      "source": [
        "plot_prediction(predictions=y_preds_4)"
      ],
      "metadata": {
        "colab": {
          "base_uri": "https://localhost:8080/",
          "height": 428
        },
        "id": "TtUrAiBnFeJx",
        "outputId": "2139ae9a-8a5d-4f6c-c8d8-d4c6efd68156"
      },
      "execution_count": 42,
      "outputs": [
        {
          "output_type": "display_data",
          "data": {
            "text/plain": [
              "<Figure size 720x504 with 1 Axes>"
            ],
            "image/png": "[encoded data removed]"
          },
          "metadata": {
            "needs_background": "light"
          }
        }
      ]
    },
    {
      "cell_type": "code",
      "source": [
        "full = []\n",
        "\n",
        "for i in range(-100, 60, 4):\n",
        "  pred = model_4.predict([i])\n",
        "  full.append(pred)"
      ],
      "metadata": {
        "id": "H5OP6oOtHElq"
      },
      "execution_count": 43,
      "outputs": []
    },
    {
      "cell_type": "code",
      "source": [
        "full = np.squeeze(full)"
      ],
      "metadata": {
        "id": "DC1ZTZGyI6I-"
      },
      "execution_count": 44,
      "outputs": []
    },
    {
      "cell_type": "code",
      "source": [
        "X_train.shape, np.shape(full)"
      ],
      "metadata": {
        "colab": {
          "base_uri": "https://localhost:8080/"
        },
        "id": "2V37HzYxIlHF",
        "outputId": "117810a5-01ce-4783-fadf-9eff5803c276"
      },
      "execution_count": 45,
      "outputs": [
        {
          "output_type": "execute_result",
          "data": {
            "text/plain": [
              "((40,), (40,))"
            ]
          },
          "metadata": {},
          "execution_count": 45
        }
      ]
    },
    {
      "cell_type": "code",
      "source": [
        "plt.scatter(X_train, full)"
      ],
      "metadata": {
        "colab": {
          "base_uri": "https://localhost:8080/",
          "height": 283
        },
        "id": "1uC-CLbUIfOp",
        "outputId": "5553feb2-ae22-4b64-cc51-0015566d5cd1"
      },
      "execution_count": 46,
      "outputs": [
        {
          "output_type": "execute_result",
          "data": {
            "text/plain": [
              "<matplotlib.collections.PathCollection at 0x7f6d1b3d03d0>"
            ]
          },
          "metadata": {},
          "execution_count": 46
        },
        {
          "output_type": "display_data",
          "data": {
            "text/plain": [
              "<Figure size 432x288 with 1 Axes>"
            ],
            "image/png": "[encoded data removed]"
          },
          "metadata": {
            "needs_background": "light"
          }
        }
      ]
    },
    {
      "cell_type": "markdown",
      "source": [
        "# `Model_5` More epoch does not mean more precision"
      ],
      "metadata": {
        "id": "0lhzeezoIkNp"
      }
    },
    {
      "cell_type": "code",
      "source": [
        "# Set random seed\n",
        "tf.random.set_seed(42)\n",
        "\n",
        "# 1. Create a model\n",
        "model_5 = tf.keras.Sequential([\n",
        "  tf.keras.layers.Dense(1),\n",
        "  tf.keras.layers.Dense(1)\n",
        "])\n",
        "\n",
        "# 2. Compile model\n",
        "model_5.compile(loss=tf.keras.losses.mae,\n",
        "                optimizer=tf.keras.optimizers.SGD(),\n",
        "                metrics=[\"mae\"])\n",
        "\n",
        "# 3. fit the model\n",
        "model_5.fit(tf.expand_dims(X_train, axis=-1), y_train, epochs=500, verbose=0)"
      ],
      "metadata": {
        "colab": {
          "base_uri": "https://localhost:8080/"
        },
        "id": "BBVlyDW8JHVX",
        "outputId": "d3718e65-30f7-41ef-844d-82caeeb1ed79"
      },
      "execution_count": 47,
      "outputs": [
        {
          "output_type": "execute_result",
          "data": {
            "text/plain": [
              "<keras.callbacks.History at 0x7f6d1be7d450>"
            ]
          },
          "metadata": {},
          "execution_count": 47
        }
      ]
    },
    {
      "cell_type": "code",
      "source": [
        "y_preds_5 = model_5.predict([X_test])"
      ],
      "metadata": {
        "colab": {
          "base_uri": "https://localhost:8080/"
        },
        "id": "8RhVoq8wJHYo",
        "outputId": "71be6e83-4c4b-4fff-e85c-6efae45befe5"
      },
      "execution_count": 48,
      "outputs": [
        {
          "output_type": "stream",
          "name": "stdout",
          "text": [
            "WARNING:tensorflow:Layers in a Sequential model should only have a single input tensor. Received: inputs=(<tf.Tensor 'IteratorGetNext:0' shape=(None,) dtype=int64>,). Consider rewriting this model with the Functional API.\n"
          ]
        }
      ]
    },
    {
      "cell_type": "code",
      "source": [
        "plot_prediction(predictions=y_preds_5)"
      ],
      "metadata": {
        "colab": {
          "base_uri": "https://localhost:8080/",
          "height": 428
        },
        "id": "KkAPNiURJHbN",
        "outputId": "dd912b43-6c84-4399-c549-2bda61f74fa9"
      },
      "execution_count": 49,
      "outputs": [
        {
          "output_type": "display_data",
          "data": {
            "text/plain": [
              "<Figure size 720x504 with 1 Axes>"
            ],
            "image/png": "[encoded data removed]"
          },
          "metadata": {
            "needs_background": "light"
          }
        }
      ]
    },
    {
      "cell_type": "markdown",
      "source": [
        "## Evaluate models"
      ],
      "metadata": {
        "id": "eoNfL06iJdUj"
      }
    },
    {
      "cell_type": "code",
      "source": [
        "def mae(y_test, y_pred):\n",
        "  return tf.metrics.mean_absolute_error(y_test, y_pred)\n",
        "\n",
        "def mse(y_test, y_pred):\n",
        "  return tf.metrics.mean_squared_error(y_test, y_pred)"
      ],
      "metadata": {
        "id": "iZtP8sC1J1ib"
      },
      "execution_count": 50,
      "outputs": []
    },
    {
      "cell_type": "code",
      "source": [
        "y_preds_2 = model_2.predict(X_test)"
      ],
      "metadata": {
        "id": "2FbCy7NzKj2p"
      },
      "execution_count": 51,
      "outputs": []
    },
    {
      "cell_type": "code",
      "source": [
        "mae_1 = mae(y_test, y_preds.squeeze()).numpy\n",
        "mse_1 = mse(y_test, y_preds.squeeze()).numpy\n",
        "\n",
        "mae_2 = mae(y_test, y_preds_2.squeeze()).numpy\n",
        "mse_2 = mse(y_test, y_preds_2.squeeze()).numpy\n",
        "\n",
        "mae_3 = mae(y_test, y_preds_3.squeeze()).numpy\n",
        "mse_3 = mse(y_test, y_preds_3.squeeze()).numpy\n",
        "\n",
        "mae_4 = mae(y_test, y_preds_4.squeeze()).numpy\n",
        "mse_4 = mse(y_test, y_preds_4.squeeze()).numpy\n",
        "\n",
        "mae_5 = mae(y_test, y_preds_5.squeeze()).numpy\n",
        "mse_5 = mse(y_test, y_preds_5.squeeze()).numpy"
      ],
      "metadata": {
        "id": "mKv6GuDaKTTO"
      },
      "execution_count": 52,
      "outputs": []
    },
    {
      "cell_type": "code",
      "source": [
        "model_results = [[\"Model_1\", mae_1, mse_1],\n",
        "                 [\"Model_2\", mae_2, mse_2],\n",
        "                 [\"Model_3\", mae_3, mse_3],\n",
        "                 [\"Model_4\", mae_4, mse_4],\n",
        "                 [\"Model_5\", mae_5, mse_5],]"
      ],
      "metadata": {
        "id": "q9vhwV_0J1lq"
      },
      "execution_count": 53,
      "outputs": []
    },
    {
      "cell_type": "code",
      "source": [
        "mae_4, mse_4"
      ],
      "metadata": {
        "colab": {
          "base_uri": "https://localhost:8080/"
        },
        "id": "NPAWttCYLvCb",
        "outputId": "7d021737-fdc2-4d16-de71-01d9340ba340"
      },
      "execution_count": 54,
      "outputs": [
        {
          "output_type": "execute_result",
          "data": {
            "text/plain": [
              "(<bound method _EagerTensorBase.numpy of <tf.Tensor: shape=(), dtype=float32, numpy=1.9098114>>,\n",
              " <bound method _EagerTensorBase.numpy of <tf.Tensor: shape=(), dtype=float32, numpy=5.459232>>)"
            ]
          },
          "metadata": {},
          "execution_count": 54
        }
      ]
    },
    {
      "cell_type": "code",
      "source": [
        "mae_1, mse_1"
      ],
      "metadata": {
        "colab": {
          "base_uri": "https://localhost:8080/"
        },
        "id": "rpqldNKALyr7",
        "outputId": "3065a614-076a-4fe5-bdcf-fa68ba104789"
      },
      "execution_count": 55,
      "outputs": [
        {
          "output_type": "execute_result",
          "data": {
            "text/plain": [
              "(<bound method _EagerTensorBase.numpy of <tf.Tensor: shape=(), dtype=float32, numpy=23.985325>>,\n",
              " <bound method _EagerTensorBase.numpy of <tf.Tensor: shape=(), dtype=float32, numpy=579.56964>>)"
            ]
          },
          "metadata": {},
          "execution_count": 55
        }
      ]
    },
    {
      "cell_type": "code",
      "source": [
        "import pandas as pd\n",
        "\n",
        "all_results = pd.DataFrame(model_results, columns=[\"model\", \"mae\", \"mse\"])\n",
        "all_results"
      ],
      "metadata": {
        "colab": {
          "base_uri": "https://localhost:8080/",
          "height": 206
        },
        "id": "O2zVJOt_K448",
        "outputId": "9a196810-5181-4e82-cf0f-18450ef5a875"
      },
      "execution_count": 56,
      "outputs": [
        {
          "output_type": "execute_result",
          "data": {
            "text/plain": [
              "     model                                                mae  \\\n",
              "0  Model_1  <bound method _EagerTensorBase.numpy of <tf.Te...   \n",
              "1  Model_2  <bound method _EagerTensorBase.numpy of <tf.Te...   \n",
              "2  Model_3  <bound method _EagerTensorBase.numpy of <tf.Te...   \n",
              "3  Model_4  <bound method _EagerTensorBase.numpy of <tf.Te...   \n",
              "4  Model_5  <bound method _EagerTensorBase.numpy of <tf.Te...   \n",
              "\n",
              "                                                 mse  \n",
              "0  <bound method _EagerTensorBase.numpy of <tf.Te...  \n",
              "1  <bound method _EagerTensorBase.numpy of <tf.Te...  \n",
              "2  <bound method _EagerTensorBase.numpy of <tf.Te...  \n",
              "3  <bound method _EagerTensorBase.numpy of <tf.Te...  \n",
              "4  <bound method _EagerTensorBase.numpy of <tf.Te...  "
            ],
            "text/html": [
              "\n",
              "  <div id=\"df-2022a125-d150-42bc-8b14-159682d0c65f\">\n",
              "    <div class=\"colab-df-container\">\n",
              "      <div>\n",
              "<style scoped>\n",
              "    .dataframe tbody tr th:only-of-type {\n",
              "        vertical-align: middle;\n",
              "    }\n",
              "\n",
              "    .dataframe tbody tr th {\n",
              "        vertical-align: top;\n",
              "    }\n",
              "\n",
              "    .dataframe thead th {\n",
              "        text-align: right;\n",
              "    }\n",
              "</style>\n",
              "<table border=\"1\" class=\"dataframe\">\n",
              "  <thead>\n",
              "    <tr style=\"text-align: right;\">\n",
              "      <th></th>\n",
              "      <th>model</th>\n",
              "      <th>mae</th>\n",
              "      <th>mse</th>\n",
              "    </tr>\n",
              "  </thead>\n",
              "  <tbody>\n",
              "    <tr>\n",
              "      <th>0</th>\n",
              "      <td>Model_1</td>\n",
              "      <td>&lt;bound method _EagerTensorBase.numpy of &lt;tf.Te...</td>\n",
              "      <td>&lt;bound method _EagerTensorBase.numpy of &lt;tf.Te...</td>\n",
              "    </tr>\n",
              "    <tr>\n",
              "      <th>1</th>\n",
              "      <td>Model_2</td>\n",
              "      <td>&lt;bound method _EagerTensorBase.numpy of &lt;tf.Te...</td>\n",
              "      <td>&lt;bound method _EagerTensorBase.numpy of &lt;tf.Te...</td>\n",
              "    </tr>\n",
              "    <tr>\n",
              "      <th>2</th>\n",
              "      <td>Model_3</td>\n",
              "      <td>&lt;bound method _EagerTensorBase.numpy of &lt;tf.Te...</td>\n",
              "      <td>&lt;bound method _EagerTensorBase.numpy of &lt;tf.Te...</td>\n",
              "    </tr>\n",
              "    <tr>\n",
              "      <th>3</th>\n",
              "      <td>Model_4</td>\n",
              "      <td>&lt;bound method _EagerTensorBase.numpy of &lt;tf.Te...</td>\n",
              "      <td>&lt;bound method _EagerTensorBase.numpy of &lt;tf.Te...</td>\n",
              "    </tr>\n",
              "    <tr>\n",
              "      <th>4</th>\n",
              "      <td>Model_5</td>\n",
              "      <td>&lt;bound method _EagerTensorBase.numpy of &lt;tf.Te...</td>\n",
              "      <td>&lt;bound method _EagerTensorBase.numpy of &lt;tf.Te...</td>\n",
              "    </tr>\n",
              "  </tbody>\n",
              "</table>\n",
              "</div>\n",
              "      <button class=\"colab-df-convert\" onclick=\"convertToInteractive('df-2022a125-d150-42bc-8b14-159682d0c65f')\"\n",
              "              title=\"Convert this dataframe to an interactive table.\"\n",
              "              style=\"display:none;\">\n",
              "        \n",
              "  <svg xmlns=\"http://www.w3.org/2000/svg\" height=\"24px\"viewBox=\"0 0 24 24\"\n",
              "       width=\"24px\">\n",
              "    <path d=\"M0 0h24v24H0V0z\" fill=\"none\"/>\n",
              "    <path d=\"M18.56 5.44l.94 2.06.94-2.06 2.06-.94-2.06-.94-.94-2.06-.94 2.06-2.06.94zm-11 1L8.5 8.5l.94-2.06 2.06-.94-2.06-.94L8.5 2.5l-.94 2.06-2.06.94zm10 10l.94 2.06.94-2.06 2.06-.94-2.06-.94-.94-2.06-.94 2.06-2.06.94z\"/><path d=\"M17.41 7.96l-1.37-1.37c-.4-.4-.92-.59-1.43-.59-.52 0-1.04.2-1.43.59L10.3 9.45l-7.72 7.72c-.78.78-.78 2.05 0 2.83L4 21.41c.39.39.9.59 1.41.59.51 0 1.02-.2 1.41-.59l7.78-7.78 2.81-2.81c.8-.78.8-2.07 0-2.86zM5.41 20L4 18.59l7.72-7.72 1.47 1.35L5.41 20z\"/>\n",
              "  </svg>\n",
              "      </button>\n",
              "      \n",
              "  <style>\n",
              "    .colab-df-container {\n",
              "      display:flex;\n",
              "      flex-wrap:wrap;\n",
              "      gap: 12px;\n",
              "    }\n",
              "\n",
              "    .colab-df-convert {\n",
              "      background-color: #E8F0FE;\n",
              "      border: none;\n",
              "      border-radius: 50%;\n",
              "      cursor: pointer;\n",
              "      display: none;\n",
              "      fill: #1967D2;\n",
              "      height: 32px;\n",
              "      padding: 0 0 0 0;\n",
              "      width: 32px;\n",
              "    }\n",
              "\n",
              "    .colab-df-convert:hover {\n",
              "      background-color: #E2EBFA;\n",
              "      box-shadow: 0px 1px 2px rgba(60, 64, 67, 0.3), 0px 1px 3px 1px rgba(60, 64, 67, 0.15);\n",
              "      fill: #174EA6;\n",
              "    }\n",
              "\n",
              "    [theme=dark] .colab-df-convert {\n",
              "      background-color: #3B4455;\n",
              "      fill: #D2E3FC;\n",
              "    }\n",
              "\n",
              "    [theme=dark] .colab-df-convert:hover {\n",
              "      background-color: #434B5C;\n",
              "      box-shadow: 0px 1px 3px 1px rgba(0, 0, 0, 0.15);\n",
              "      filter: drop-shadow(0px 1px 2px rgba(0, 0, 0, 0.3));\n",
              "      fill: #FFFFFF;\n",
              "    }\n",
              "  </style>\n",
              "\n",
              "      <script>\n",
              "        const buttonEl =\n",
              "          document.querySelector('#df-2022a125-d150-42bc-8b14-159682d0c65f button.colab-df-convert');\n",
              "        buttonEl.style.display =\n",
              "          google.colab.kernel.accessAllowed ? 'block' : 'none';\n",
              "\n",
              "        async function convertToInteractive(key) {\n",
              "          const element = document.querySelector('#df-2022a125-d150-42bc-8b14-159682d0c65f');\n",
              "          const dataTable =\n",
              "            await google.colab.kernel.invokeFunction('convertToInteractive',\n",
              "                                                     [key], {});\n",
              "          if (!dataTable) return;\n",
              "\n",
              "          const docLinkHtml = 'Like what you see? Visit the ' +\n",
              "            '<a target=\"_blank\" href=https://colab.research.google.com/notebooks/data_table.ipynb>data table notebook</a>'\n",
              "            + ' to learn more about interactive tables.';\n",
              "          element.innerHTML = '';\n",
              "          dataTable['output_type'] = 'display_data';\n",
              "          await google.colab.output.renderOutput(dataTable, element);\n",
              "          const docLink = document.createElement('div');\n",
              "          docLink.innerHTML = docLinkHtml;\n",
              "          element.appendChild(docLink);\n",
              "        }\n",
              "      </script>\n",
              "    </div>\n",
              "  </div>\n",
              "  "
            ]
          },
          "metadata": {},
          "execution_count": 56
        }
      ]
    },
    {
      "cell_type": "code",
      "source": [
        "model_4.predict([200])"
      ],
      "metadata": {
        "colab": {
          "base_uri": "https://localhost:8080/"
        },
        "id": "RGKQ73TKK47r",
        "outputId": "54017431-29cc-4b0c-fefc-e42deaddf909"
      },
      "execution_count": 57,
      "outputs": [
        {
          "output_type": "execute_result",
          "data": {
            "text/plain": [
              "array([[227.61418]], dtype=float32)"
            ]
          },
          "metadata": {},
          "execution_count": 57
        }
      ]
    },
    {
      "cell_type": "markdown",
      "source": [
        "$y = \\beta_0 + \\beta_1 X_1 + \\beta_2 X_2 +\\cdots +\\beta_i X_i$\n",
        "\n",
        "$y = 5.6 + 0.05 X_1 + 0.1 X_2 +\\cdots - 4 X_i$"
      ],
      "metadata": {
        "id": "uqezbTg7L-gz"
      }
    },
    {
      "cell_type": "markdown",
      "source": [
        "## Save model"
      ],
      "metadata": {
        "id": "3GbsdERONFZ_"
      }
    },
    {
      "cell_type": "code",
      "source": [
        "model_4.save(\"best_model.h5\")"
      ],
      "metadata": {
        "id": "UbbK-t3OL-kr"
      },
      "execution_count": 58,
      "outputs": []
    },
    {
      "cell_type": "code",
      "source": [
        "loaded_model = tf.keras.models.load_model(\"best_model.h5\")"
      ],
      "metadata": {
        "id": "NR8UUkqZL-nL"
      },
      "execution_count": 59,
      "outputs": []
    },
    {
      "cell_type": "code",
      "source": [
        "loaded_model.predict([56])"
      ],
      "metadata": {
        "colab": {
          "base_uri": "https://localhost:8080/"
        },
        "id": "-X3G3Kj9NRBa",
        "outputId": "697be5ea-b9d2-4327-9189-699efe0e3748"
      },
      "execution_count": 60,
      "outputs": [
        {
          "output_type": "execute_result",
          "data": {
            "text/plain": [
              "array([[64.948715]], dtype=float32)"
            ]
          },
          "metadata": {},
          "execution_count": 60
        }
      ]
    },
    {
      "cell_type": "markdown",
      "source": [
        "# A Larger Example"
      ],
      "metadata": {
        "id": "GxfADknVNS_Z"
      }
    },
    {
      "cell_type": "markdown",
      "source": [
        "* `age`\n",
        "* `sex`\n",
        "* `bmi`\n",
        "* `children`\n",
        "* `smoking_status`\n",
        "* `residential_region`"
      ],
      "metadata": {
        "id": "eKbn7t8wXOhw"
      }
    },
    {
      "cell_type": "code",
      "source": [
        "!wget https://raw.githubusercontent.com/stedy/Machine-Learning-with-R-datasets/master/insurance.csv"
      ],
      "metadata": {
        "colab": {
          "base_uri": "https://localhost:8080/"
        },
        "id": "zXaXTMVvXOl0",
        "outputId": "efedd68b-61c7-44f5-900a-320ccf811183"
      },
      "execution_count": 61,
      "outputs": [
        {
          "output_type": "stream",
          "name": "stdout",
          "text": [
            "--2022-07-15 00:58:52--  https://raw.githubusercontent.com/stedy/Machine-Learning-with-R-datasets/master/insurance.csv\n",
            "Resolving raw.githubusercontent.com (raw.githubusercontent.com)... 185.199.108.133, 185.199.109.133, 185.199.110.133, ...\n",
            "Connecting to raw.githubusercontent.com (raw.githubusercontent.com)|185.199.108.133|:443... connected.\n",
            "HTTP request sent, awaiting response... 200 OK\n",
            "Length: 54288 (53K) [text/plain]\n",
            "Saving to: ‘insurance.csv’\n",
            "\n",
            "\rinsurance.csv         0%[                    ]       0  --.-KB/s               \rinsurance.csv       100%[===================>]  53.02K  --.-KB/s    in 0.01s   \n",
            "\n",
            "2022-07-15 00:58:52 (4.83 MB/s) - ‘insurance.csv’ saved [54288/54288]\n",
            "\n"
          ]
        }
      ]
    },
    {
      "cell_type": "code",
      "source": [
        "import tensorflow as tf\n",
        "import pandas as pd\n",
        "import matplotlib.pyplot as plt"
      ],
      "metadata": {
        "id": "5YiGl0n3XOpW"
      },
      "execution_count": 62,
      "outputs": []
    },
    {
      "cell_type": "code",
      "source": [
        "insurance = pd.read_csv(\"insurance.csv\")"
      ],
      "metadata": {
        "id": "TmENoUu-XOr_"
      },
      "execution_count": 63,
      "outputs": []
    },
    {
      "cell_type": "code",
      "source": [
        "insurance.head(10)"
      ],
      "metadata": {
        "colab": {
          "base_uri": "https://localhost:8080/",
          "height": 363
        },
        "id": "sTmpJXmIXyy5",
        "outputId": "8d2fc0e0-2fec-4498-d9f1-fd0729fac4a3"
      },
      "execution_count": 66,
      "outputs": [
        {
          "output_type": "execute_result",
          "data": {
            "text/plain": [
              "   age     sex     bmi  children smoker     region      charges\n",
              "0   19  female  27.900         0    yes  southwest  16884.92400\n",
              "1   18    male  33.770         1     no  southeast   1725.55230\n",
              "2   28    male  33.000         3     no  southeast   4449.46200\n",
              "3   33    male  22.705         0     no  northwest  21984.47061\n",
              "4   32    male  28.880         0     no  northwest   3866.85520\n",
              "5   31  female  25.740         0     no  southeast   3756.62160\n",
              "6   46  female  33.440         1     no  southeast   8240.58960\n",
              "7   37  female  27.740         3     no  northwest   7281.50560\n",
              "8   37    male  29.830         2     no  northeast   6406.41070\n",
              "9   60  female  25.840         0     no  northwest  28923.13692"
            ],
            "text/html": [
              "\n",
              "  <div id=\"df-b2c88f73-f299-4d40-8acd-812b4d6c545b\">\n",
              "    <div class=\"colab-df-container\">\n",
              "      <div>\n",
              "<style scoped>\n",
              "    .dataframe tbody tr th:only-of-type {\n",
              "        vertical-align: middle;\n",
              "    }\n",
              "\n",
              "    .dataframe tbody tr th {\n",
              "        vertical-align: top;\n",
              "    }\n",
              "\n",
              "    .dataframe thead th {\n",
              "        text-align: right;\n",
              "    }\n",
              "</style>\n",
              "<table border=\"1\" class=\"dataframe\">\n",
              "  <thead>\n",
              "    <tr style=\"text-align: right;\">\n",
              "      <th></th>\n",
              "      <th>age</th>\n",
              "      <th>sex</th>\n",
              "      <th>bmi</th>\n",
              "      <th>children</th>\n",
              "      <th>smoker</th>\n",
              "      <th>region</th>\n",
              "      <th>charges</th>\n",
              "    </tr>\n",
              "  </thead>\n",
              "  <tbody>\n",
              "    <tr>\n",
              "      <th>0</th>\n",
              "      <td>19</td>\n",
              "      <td>female</td>\n",
              "      <td>27.900</td>\n",
              "      <td>0</td>\n",
              "      <td>yes</td>\n",
              "      <td>southwest</td>\n",
              "      <td>16884.92400</td>\n",
              "    </tr>\n",
              "    <tr>\n",
              "      <th>1</th>\n",
              "      <td>18</td>\n",
              "      <td>male</td>\n",
              "      <td>33.770</td>\n",
              "      <td>1</td>\n",
              "      <td>no</td>\n",
              "      <td>southeast</td>\n",
              "      <td>1725.55230</td>\n",
              "    </tr>\n",
              "    <tr>\n",
              "      <th>2</th>\n",
              "      <td>28</td>\n",
              "      <td>male</td>\n",
              "      <td>33.000</td>\n",
              "      <td>3</td>\n",
              "      <td>no</td>\n",
              "      <td>southeast</td>\n",
              "      <td>4449.46200</td>\n",
              "    </tr>\n",
              "    <tr>\n",
              "      <th>3</th>\n",
              "      <td>33</td>\n",
              "      <td>male</td>\n",
              "      <td>22.705</td>\n",
              "      <td>0</td>\n",
              "      <td>no</td>\n",
              "      <td>northwest</td>\n",
              "      <td>21984.47061</td>\n",
              "    </tr>\n",
              "    <tr>\n",
              "      <th>4</th>\n",
              "      <td>32</td>\n",
              "      <td>male</td>\n",
              "      <td>28.880</td>\n",
              "      <td>0</td>\n",
              "      <td>no</td>\n",
              "      <td>northwest</td>\n",
              "      <td>3866.85520</td>\n",
              "    </tr>\n",
              "    <tr>\n",
              "      <th>5</th>\n",
              "      <td>31</td>\n",
              "      <td>female</td>\n",
              "      <td>25.740</td>\n",
              "      <td>0</td>\n",
              "      <td>no</td>\n",
              "      <td>southeast</td>\n",
              "      <td>3756.62160</td>\n",
              "    </tr>\n",
              "    <tr>\n",
              "      <th>6</th>\n",
              "      <td>46</td>\n",
              "      <td>female</td>\n",
              "      <td>33.440</td>\n",
              "      <td>1</td>\n",
              "      <td>no</td>\n",
              "      <td>southeast</td>\n",
              "      <td>8240.58960</td>\n",
              "    </tr>\n",
              "    <tr>\n",
              "      <th>7</th>\n",
              "      <td>37</td>\n",
              "      <td>female</td>\n",
              "      <td>27.740</td>\n",
              "      <td>3</td>\n",
              "      <td>no</td>\n",
              "      <td>northwest</td>\n",
              "      <td>7281.50560</td>\n",
              "    </tr>\n",
              "    <tr>\n",
              "      <th>8</th>\n",
              "      <td>37</td>\n",
              "      <td>male</td>\n",
              "      <td>29.830</td>\n",
              "      <td>2</td>\n",
              "      <td>no</td>\n",
              "      <td>northeast</td>\n",
              "      <td>6406.41070</td>\n",
              "    </tr>\n",
              "    <tr>\n",
              "      <th>9</th>\n",
              "      <td>60</td>\n",
              "      <td>female</td>\n",
              "      <td>25.840</td>\n",
              "      <td>0</td>\n",
              "      <td>no</td>\n",
              "      <td>northwest</td>\n",
              "      <td>28923.13692</td>\n",
              "    </tr>\n",
              "  </tbody>\n",
              "</table>\n",
              "</div>\n",
              "      <button class=\"colab-df-convert\" onclick=\"convertToInteractive('df-b2c88f73-f299-4d40-8acd-812b4d6c545b')\"\n",
              "              title=\"Convert this dataframe to an interactive table.\"\n",
              "              style=\"display:none;\">\n",
              "        \n",
              "  <svg xmlns=\"http://www.w3.org/2000/svg\" height=\"24px\"viewBox=\"0 0 24 24\"\n",
              "       width=\"24px\">\n",
              "    <path d=\"M0 0h24v24H0V0z\" fill=\"none\"/>\n",
              "    <path d=\"M18.56 5.44l.94 2.06.94-2.06 2.06-.94-2.06-.94-.94-2.06-.94 2.06-2.06.94zm-11 1L8.5 8.5l.94-2.06 2.06-.94-2.06-.94L8.5 2.5l-.94 2.06-2.06.94zm10 10l.94 2.06.94-2.06 2.06-.94-2.06-.94-.94-2.06-.94 2.06-2.06.94z\"/><path d=\"M17.41 7.96l-1.37-1.37c-.4-.4-.92-.59-1.43-.59-.52 0-1.04.2-1.43.59L10.3 9.45l-7.72 7.72c-.78.78-.78 2.05 0 2.83L4 21.41c.39.39.9.59 1.41.59.51 0 1.02-.2 1.41-.59l7.78-7.78 2.81-2.81c.8-.78.8-2.07 0-2.86zM5.41 20L4 18.59l7.72-7.72 1.47 1.35L5.41 20z\"/>\n",
              "  </svg>\n",
              "      </button>\n",
              "      \n",
              "  <style>\n",
              "    .colab-df-container {\n",
              "      display:flex;\n",
              "      flex-wrap:wrap;\n",
              "      gap: 12px;\n",
              "    }\n",
              "\n",
              "    .colab-df-convert {\n",
              "      background-color: #E8F0FE;\n",
              "      border: none;\n",
              "      border-radius: 50%;\n",
              "      cursor: pointer;\n",
              "      display: none;\n",
              "      fill: #1967D2;\n",
              "      height: 32px;\n",
              "      padding: 0 0 0 0;\n",
              "      width: 32px;\n",
              "    }\n",
              "\n",
              "    .colab-df-convert:hover {\n",
              "      background-color: #E2EBFA;\n",
              "      box-shadow: 0px 1px 2px rgba(60, 64, 67, 0.3), 0px 1px 3px 1px rgba(60, 64, 67, 0.15);\n",
              "      fill: #174EA6;\n",
              "    }\n",
              "\n",
              "    [theme=dark] .colab-df-convert {\n",
              "      background-color: #3B4455;\n",
              "      fill: #D2E3FC;\n",
              "    }\n",
              "\n",
              "    [theme=dark] .colab-df-convert:hover {\n",
              "      background-color: #434B5C;\n",
              "      box-shadow: 0px 1px 3px 1px rgba(0, 0, 0, 0.15);\n",
              "      filter: drop-shadow(0px 1px 2px rgba(0, 0, 0, 0.3));\n",
              "      fill: #FFFFFF;\n",
              "    }\n",
              "  </style>\n",
              "\n",
              "      <script>\n",
              "        const buttonEl =\n",
              "          document.querySelector('#df-b2c88f73-f299-4d40-8acd-812b4d6c545b button.colab-df-convert');\n",
              "        buttonEl.style.display =\n",
              "          google.colab.kernel.accessAllowed ? 'block' : 'none';\n",
              "\n",
              "        async function convertToInteractive(key) {\n",
              "          const element = document.querySelector('#df-b2c88f73-f299-4d40-8acd-812b4d6c545b');\n",
              "          const dataTable =\n",
              "            await google.colab.kernel.invokeFunction('convertToInteractive',\n",
              "                                                     [key], {});\n",
              "          if (!dataTable) return;\n",
              "\n",
              "          const docLinkHtml = 'Like what you see? Visit the ' +\n",
              "            '<a target=\"_blank\" href=https://colab.research.google.com/notebooks/data_table.ipynb>data table notebook</a>'\n",
              "            + ' to learn more about interactive tables.';\n",
              "          element.innerHTML = '';\n",
              "          dataTable['output_type'] = 'display_data';\n",
              "          await google.colab.output.renderOutput(dataTable, element);\n",
              "          const docLink = document.createElement('div');\n",
              "          docLink.innerHTML = docLinkHtml;\n",
              "          element.appendChild(docLink);\n",
              "        }\n",
              "      </script>\n",
              "    </div>\n",
              "  </div>\n",
              "  "
            ]
          },
          "metadata": {},
          "execution_count": 66
        }
      ]
    },
    {
      "cell_type": "code",
      "source": [
        "insurance.tail(10)"
      ],
      "metadata": {
        "colab": {
          "base_uri": "https://localhost:8080/",
          "height": 363
        },
        "id": "xaBWbtVEXy2q",
        "outputId": "a6750aa8-635e-4917-80b0-b6cdc4e6d70b"
      },
      "execution_count": 68,
      "outputs": [
        {
          "output_type": "execute_result",
          "data": {
            "text/plain": [
              "      age     sex     bmi  children smoker     region      charges\n",
              "1328   23  female  24.225         2     no  northeast  22395.74424\n",
              "1329   52    male  38.600         2     no  southwest  10325.20600\n",
              "1330   57  female  25.740         2     no  southeast  12629.16560\n",
              "1331   23  female  33.400         0     no  southwest  10795.93733\n",
              "1332   52  female  44.700         3     no  southwest  11411.68500\n",
              "1333   50    male  30.970         3     no  northwest  10600.54830\n",
              "1334   18  female  31.920         0     no  northeast   2205.98080\n",
              "1335   18  female  36.850         0     no  southeast   1629.83350\n",
              "1336   21  female  25.800         0     no  southwest   2007.94500\n",
              "1337   61  female  29.070         0    yes  northwest  29141.36030"
            ],
            "text/html": [
              "\n",
              "  <div id=\"df-bc390851-2e0f-4df3-8e46-fb4d7a818e36\">\n",
              "    <div class=\"colab-df-container\">\n",
              "      <div>\n",
              "<style scoped>\n",
              "    .dataframe tbody tr th:only-of-type {\n",
              "        vertical-align: middle;\n",
              "    }\n",
              "\n",
              "    .dataframe tbody tr th {\n",
              "        vertical-align: top;\n",
              "    }\n",
              "\n",
              "    .dataframe thead th {\n",
              "        text-align: right;\n",
              "    }\n",
              "</style>\n",
              "<table border=\"1\" class=\"dataframe\">\n",
              "  <thead>\n",
              "    <tr style=\"text-align: right;\">\n",
              "      <th></th>\n",
              "      <th>age</th>\n",
              "      <th>sex</th>\n",
              "      <th>bmi</th>\n",
              "      <th>children</th>\n",
              "      <th>smoker</th>\n",
              "      <th>region</th>\n",
              "      <th>charges</th>\n",
              "    </tr>\n",
              "  </thead>\n",
              "  <tbody>\n",
              "    <tr>\n",
              "      <th>1328</th>\n",
              "      <td>23</td>\n",
              "      <td>female</td>\n",
              "      <td>24.225</td>\n",
              "      <td>2</td>\n",
              "      <td>no</td>\n",
              "      <td>northeast</td>\n",
              "      <td>22395.74424</td>\n",
              "    </tr>\n",
              "    <tr>\n",
              "      <th>1329</th>\n",
              "      <td>52</td>\n",
              "      <td>male</td>\n",
              "      <td>38.600</td>\n",
              "      <td>2</td>\n",
              "      <td>no</td>\n",
              "      <td>southwest</td>\n",
              "      <td>10325.20600</td>\n",
              "    </tr>\n",
              "    <tr>\n",
              "      <th>1330</th>\n",
              "      <td>57</td>\n",
              "      <td>female</td>\n",
              "      <td>25.740</td>\n",
              "      <td>2</td>\n",
              "      <td>no</td>\n",
              "      <td>southeast</td>\n",
              "      <td>12629.16560</td>\n",
              "    </tr>\n",
              "    <tr>\n",
              "      <th>1331</th>\n",
              "      <td>23</td>\n",
              "      <td>female</td>\n",
              "      <td>33.400</td>\n",
              "      <td>0</td>\n",
              "      <td>no</td>\n",
              "      <td>southwest</td>\n",
              "      <td>10795.93733</td>\n",
              "    </tr>\n",
              "    <tr>\n",
              "      <th>1332</th>\n",
              "      <td>52</td>\n",
              "      <td>female</td>\n",
              "      <td>44.700</td>\n",
              "      <td>3</td>\n",
              "      <td>no</td>\n",
              "      <td>southwest</td>\n",
              "      <td>11411.68500</td>\n",
              "    </tr>\n",
              "    <tr>\n",
              "      <th>1333</th>\n",
              "      <td>50</td>\n",
              "      <td>male</td>\n",
              "      <td>30.970</td>\n",
              "      <td>3</td>\n",
              "      <td>no</td>\n",
              "      <td>northwest</td>\n",
              "      <td>10600.54830</td>\n",
              "    </tr>\n",
              "    <tr>\n",
              "      <th>1334</th>\n",
              "      <td>18</td>\n",
              "      <td>female</td>\n",
              "      <td>31.920</td>\n",
              "      <td>0</td>\n",
              "      <td>no</td>\n",
              "      <td>northeast</td>\n",
              "      <td>2205.98080</td>\n",
              "    </tr>\n",
              "    <tr>\n",
              "      <th>1335</th>\n",
              "      <td>18</td>\n",
              "      <td>female</td>\n",
              "      <td>36.850</td>\n",
              "      <td>0</td>\n",
              "      <td>no</td>\n",
              "      <td>southeast</td>\n",
              "      <td>1629.83350</td>\n",
              "    </tr>\n",
              "    <tr>\n",
              "      <th>1336</th>\n",
              "      <td>21</td>\n",
              "      <td>female</td>\n",
              "      <td>25.800</td>\n",
              "      <td>0</td>\n",
              "      <td>no</td>\n",
              "      <td>southwest</td>\n",
              "      <td>2007.94500</td>\n",
              "    </tr>\n",
              "    <tr>\n",
              "      <th>1337</th>\n",
              "      <td>61</td>\n",
              "      <td>female</td>\n",
              "      <td>29.070</td>\n",
              "      <td>0</td>\n",
              "      <td>yes</td>\n",
              "      <td>northwest</td>\n",
              "      <td>29141.36030</td>\n",
              "    </tr>\n",
              "  </tbody>\n",
              "</table>\n",
              "</div>\n",
              "      <button class=\"colab-df-convert\" onclick=\"convertToInteractive('df-bc390851-2e0f-4df3-8e46-fb4d7a818e36')\"\n",
              "              title=\"Convert this dataframe to an interactive table.\"\n",
              "              style=\"display:none;\">\n",
              "        \n",
              "  <svg xmlns=\"http://www.w3.org/2000/svg\" height=\"24px\"viewBox=\"0 0 24 24\"\n",
              "       width=\"24px\">\n",
              "    <path d=\"M0 0h24v24H0V0z\" fill=\"none\"/>\n",
              "    <path d=\"M18.56 5.44l.94 2.06.94-2.06 2.06-.94-2.06-.94-.94-2.06-.94 2.06-2.06.94zm-11 1L8.5 8.5l.94-2.06 2.06-.94-2.06-.94L8.5 2.5l-.94 2.06-2.06.94zm10 10l.94 2.06.94-2.06 2.06-.94-2.06-.94-.94-2.06-.94 2.06-2.06.94z\"/><path d=\"M17.41 7.96l-1.37-1.37c-.4-.4-.92-.59-1.43-.59-.52 0-1.04.2-1.43.59L10.3 9.45l-7.72 7.72c-.78.78-.78 2.05 0 2.83L4 21.41c.39.39.9.59 1.41.59.51 0 1.02-.2 1.41-.59l7.78-7.78 2.81-2.81c.8-.78.8-2.07 0-2.86zM5.41 20L4 18.59l7.72-7.72 1.47 1.35L5.41 20z\"/>\n",
              "  </svg>\n",
              "      </button>\n",
              "      \n",
              "  <style>\n",
              "    .colab-df-container {\n",
              "      display:flex;\n",
              "      flex-wrap:wrap;\n",
              "      gap: 12px;\n",
              "    }\n",
              "\n",
              "    .colab-df-convert {\n",
              "      background-color: #E8F0FE;\n",
              "      border: none;\n",
              "      border-radius: 50%;\n",
              "      cursor: pointer;\n",
              "      display: none;\n",
              "      fill: #1967D2;\n",
              "      height: 32px;\n",
              "      padding: 0 0 0 0;\n",
              "      width: 32px;\n",
              "    }\n",
              "\n",
              "    .colab-df-convert:hover {\n",
              "      background-color: #E2EBFA;\n",
              "      box-shadow: 0px 1px 2px rgba(60, 64, 67, 0.3), 0px 1px 3px 1px rgba(60, 64, 67, 0.15);\n",
              "      fill: #174EA6;\n",
              "    }\n",
              "\n",
              "    [theme=dark] .colab-df-convert {\n",
              "      background-color: #3B4455;\n",
              "      fill: #D2E3FC;\n",
              "    }\n",
              "\n",
              "    [theme=dark] .colab-df-convert:hover {\n",
              "      background-color: #434B5C;\n",
              "      box-shadow: 0px 1px 3px 1px rgba(0, 0, 0, 0.15);\n",
              "      filter: drop-shadow(0px 1px 2px rgba(0, 0, 0, 0.3));\n",
              "      fill: #FFFFFF;\n",
              "    }\n",
              "  </style>\n",
              "\n",
              "      <script>\n",
              "        const buttonEl =\n",
              "          document.querySelector('#df-bc390851-2e0f-4df3-8e46-fb4d7a818e36 button.colab-df-convert');\n",
              "        buttonEl.style.display =\n",
              "          google.colab.kernel.accessAllowed ? 'block' : 'none';\n",
              "\n",
              "        async function convertToInteractive(key) {\n",
              "          const element = document.querySelector('#df-bc390851-2e0f-4df3-8e46-fb4d7a818e36');\n",
              "          const dataTable =\n",
              "            await google.colab.kernel.invokeFunction('convertToInteractive',\n",
              "                                                     [key], {});\n",
              "          if (!dataTable) return;\n",
              "\n",
              "          const docLinkHtml = 'Like what you see? Visit the ' +\n",
              "            '<a target=\"_blank\" href=https://colab.research.google.com/notebooks/data_table.ipynb>data table notebook</a>'\n",
              "            + ' to learn more about interactive tables.';\n",
              "          element.innerHTML = '';\n",
              "          dataTable['output_type'] = 'display_data';\n",
              "          await google.colab.output.renderOutput(dataTable, element);\n",
              "          const docLink = document.createElement('div');\n",
              "          docLink.innerHTML = docLinkHtml;\n",
              "          element.appendChild(docLink);\n",
              "        }\n",
              "      </script>\n",
              "    </div>\n",
              "  </div>\n",
              "  "
            ]
          },
          "metadata": {},
          "execution_count": 68
        }
      ]
    },
    {
      "cell_type": "code",
      "source": [
        "insurance.info()"
      ],
      "metadata": {
        "colab": {
          "base_uri": "https://localhost:8080/"
        },
        "id": "4gyAU_pNXy6F",
        "outputId": "09deb3a5-f03c-4d5b-cca7-1cf355c74b3c"
      },
      "execution_count": 69,
      "outputs": [
        {
          "output_type": "stream",
          "name": "stdout",
          "text": [
            "<class 'pandas.core.frame.DataFrame'>\n",
            "RangeIndex: 1338 entries, 0 to 1337\n",
            "Data columns (total 7 columns):\n",
            " #   Column    Non-Null Count  Dtype  \n",
            "---  ------    --------------  -----  \n",
            " 0   age       1338 non-null   int64  \n",
            " 1   sex       1338 non-null   object \n",
            " 2   bmi       1338 non-null   float64\n",
            " 3   children  1338 non-null   int64  \n",
            " 4   smoker    1338 non-null   object \n",
            " 5   region    1338 non-null   object \n",
            " 6   charges   1338 non-null   float64\n",
            "dtypes: float64(2), int64(2), object(3)\n",
            "memory usage: 73.3+ KB\n"
          ]
        }
      ]
    },
    {
      "cell_type": "code",
      "source": [
        "insurance_one_hot = pd.get_dummies(insurance)\n",
        "insurance_one_hot.head()"
      ],
      "metadata": {
        "colab": {
          "base_uri": "https://localhost:8080/",
          "height": 206
        },
        "id": "oIZP3xGbXy9I",
        "outputId": "3ddd4a65-64e2-4b48-a7a7-1da9781a41af"
      },
      "execution_count": 71,
      "outputs": [
        {
          "output_type": "execute_result",
          "data": {
            "text/plain": [
              "   age     bmi  children      charges  sex_female  sex_male  smoker_no  \\\n",
              "0   19  27.900         0  16884.92400           1         0          0   \n",
              "1   18  33.770         1   1725.55230           0         1          1   \n",
              "2   28  33.000         3   4449.46200           0         1          1   \n",
              "3   33  22.705         0  21984.47061           0         1          1   \n",
              "4   32  28.880         0   3866.85520           0         1          1   \n",
              "\n",
              "   smoker_yes  region_northeast  region_northwest  region_southeast  \\\n",
              "0           1                 0                 0                 0   \n",
              "1           0                 0                 0                 1   \n",
              "2           0                 0                 0                 1   \n",
              "3           0                 0                 1                 0   \n",
              "4           0                 0                 1                 0   \n",
              "\n",
              "   region_southwest  \n",
              "0                 1  \n",
              "1                 0  \n",
              "2                 0  \n",
              "3                 0  \n",
              "4                 0  "
            ],
            "text/html": [
              "\n",
              "  <div id=\"df-d40b934e-9aeb-4e79-8806-b0aa99848e9e\">\n",
              "    <div class=\"colab-df-container\">\n",
              "      <div>\n",
              "<style scoped>\n",
              "    .dataframe tbody tr th:only-of-type {\n",
              "        vertical-align: middle;\n",
              "    }\n",
              "\n",
              "    .dataframe tbody tr th {\n",
              "        vertical-align: top;\n",
              "    }\n",
              "\n",
              "    .dataframe thead th {\n",
              "        text-align: right;\n",
              "    }\n",
              "</style>\n",
              "<table border=\"1\" class=\"dataframe\">\n",
              "  <thead>\n",
              "    <tr style=\"text-align: right;\">\n",
              "      <th></th>\n",
              "      <th>age</th>\n",
              "      <th>bmi</th>\n",
              "      <th>children</th>\n",
              "      <th>charges</th>\n",
              "      <th>sex_female</th>\n",
              "      <th>sex_male</th>\n",
              "      <th>smoker_no</th>\n",
              "      <th>smoker_yes</th>\n",
              "      <th>region_northeast</th>\n",
              "      <th>region_northwest</th>\n",
              "      <th>region_southeast</th>\n",
              "      <th>region_southwest</th>\n",
              "    </tr>\n",
              "  </thead>\n",
              "  <tbody>\n",
              "    <tr>\n",
              "      <th>0</th>\n",
              "      <td>19</td>\n",
              "      <td>27.900</td>\n",
              "      <td>0</td>\n",
              "      <td>16884.92400</td>\n",
              "      <td>1</td>\n",
              "      <td>0</td>\n",
              "      <td>0</td>\n",
              "      <td>1</td>\n",
              "      <td>0</td>\n",
              "      <td>0</td>\n",
              "      <td>0</td>\n",
              "      <td>1</td>\n",
              "    </tr>\n",
              "    <tr>\n",
              "      <th>1</th>\n",
              "      <td>18</td>\n",
              "      <td>33.770</td>\n",
              "      <td>1</td>\n",
              "      <td>1725.55230</td>\n",
              "      <td>0</td>\n",
              "      <td>1</td>\n",
              "      <td>1</td>\n",
              "      <td>0</td>\n",
              "      <td>0</td>\n",
              "      <td>0</td>\n",
              "      <td>1</td>\n",
              "      <td>0</td>\n",
              "    </tr>\n",
              "    <tr>\n",
              "      <th>2</th>\n",
              "      <td>28</td>\n",
              "      <td>33.000</td>\n",
              "      <td>3</td>\n",
              "      <td>4449.46200</td>\n",
              "      <td>0</td>\n",
              "      <td>1</td>\n",
              "      <td>1</td>\n",
              "      <td>0</td>\n",
              "      <td>0</td>\n",
              "      <td>0</td>\n",
              "      <td>1</td>\n",
              "      <td>0</td>\n",
              "    </tr>\n",
              "    <tr>\n",
              "      <th>3</th>\n",
              "      <td>33</td>\n",
              "      <td>22.705</td>\n",
              "      <td>0</td>\n",
              "      <td>21984.47061</td>\n",
              "      <td>0</td>\n",
              "      <td>1</td>\n",
              "      <td>1</td>\n",
              "      <td>0</td>\n",
              "      <td>0</td>\n",
              "      <td>1</td>\n",
              "      <td>0</td>\n",
              "      <td>0</td>\n",
              "    </tr>\n",
              "    <tr>\n",
              "      <th>4</th>\n",
              "      <td>32</td>\n",
              "      <td>28.880</td>\n",
              "      <td>0</td>\n",
              "      <td>3866.85520</td>\n",
              "      <td>0</td>\n",
              "      <td>1</td>\n",
              "      <td>1</td>\n",
              "      <td>0</td>\n",
              "      <td>0</td>\n",
              "      <td>1</td>\n",
              "      <td>0</td>\n",
              "      <td>0</td>\n",
              "    </tr>\n",
              "  </tbody>\n",
              "</table>\n",
              "</div>\n",
              "      <button class=\"colab-df-convert\" onclick=\"convertToInteractive('df-d40b934e-9aeb-4e79-8806-b0aa99848e9e')\"\n",
              "              title=\"Convert this dataframe to an interactive table.\"\n",
              "              style=\"display:none;\">\n",
              "        \n",
              "  <svg xmlns=\"http://www.w3.org/2000/svg\" height=\"24px\"viewBox=\"0 0 24 24\"\n",
              "       width=\"24px\">\n",
              "    <path d=\"M0 0h24v24H0V0z\" fill=\"none\"/>\n",
              "    <path d=\"M18.56 5.44l.94 2.06.94-2.06 2.06-.94-2.06-.94-.94-2.06-.94 2.06-2.06.94zm-11 1L8.5 8.5l.94-2.06 2.06-.94-2.06-.94L8.5 2.5l-.94 2.06-2.06.94zm10 10l.94 2.06.94-2.06 2.06-.94-2.06-.94-.94-2.06-.94 2.06-2.06.94z\"/><path d=\"M17.41 7.96l-1.37-1.37c-.4-.4-.92-.59-1.43-.59-.52 0-1.04.2-1.43.59L10.3 9.45l-7.72 7.72c-.78.78-.78 2.05 0 2.83L4 21.41c.39.39.9.59 1.41.59.51 0 1.02-.2 1.41-.59l7.78-7.78 2.81-2.81c.8-.78.8-2.07 0-2.86zM5.41 20L4 18.59l7.72-7.72 1.47 1.35L5.41 20z\"/>\n",
              "  </svg>\n",
              "      </button>\n",
              "      \n",
              "  <style>\n",
              "    .colab-df-container {\n",
              "      display:flex;\n",
              "      flex-wrap:wrap;\n",
              "      gap: 12px;\n",
              "    }\n",
              "\n",
              "    .colab-df-convert {\n",
              "      background-color: #E8F0FE;\n",
              "      border: none;\n",
              "      border-radius: 50%;\n",
              "      cursor: pointer;\n",
              "      display: none;\n",
              "      fill: #1967D2;\n",
              "      height: 32px;\n",
              "      padding: 0 0 0 0;\n",
              "      width: 32px;\n",
              "    }\n",
              "\n",
              "    .colab-df-convert:hover {\n",
              "      background-color: #E2EBFA;\n",
              "      box-shadow: 0px 1px 2px rgba(60, 64, 67, 0.3), 0px 1px 3px 1px rgba(60, 64, 67, 0.15);\n",
              "      fill: #174EA6;\n",
              "    }\n",
              "\n",
              "    [theme=dark] .colab-df-convert {\n",
              "      background-color: #3B4455;\n",
              "      fill: #D2E3FC;\n",
              "    }\n",
              "\n",
              "    [theme=dark] .colab-df-convert:hover {\n",
              "      background-color: #434B5C;\n",
              "      box-shadow: 0px 1px 3px 1px rgba(0, 0, 0, 0.15);\n",
              "      filter: drop-shadow(0px 1px 2px rgba(0, 0, 0, 0.3));\n",
              "      fill: #FFFFFF;\n",
              "    }\n",
              "  </style>\n",
              "\n",
              "      <script>\n",
              "        const buttonEl =\n",
              "          document.querySelector('#df-d40b934e-9aeb-4e79-8806-b0aa99848e9e button.colab-df-convert');\n",
              "        buttonEl.style.display =\n",
              "          google.colab.kernel.accessAllowed ? 'block' : 'none';\n",
              "\n",
              "        async function convertToInteractive(key) {\n",
              "          const element = document.querySelector('#df-d40b934e-9aeb-4e79-8806-b0aa99848e9e');\n",
              "          const dataTable =\n",
              "            await google.colab.kernel.invokeFunction('convertToInteractive',\n",
              "                                                     [key], {});\n",
              "          if (!dataTable) return;\n",
              "\n",
              "          const docLinkHtml = 'Like what you see? Visit the ' +\n",
              "            '<a target=\"_blank\" href=https://colab.research.google.com/notebooks/data_table.ipynb>data table notebook</a>'\n",
              "            + ' to learn more about interactive tables.';\n",
              "          element.innerHTML = '';\n",
              "          dataTable['output_type'] = 'display_data';\n",
              "          await google.colab.output.renderOutput(dataTable, element);\n",
              "          const docLink = document.createElement('div');\n",
              "          docLink.innerHTML = docLinkHtml;\n",
              "          element.appendChild(docLink);\n",
              "        }\n",
              "      </script>\n",
              "    </div>\n",
              "  </div>\n",
              "  "
            ]
          },
          "metadata": {},
          "execution_count": 71
        }
      ]
    },
    {
      "cell_type": "code",
      "source": [
        "insurance_one_hot.info()"
      ],
      "metadata": {
        "colab": {
          "base_uri": "https://localhost:8080/"
        },
        "id": "LKOpKHNLXzAv",
        "outputId": "89c57dd7-1c66-4ed7-f151-131ace0bae1b"
      },
      "execution_count": 72,
      "outputs": [
        {
          "output_type": "stream",
          "name": "stdout",
          "text": [
            "<class 'pandas.core.frame.DataFrame'>\n",
            "RangeIndex: 1338 entries, 0 to 1337\n",
            "Data columns (total 12 columns):\n",
            " #   Column            Non-Null Count  Dtype  \n",
            "---  ------            --------------  -----  \n",
            " 0   age               1338 non-null   int64  \n",
            " 1   bmi               1338 non-null   float64\n",
            " 2   children          1338 non-null   int64  \n",
            " 3   charges           1338 non-null   float64\n",
            " 4   sex_female        1338 non-null   uint8  \n",
            " 5   sex_male          1338 non-null   uint8  \n",
            " 6   smoker_no         1338 non-null   uint8  \n",
            " 7   smoker_yes        1338 non-null   uint8  \n",
            " 8   region_northeast  1338 non-null   uint8  \n",
            " 9   region_northwest  1338 non-null   uint8  \n",
            " 10  region_southeast  1338 non-null   uint8  \n",
            " 11  region_southwest  1338 non-null   uint8  \n",
            "dtypes: float64(2), int64(2), uint8(8)\n",
            "memory usage: 52.4 KB\n"
          ]
        }
      ]
    },
    {
      "cell_type": "code",
      "source": [
        "X = insurance_one_hot.drop(\"charges\", axis=1)\n",
        "X"
      ],
      "metadata": {
        "colab": {
          "base_uri": "https://localhost:8080/",
          "height": 424
        },
        "id": "FVQ2RGIPXzD_",
        "outputId": "74f2db3d-6fac-4c67-a4bf-655d3140e331"
      },
      "execution_count": 74,
      "outputs": [
        {
          "output_type": "execute_result",
          "data": {
            "text/plain": [
              "      age     bmi  children  sex_female  sex_male  smoker_no  smoker_yes  \\\n",
              "0      19  27.900         0           1         0          0           1   \n",
              "1      18  33.770         1           0         1          1           0   \n",
              "2      28  33.000         3           0         1          1           0   \n",
              "3      33  22.705         0           0         1          1           0   \n",
              "4      32  28.880         0           0         1          1           0   \n",
              "...   ...     ...       ...         ...       ...        ...         ...   \n",
              "1333   50  30.970         3           0         1          1           0   \n",
              "1334   18  31.920         0           1         0          1           0   \n",
              "1335   18  36.850         0           1         0          1           0   \n",
              "1336   21  25.800         0           1         0          1           0   \n",
              "1337   61  29.070         0           1         0          0           1   \n",
              "\n",
              "      region_northeast  region_northwest  region_southeast  region_southwest  \n",
              "0                    0                 0                 0                 1  \n",
              "1                    0                 0                 1                 0  \n",
              "2                    0                 0                 1                 0  \n",
              "3                    0                 1                 0                 0  \n",
              "4                    0                 1                 0                 0  \n",
              "...                ...               ...               ...               ...  \n",
              "1333                 0                 1                 0                 0  \n",
              "1334                 1                 0                 0                 0  \n",
              "1335                 0                 0                 1                 0  \n",
              "1336                 0                 0                 0                 1  \n",
              "1337                 0                 1                 0                 0  \n",
              "\n",
              "[1338 rows x 11 columns]"
            ],
            "text/html": [
              "\n",
              "  <div id=\"df-0fcac548-1eaf-4a26-a5d5-ed509eda0683\">\n",
              "    <div class=\"colab-df-container\">\n",
              "      <div>\n",
              "<style scoped>\n",
              "    .dataframe tbody tr th:only-of-type {\n",
              "        vertical-align: middle;\n",
              "    }\n",
              "\n",
              "    .dataframe tbody tr th {\n",
              "        vertical-align: top;\n",
              "    }\n",
              "\n",
              "    .dataframe thead th {\n",
              "        text-align: right;\n",
              "    }\n",
              "</style>\n",
              "<table border=\"1\" class=\"dataframe\">\n",
              "  <thead>\n",
              "    <tr style=\"text-align: right;\">\n",
              "      <th></th>\n",
              "      <th>age</th>\n",
              "      <th>bmi</th>\n",
              "      <th>children</th>\n",
              "      <th>sex_female</th>\n",
              "      <th>sex_male</th>\n",
              "      <th>smoker_no</th>\n",
              "      <th>smoker_yes</th>\n",
              "      <th>region_northeast</th>\n",
              "      <th>region_northwest</th>\n",
              "      <th>region_southeast</th>\n",
              "      <th>region_southwest</th>\n",
              "    </tr>\n",
              "  </thead>\n",
              "  <tbody>\n",
              "    <tr>\n",
              "      <th>0</th>\n",
              "      <td>19</td>\n",
              "      <td>27.900</td>\n",
              "      <td>0</td>\n",
              "      <td>1</td>\n",
              "      <td>0</td>\n",
              "      <td>0</td>\n",
              "      <td>1</td>\n",
              "      <td>0</td>\n",
              "      <td>0</td>\n",
              "      <td>0</td>\n",
              "      <td>1</td>\n",
              "    </tr>\n",
              "    <tr>\n",
              "      <th>1</th>\n",
              "      <td>18</td>\n",
              "      <td>33.770</td>\n",
              "      <td>1</td>\n",
              "      <td>0</td>\n",
              "      <td>1</td>\n",
              "      <td>1</td>\n",
              "      <td>0</td>\n",
              "      <td>0</td>\n",
              "      <td>0</td>\n",
              "      <td>1</td>\n",
              "      <td>0</td>\n",
              "    </tr>\n",
              "    <tr>\n",
              "      <th>2</th>\n",
              "      <td>28</td>\n",
              "      <td>33.000</td>\n",
              "      <td>3</td>\n",
              "      <td>0</td>\n",
              "      <td>1</td>\n",
              "      <td>1</td>\n",
              "      <td>0</td>\n",
              "      <td>0</td>\n",
              "      <td>0</td>\n",
              "      <td>1</td>\n",
              "      <td>0</td>\n",
              "    </tr>\n",
              "    <tr>\n",
              "      <th>3</th>\n",
              "      <td>33</td>\n",
              "      <td>22.705</td>\n",
              "      <td>0</td>\n",
              "      <td>0</td>\n",
              "      <td>1</td>\n",
              "      <td>1</td>\n",
              "      <td>0</td>\n",
              "      <td>0</td>\n",
              "      <td>1</td>\n",
              "      <td>0</td>\n",
              "      <td>0</td>\n",
              "    </tr>\n",
              "    <tr>\n",
              "      <th>4</th>\n",
              "      <td>32</td>\n",
              "      <td>28.880</td>\n",
              "      <td>0</td>\n",
              "      <td>0</td>\n",
              "      <td>1</td>\n",
              "      <td>1</td>\n",
              "      <td>0</td>\n",
              "      <td>0</td>\n",
              "      <td>1</td>\n",
              "      <td>0</td>\n",
              "      <td>0</td>\n",
              "    </tr>\n",
              "    <tr>\n",
              "      <th>...</th>\n",
              "      <td>...</td>\n",
              "      <td>...</td>\n",
              "      <td>...</td>\n",
              "      <td>...</td>\n",
              "      <td>...</td>\n",
              "      <td>...</td>\n",
              "      <td>...</td>\n",
              "      <td>...</td>\n",
              "      <td>...</td>\n",
              "      <td>...</td>\n",
              "      <td>...</td>\n",
              "    </tr>\n",
              "    <tr>\n",
              "      <th>1333</th>\n",
              "      <td>50</td>\n",
              "      <td>30.970</td>\n",
              "      <td>3</td>\n",
              "      <td>0</td>\n",
              "      <td>1</td>\n",
              "      <td>1</td>\n",
              "      <td>0</td>\n",
              "      <td>0</td>\n",
              "      <td>1</td>\n",
              "      <td>0</td>\n",
              "      <td>0</td>\n",
              "    </tr>\n",
              "    <tr>\n",
              "      <th>1334</th>\n",
              "      <td>18</td>\n",
              "      <td>31.920</td>\n",
              "      <td>0</td>\n",
              "      <td>1</td>\n",
              "      <td>0</td>\n",
              "      <td>1</td>\n",
              "      <td>0</td>\n",
              "      <td>1</td>\n",
              "      <td>0</td>\n",
              "      <td>0</td>\n",
              "      <td>0</td>\n",
              "    </tr>\n",
              "    <tr>\n",
              "      <th>1335</th>\n",
              "      <td>18</td>\n",
              "      <td>36.850</td>\n",
              "      <td>0</td>\n",
              "      <td>1</td>\n",
              "      <td>0</td>\n",
              "      <td>1</td>\n",
              "      <td>0</td>\n",
              "      <td>0</td>\n",
              "      <td>0</td>\n",
              "      <td>1</td>\n",
              "      <td>0</td>\n",
              "    </tr>\n",
              "    <tr>\n",
              "      <th>1336</th>\n",
              "      <td>21</td>\n",
              "      <td>25.800</td>\n",
              "      <td>0</td>\n",
              "      <td>1</td>\n",
              "      <td>0</td>\n",
              "      <td>1</td>\n",
              "      <td>0</td>\n",
              "      <td>0</td>\n",
              "      <td>0</td>\n",
              "      <td>0</td>\n",
              "      <td>1</td>\n",
              "    </tr>\n",
              "    <tr>\n",
              "      <th>1337</th>\n",
              "      <td>61</td>\n",
              "      <td>29.070</td>\n",
              "      <td>0</td>\n",
              "      <td>1</td>\n",
              "      <td>0</td>\n",
              "      <td>0</td>\n",
              "      <td>1</td>\n",
              "      <td>0</td>\n",
              "      <td>1</td>\n",
              "      <td>0</td>\n",
              "      <td>0</td>\n",
              "    </tr>\n",
              "  </tbody>\n",
              "</table>\n",
              "<p>1338 rows × 11 columns</p>\n",
              "</div>\n",
              "      <button class=\"colab-df-convert\" onclick=\"convertToInteractive('df-0fcac548-1eaf-4a26-a5d5-ed509eda0683')\"\n",
              "              title=\"Convert this dataframe to an interactive table.\"\n",
              "              style=\"display:none;\">\n",
              "        \n",
              "  <svg xmlns=\"http://www.w3.org/2000/svg\" height=\"24px\"viewBox=\"0 0 24 24\"\n",
              "       width=\"24px\">\n",
              "    <path d=\"M0 0h24v24H0V0z\" fill=\"none\"/>\n",
              "    <path d=\"M18.56 5.44l.94 2.06.94-2.06 2.06-.94-2.06-.94-.94-2.06-.94 2.06-2.06.94zm-11 1L8.5 8.5l.94-2.06 2.06-.94-2.06-.94L8.5 2.5l-.94 2.06-2.06.94zm10 10l.94 2.06.94-2.06 2.06-.94-2.06-.94-.94-2.06-.94 2.06-2.06.94z\"/><path d=\"M17.41 7.96l-1.37-1.37c-.4-.4-.92-.59-1.43-.59-.52 0-1.04.2-1.43.59L10.3 9.45l-7.72 7.72c-.78.78-.78 2.05 0 2.83L4 21.41c.39.39.9.59 1.41.59.51 0 1.02-.2 1.41-.59l7.78-7.78 2.81-2.81c.8-.78.8-2.07 0-2.86zM5.41 20L4 18.59l7.72-7.72 1.47 1.35L5.41 20z\"/>\n",
              "  </svg>\n",
              "      </button>\n",
              "      \n",
              "  <style>\n",
              "    .colab-df-container {\n",
              "      display:flex;\n",
              "      flex-wrap:wrap;\n",
              "      gap: 12px;\n",
              "    }\n",
              "\n",
              "    .colab-df-convert {\n",
              "      background-color: #E8F0FE;\n",
              "      border: none;\n",
              "      border-radius: 50%;\n",
              "      cursor: pointer;\n",
              "      display: none;\n",
              "      fill: #1967D2;\n",
              "      height: 32px;\n",
              "      padding: 0 0 0 0;\n",
              "      width: 32px;\n",
              "    }\n",
              "\n",
              "    .colab-df-convert:hover {\n",
              "      background-color: #E2EBFA;\n",
              "      box-shadow: 0px 1px 2px rgba(60, 64, 67, 0.3), 0px 1px 3px 1px rgba(60, 64, 67, 0.15);\n",
              "      fill: #174EA6;\n",
              "    }\n",
              "\n",
              "    [theme=dark] .colab-df-convert {\n",
              "      background-color: #3B4455;\n",
              "      fill: #D2E3FC;\n",
              "    }\n",
              "\n",
              "    [theme=dark] .colab-df-convert:hover {\n",
              "      background-color: #434B5C;\n",
              "      box-shadow: 0px 1px 3px 1px rgba(0, 0, 0, 0.15);\n",
              "      filter: drop-shadow(0px 1px 2px rgba(0, 0, 0, 0.3));\n",
              "      fill: #FFFFFF;\n",
              "    }\n",
              "  </style>\n",
              "\n",
              "      <script>\n",
              "        const buttonEl =\n",
              "          document.querySelector('#df-0fcac548-1eaf-4a26-a5d5-ed509eda0683 button.colab-df-convert');\n",
              "        buttonEl.style.display =\n",
              "          google.colab.kernel.accessAllowed ? 'block' : 'none';\n",
              "\n",
              "        async function convertToInteractive(key) {\n",
              "          const element = document.querySelector('#df-0fcac548-1eaf-4a26-a5d5-ed509eda0683');\n",
              "          const dataTable =\n",
              "            await google.colab.kernel.invokeFunction('convertToInteractive',\n",
              "                                                     [key], {});\n",
              "          if (!dataTable) return;\n",
              "\n",
              "          const docLinkHtml = 'Like what you see? Visit the ' +\n",
              "            '<a target=\"_blank\" href=https://colab.research.google.com/notebooks/data_table.ipynb>data table notebook</a>'\n",
              "            + ' to learn more about interactive tables.';\n",
              "          element.innerHTML = '';\n",
              "          dataTable['output_type'] = 'display_data';\n",
              "          await google.colab.output.renderOutput(dataTable, element);\n",
              "          const docLink = document.createElement('div');\n",
              "          docLink.innerHTML = docLinkHtml;\n",
              "          element.appendChild(docLink);\n",
              "        }\n",
              "      </script>\n",
              "    </div>\n",
              "  </div>\n",
              "  "
            ]
          },
          "metadata": {},
          "execution_count": 74
        }
      ]
    },
    {
      "cell_type": "code",
      "source": [
        "y = insurance_one_hot[\"charges\"]\n",
        "y"
      ],
      "metadata": {
        "colab": {
          "base_uri": "https://localhost:8080/"
        },
        "id": "ve71tLQaYq5H",
        "outputId": "92139313-74dd-4f01-8bc1-9eed40c7301b"
      },
      "execution_count": 76,
      "outputs": [
        {
          "output_type": "execute_result",
          "data": {
            "text/plain": [
              "0       16884.92400\n",
              "1        1725.55230\n",
              "2        4449.46200\n",
              "3       21984.47061\n",
              "4        3866.85520\n",
              "           ...     \n",
              "1333    10600.54830\n",
              "1334     2205.98080\n",
              "1335     1629.83350\n",
              "1336     2007.94500\n",
              "1337    29141.36030\n",
              "Name: charges, Length: 1338, dtype: float64"
            ]
          },
          "metadata": {},
          "execution_count": 76
        }
      ]
    },
    {
      "cell_type": "code",
      "source": [
        "len(X)"
      ],
      "metadata": {
        "colab": {
          "base_uri": "https://localhost:8080/"
        },
        "id": "N83gKRzfYq8g",
        "outputId": "e3c9b8d2-5a96-4059-fbc7-ec5df396e5f7"
      },
      "execution_count": 77,
      "outputs": [
        {
          "output_type": "execute_result",
          "data": {
            "text/plain": [
              "1338"
            ]
          },
          "metadata": {},
          "execution_count": 77
        }
      ]
    },
    {
      "cell_type": "code",
      "source": [
        "from sklearn.model_selection import train_test_split\n",
        "\n",
        "X_train, X_test, y_train, y_test = train_test_split(X, y, test_size=0.2, random_state=42)"
      ],
      "metadata": {
        "id": "C-3QmO6BYq_u"
      },
      "execution_count": 78,
      "outputs": []
    },
    {
      "cell_type": "code",
      "source": [
        "len(X_train), len(X_test)"
      ],
      "metadata": {
        "colab": {
          "base_uri": "https://localhost:8080/"
        },
        "id": "gmUlgGeBZGF2",
        "outputId": "53965e41-8ef3-4ae8-946a-a6461d0496f3"
      },
      "execution_count": 81,
      "outputs": [
        {
          "output_type": "execute_result",
          "data": {
            "text/plain": [
              "(1070, 268)"
            ]
          },
          "metadata": {},
          "execution_count": 81
        }
      ]
    },
    {
      "cell_type": "markdown",
      "source": [
        "# Model 6"
      ],
      "metadata": {
        "id": "nIHlB1JGZGK8"
      }
    },
    {
      "cell_type": "code",
      "source": [
        "# 0. Set ranom seed\n",
        "tf.random.set_seed(42)\n",
        "\n",
        "# 1. Create model\n",
        "model_6 = tf.keras.Sequential([\n",
        "  tf.keras.layers.Dense(1),\n",
        "  tf.keras.layers.Dense(1)\n",
        "])\n",
        "\n",
        "# 2. Compile model\n",
        "model_6.compile(loss=tf.keras.losses.mae,\n",
        "                optimizer=tf.keras.optimizers.SGD(), # Stochastic Gradient Descent\n",
        "                metrics=[\"mae\"])\n",
        "\n",
        "# 3. Fit the model\n",
        "model_6.fit(X_train, y_train, epochs=100)"
      ],
      "metadata": {
        "colab": {
          "base_uri": "https://localhost:8080/"
        },
        "id": "MbtvNL1yZGOi",
        "outputId": "a8f5f58c-e47e-4f98-81b3-bfd9b986b82b"
      },
      "execution_count": 82,
      "outputs": [
        {
          "output_type": "stream",
          "name": "stdout",
          "text": [
            "Epoch 1/100\n",
            "34/34 [==============================] - 1s 3ms/step - loss: 8868.5918 - mae: 8868.5918\n",
            "Epoch 2/100\n",
            "34/34 [==============================] - 0s 4ms/step - loss: 7887.1606 - mae: 7887.1606\n",
            "Epoch 3/100\n",
            "34/34 [==============================] - 0s 2ms/step - loss: 7537.0947 - mae: 7537.0947\n",
            "Epoch 4/100\n",
            "34/34 [==============================] - 0s 2ms/step - loss: 7859.4336 - mae: 7859.4336\n",
            "Epoch 5/100\n",
            "34/34 [==============================] - 0s 3ms/step - loss: 7639.6699 - mae: 7639.6699\n",
            "Epoch 6/100\n",
            "34/34 [==============================] - 0s 4ms/step - loss: 7578.0859 - mae: 7578.0859\n",
            "Epoch 7/100\n",
            "34/34 [==============================] - 0s 3ms/step - loss: 7514.6172 - mae: 7514.6172\n",
            "Epoch 8/100\n",
            "34/34 [==============================] - 0s 3ms/step - loss: 7694.1338 - mae: 7694.1338\n",
            "Epoch 9/100\n",
            "34/34 [==============================] - 0s 3ms/step - loss: 7595.9136 - mae: 7595.9136\n",
            "Epoch 10/100\n",
            "34/34 [==============================] - 0s 3ms/step - loss: 7735.9116 - mae: 7735.9116\n",
            "Epoch 11/100\n",
            "34/34 [==============================] - 0s 3ms/step - loss: 7444.4189 - mae: 7444.4189\n",
            "Epoch 12/100\n",
            "34/34 [==============================] - 0s 3ms/step - loss: 7678.0337 - mae: 7678.0337\n",
            "Epoch 13/100\n",
            "34/34 [==============================] - 0s 3ms/step - loss: 7681.5840 - mae: 7681.5840\n",
            "Epoch 14/100\n",
            "34/34 [==============================] - 0s 3ms/step - loss: 7702.2842 - mae: 7702.2842\n",
            "Epoch 15/100\n",
            "34/34 [==============================] - 0s 3ms/step - loss: 7585.8921 - mae: 7585.8921\n",
            "Epoch 16/100\n",
            "34/34 [==============================] - 0s 3ms/step - loss: 7689.5356 - mae: 7689.5356\n",
            "Epoch 17/100\n",
            "34/34 [==============================] - 0s 3ms/step - loss: 7509.2036 - mae: 7509.2036\n",
            "Epoch 18/100\n",
            "34/34 [==============================] - 0s 3ms/step - loss: 7695.0093 - mae: 7695.0093\n",
            "Epoch 19/100\n",
            "34/34 [==============================] - 0s 2ms/step - loss: 7669.3740 - mae: 7669.3740\n",
            "Epoch 20/100\n",
            "34/34 [==============================] - 0s 2ms/step - loss: 7901.1362 - mae: 7901.1362\n",
            "Epoch 21/100\n",
            "34/34 [==============================] - 0s 5ms/step - loss: 7552.4814 - mae: 7552.4814\n",
            "Epoch 22/100\n",
            "34/34 [==============================] - 0s 7ms/step - loss: 7844.9961 - mae: 7844.9961\n",
            "Epoch 23/100\n",
            "34/34 [==============================] - 0s 6ms/step - loss: 7642.2490 - mae: 7642.2490\n",
            "Epoch 24/100\n",
            "34/34 [==============================] - 0s 6ms/step - loss: 7515.3081 - mae: 7515.3081\n",
            "Epoch 25/100\n",
            "34/34 [==============================] - 0s 7ms/step - loss: 7678.3506 - mae: 7678.3506\n",
            "Epoch 26/100\n",
            "34/34 [==============================] - 0s 6ms/step - loss: 7653.0269 - mae: 7653.0269\n",
            "Epoch 27/100\n",
            "34/34 [==============================] - 0s 4ms/step - loss: 7559.5449 - mae: 7559.5449\n",
            "Epoch 28/100\n",
            "34/34 [==============================] - 0s 3ms/step - loss: 7459.9404 - mae: 7459.9404\n",
            "Epoch 29/100\n",
            "34/34 [==============================] - 0s 3ms/step - loss: 7618.6177 - mae: 7618.6177\n",
            "Epoch 30/100\n",
            "34/34 [==============================] - 0s 2ms/step - loss: 7628.6250 - mae: 7628.6250\n",
            "Epoch 31/100\n",
            "34/34 [==============================] - 0s 1ms/step - loss: 7540.4893 - mae: 7540.4893\n",
            "Epoch 32/100\n",
            "34/34 [==============================] - 0s 2ms/step - loss: 7486.0186 - mae: 7486.0186\n",
            "Epoch 33/100\n",
            "34/34 [==============================] - 0s 1ms/step - loss: 7418.6646 - mae: 7418.6646\n",
            "Epoch 34/100\n",
            "34/34 [==============================] - 0s 1ms/step - loss: 7480.7319 - mae: 7480.7319\n",
            "Epoch 35/100\n",
            "34/34 [==============================] - 0s 1ms/step - loss: 7615.3115 - mae: 7615.3115\n",
            "Epoch 36/100\n",
            "34/34 [==============================] - 0s 2ms/step - loss: 7566.7896 - mae: 7566.7896\n",
            "Epoch 37/100\n",
            "34/34 [==============================] - 0s 1ms/step - loss: 7661.0884 - mae: 7661.0884\n",
            "Epoch 38/100\n",
            "34/34 [==============================] - 0s 2ms/step - loss: 7522.6816 - mae: 7522.6816\n",
            "Epoch 39/100\n",
            "34/34 [==============================] - 0s 2ms/step - loss: 7556.0718 - mae: 7556.0718\n",
            "Epoch 40/100\n",
            "34/34 [==============================] - 0s 1ms/step - loss: 7433.5669 - mae: 7433.5669\n",
            "Epoch 41/100\n",
            "34/34 [==============================] - 0s 1ms/step - loss: 7722.4321 - mae: 7722.4321\n",
            "Epoch 42/100\n",
            "34/34 [==============================] - 0s 1ms/step - loss: 7344.2700 - mae: 7344.2700\n",
            "Epoch 43/100\n",
            "34/34 [==============================] - 0s 1ms/step - loss: 7597.4331 - mae: 7597.4331\n",
            "Epoch 44/100\n",
            "34/34 [==============================] - 0s 1ms/step - loss: 7338.0132 - mae: 7338.0132\n",
            "Epoch 45/100\n",
            "34/34 [==============================] - 0s 1ms/step - loss: 7510.3467 - mae: 7510.3467\n",
            "Epoch 46/100\n",
            "34/34 [==============================] - 0s 1ms/step - loss: 7413.5801 - mae: 7413.5801\n",
            "Epoch 47/100\n",
            "34/34 [==============================] - 0s 1ms/step - loss: 7451.0391 - mae: 7451.0391\n",
            "Epoch 48/100\n",
            "34/34 [==============================] - 0s 1ms/step - loss: 7340.5381 - mae: 7340.5381\n",
            "Epoch 49/100\n",
            "34/34 [==============================] - 0s 1ms/step - loss: 7481.9966 - mae: 7481.9966\n",
            "Epoch 50/100\n",
            "34/34 [==============================] - 0s 1ms/step - loss: 7468.2842 - mae: 7468.2842\n",
            "Epoch 51/100\n",
            "34/34 [==============================] - 0s 2ms/step - loss: 7411.3408 - mae: 7411.3408\n",
            "Epoch 52/100\n",
            "34/34 [==============================] - 0s 1ms/step - loss: 7460.0796 - mae: 7460.0796\n",
            "Epoch 53/100\n",
            "34/34 [==============================] - 0s 1ms/step - loss: 7601.6606 - mae: 7601.6606\n",
            "Epoch 54/100\n",
            "34/34 [==============================] - 0s 1ms/step - loss: 7241.2544 - mae: 7241.2544\n",
            "Epoch 55/100\n",
            "34/34 [==============================] - 0s 2ms/step - loss: 7539.6953 - mae: 7539.6953\n",
            "Epoch 56/100\n",
            "34/34 [==============================] - 0s 2ms/step - loss: 7293.2012 - mae: 7293.2012\n",
            "Epoch 57/100\n",
            "34/34 [==============================] - 0s 1ms/step - loss: 7417.9731 - mae: 7417.9731\n",
            "Epoch 58/100\n",
            "34/34 [==============================] - 0s 1ms/step - loss: 7353.0625 - mae: 7353.0625\n",
            "Epoch 59/100\n",
            "34/34 [==============================] - 0s 1ms/step - loss: 7643.8237 - mae: 7643.8237\n",
            "Epoch 60/100\n",
            "34/34 [==============================] - 0s 1ms/step - loss: 7410.4004 - mae: 7410.4004\n",
            "Epoch 61/100\n",
            "34/34 [==============================] - 0s 1ms/step - loss: 7612.8330 - mae: 7612.8330\n",
            "Epoch 62/100\n",
            "34/34 [==============================] - 0s 1ms/step - loss: 7387.9087 - mae: 7387.9087\n",
            "Epoch 63/100\n",
            "34/34 [==============================] - 0s 1ms/step - loss: 7359.5605 - mae: 7359.5605\n",
            "Epoch 64/100\n",
            "34/34 [==============================] - 0s 1ms/step - loss: 7109.0884 - mae: 7109.0884\n",
            "Epoch 65/100\n",
            "34/34 [==============================] - 0s 1ms/step - loss: 7396.3223 - mae: 7396.3223\n",
            "Epoch 66/100\n",
            "34/34 [==============================] - 0s 1ms/step - loss: 7179.8613 - mae: 7179.8613\n",
            "Epoch 67/100\n",
            "34/34 [==============================] - 0s 1ms/step - loss: 7289.7710 - mae: 7289.7710\n",
            "Epoch 68/100\n",
            "34/34 [==============================] - 0s 1ms/step - loss: 7523.6973 - mae: 7523.6973\n",
            "Epoch 69/100\n",
            "34/34 [==============================] - 0s 1ms/step - loss: 7442.6157 - mae: 7442.6157\n",
            "Epoch 70/100\n",
            "34/34 [==============================] - 0s 2ms/step - loss: 7673.4834 - mae: 7673.4834\n",
            "Epoch 71/100\n",
            "34/34 [==============================] - 0s 1ms/step - loss: 7276.0337 - mae: 7276.0337\n",
            "Epoch 72/100\n",
            "34/34 [==============================] - 0s 2ms/step - loss: 7246.3721 - mae: 7246.3721\n",
            "Epoch 73/100\n",
            "34/34 [==============================] - 0s 2ms/step - loss: 7372.0718 - mae: 7372.0718\n",
            "Epoch 74/100\n",
            "34/34 [==============================] - 0s 2ms/step - loss: 7512.0762 - mae: 7512.0762\n",
            "Epoch 75/100\n",
            "34/34 [==============================] - 0s 2ms/step - loss: 7269.7437 - mae: 7269.7437\n",
            "Epoch 76/100\n",
            "34/34 [==============================] - 0s 1ms/step - loss: 7199.5039 - mae: 7199.5039\n",
            "Epoch 77/100\n",
            "34/34 [==============================] - 0s 2ms/step - loss: 7261.2920 - mae: 7261.2920\n",
            "Epoch 78/100\n",
            "34/34 [==============================] - 0s 1ms/step - loss: 7185.7627 - mae: 7185.7627\n",
            "Epoch 79/100\n",
            "34/34 [==============================] - 0s 2ms/step - loss: 7301.7495 - mae: 7301.7495\n",
            "Epoch 80/100\n",
            "34/34 [==============================] - 0s 2ms/step - loss: 7002.6309 - mae: 7002.6309\n",
            "Epoch 81/100\n",
            "34/34 [==============================] - 0s 1ms/step - loss: 7289.1357 - mae: 7289.1357\n",
            "Epoch 82/100\n",
            "34/34 [==============================] - 0s 2ms/step - loss: 7155.3945 - mae: 7155.3945\n",
            "Epoch 83/100\n",
            "34/34 [==============================] - 0s 2ms/step - loss: 7475.1709 - mae: 7475.1709\n",
            "Epoch 84/100\n",
            "34/34 [==============================] - 0s 2ms/step - loss: 7387.3672 - mae: 7387.3672\n",
            "Epoch 85/100\n",
            "34/34 [==============================] - 0s 1ms/step - loss: 7289.9448 - mae: 7289.9448\n",
            "Epoch 86/100\n",
            "34/34 [==============================] - 0s 1ms/step - loss: 7268.0942 - mae: 7268.0942\n",
            "Epoch 87/100\n",
            "34/34 [==============================] - 0s 2ms/step - loss: 7238.5869 - mae: 7238.5869\n",
            "Epoch 88/100\n",
            "34/34 [==============================] - 0s 2ms/step - loss: 7201.7354 - mae: 7201.7349\n",
            "Epoch 89/100\n",
            "34/34 [==============================] - 0s 1ms/step - loss: 7538.0757 - mae: 7538.0757\n",
            "Epoch 90/100\n",
            "34/34 [==============================] - 0s 1ms/step - loss: 6967.1187 - mae: 6967.1187\n",
            "Epoch 91/100\n",
            "34/34 [==============================] - 0s 1ms/step - loss: 7314.1294 - mae: 7314.1294\n",
            "Epoch 92/100\n",
            "34/34 [==============================] - 0s 1ms/step - loss: 7192.3115 - mae: 7192.3115\n",
            "Epoch 93/100\n",
            "34/34 [==============================] - 0s 2ms/step - loss: 7530.8774 - mae: 7530.8774\n",
            "Epoch 94/100\n",
            "34/34 [==============================] - 0s 1ms/step - loss: 7187.3579 - mae: 7187.3579\n",
            "Epoch 95/100\n",
            "34/34 [==============================] - 0s 1ms/step - loss: 7561.5635 - mae: 7561.5635\n",
            "Epoch 96/100\n",
            "34/34 [==============================] - 0s 2ms/step - loss: 7263.4648 - mae: 7263.4648\n",
            "Epoch 97/100\n",
            "34/34 [==============================] - 0s 1ms/step - loss: 7146.2896 - mae: 7146.2896\n",
            "Epoch 98/100\n",
            "34/34 [==============================] - 0s 2ms/step - loss: 7247.9238 - mae: 7247.9238\n",
            "Epoch 99/100\n",
            "34/34 [==============================] - 0s 1ms/step - loss: 7200.6694 - mae: 7200.6694\n",
            "Epoch 100/100\n",
            "34/34 [==============================] - 0s 1ms/step - loss: 7301.6870 - mae: 7301.6870\n"
          ]
        },
        {
          "output_type": "execute_result",
          "data": {
            "text/plain": [
              "<keras.callbacks.History at 0x7f6d1469a890>"
            ]
          },
          "metadata": {},
          "execution_count": 82
        }
      ]
    },
    {
      "cell_type": "code",
      "source": [
        "model_6.evaluate(X_test, y_test)"
      ],
      "metadata": {
        "colab": {
          "base_uri": "https://localhost:8080/"
        },
        "id": "kWiSV7CBaDxn",
        "outputId": "a035acfb-cf07-478f-847a-ff750e011de1"
      },
      "execution_count": 83,
      "outputs": [
        {
          "output_type": "stream",
          "name": "stdout",
          "text": [
            "9/9 [==============================] - 0s 3ms/step - loss: 8628.2393 - mae: 8628.2393\n"
          ]
        },
        {
          "output_type": "execute_result",
          "data": {
            "text/plain": [
              "[8628.2392578125, 8628.2392578125]"
            ]
          },
          "metadata": {},
          "execution_count": 83
        }
      ]
    },
    {
      "cell_type": "markdown",
      "source": [
        "3 things:\n",
        "* Increasing the number of layers (2->3)\n",
        "* Increasing the number of units in each layer (except for the output layer)\n",
        "* Changinf optimizer (from SGD -> ADAM)"
      ],
      "metadata": {
        "id": "z8gxBkA0aD1H"
      }
    },
    {
      "cell_type": "markdown",
      "source": [
        "# Model 7"
      ],
      "metadata": {
        "id": "OwHNIhZFaD3R"
      }
    },
    {
      "cell_type": "code",
      "source": [
        "# Set random seed\n",
        "tf.random.set_seed(42)\n",
        "\n",
        "# Create model\n",
        "model_7 = tf.keras.Sequential([\n",
        "  tf.keras.layers.Dense(100),\n",
        "  tf.keras.layers.Dense(10),\n",
        "  tf.keras.layers.Dense(1),\n",
        "])\n",
        "\n",
        "# Compile model\n",
        "model_7.compile(loss=tf.keras.losses.mae,\n",
        "                optimizer=tf.keras.optimizers.Adam(),\n",
        "                metrics=[\"mae\"])\n",
        "\n",
        "# Fit the model\n",
        "history = model_7.fit(X_train, y_train, epochs=100, verbose=0)"
      ],
      "metadata": {
        "id": "9Cf6AyeaYrCY"
      },
      "execution_count": 88,
      "outputs": []
    },
    {
      "cell_type": "code",
      "source": [
        "model_7.evaluate(X_test, y_test)"
      ],
      "metadata": {
        "colab": {
          "base_uri": "https://localhost:8080/"
        },
        "id": "91SdnzuLbXXt",
        "outputId": "720526ad-9f97-4253-abd7-10b46858b403"
      },
      "execution_count": 89,
      "outputs": [
        {
          "output_type": "stream",
          "name": "stdout",
          "text": [
            "9/9 [==============================] - 0s 2ms/step - loss: 4924.3477 - mae: 4924.3477\n"
          ]
        },
        {
          "output_type": "execute_result",
          "data": {
            "text/plain": [
              "[4924.34765625, 4924.34765625]"
            ]
          },
          "metadata": {},
          "execution_count": 89
        }
      ]
    },
    {
      "cell_type": "code",
      "source": [
        "pd.DataFrame(history.history).plot()\n",
        "plt.ylabel(\"loss\")\n",
        "plt.xlabel(\"epoch\");"
      ],
      "metadata": {
        "colab": {
          "base_uri": "https://localhost:8080/",
          "height": 279
        },
        "id": "Lj-NTBkhbXbb",
        "outputId": "19984c8f-2fce-460a-e82c-36e8aa72a471"
      },
      "execution_count": 97,
      "outputs": [
        {
          "output_type": "display_data",
          "data": {
            "text/plain": [
              "<Figure size 432x288 with 1 Axes>"
            ],
            "image/png": "[encoded data removed]"
          },
          "metadata": {
            "needs_background": "light"
          }
        }
      ]
    },
    {
      "cell_type": "markdown",
      "source": [
        "# Preprocessiing Data"
      ],
      "metadata": {
        "id": "EYuiErdQbXdk"
      }
    },
    {
      "cell_type": "markdown",
      "source": [
        "## Normalization and standarization\n",
        "\n",
        "* Tunning all of your data to numbers \n",
        "* Making sure \n",
        "* Feature scaling \n",
        "  * Normalization\n"
      ],
      "metadata": {
        "id": "RlO76X2gddV1"
      }
    },
    {
      "cell_type": "code",
      "source": [
        "insurance = pd.read_csv(\"insurance.csv\")"
      ],
      "metadata": {
        "id": "4KUBZ21OeueU"
      },
      "execution_count": 98,
      "outputs": []
    },
    {
      "cell_type": "code",
      "source": [
        "from sklearn.compose import make_column_transformer\n",
        "from sklearn.preprocessing import MinMaxScaler, OneHotEncoder\n",
        "\n",
        "# Create column transformer\n",
        "ct = make_column_transformer(\n",
        "    (MinMaxScaler(), [\"age\", \"bmi\", \"children\"]),\n",
        "    (OneHotEncoder(handle_unknown=\"ignore\"), [\"sex\", \"smoker\", \"region\"])\n",
        ")\n",
        "\n",
        "# Create X & Y \n",
        "X = insurance.drop(\"charges\", axis=1)\n",
        "y = insurance[\"charges\"]\n",
        "\n",
        "# Build our train and test sets\n",
        "X_train, X_test, y_train, y_test = train_test_split(X, y, test_size=0.2, random_state=42)\n",
        "\n",
        "# Fit ct to insurance\n",
        "ct.fit(X_train)\n",
        "\n",
        "X_train_normal = ct.transform(X_train)\n",
        "X_test_normal = ct.transform(X_test)"
      ],
      "metadata": {
        "id": "3XpwymvGddZc"
      },
      "execution_count": 100,
      "outputs": []
    },
    {
      "cell_type": "code",
      "source": [
        "X_train.loc[0]"
      ],
      "metadata": {
        "colab": {
          "base_uri": "https://localhost:8080/"
        },
        "id": "-5soQNQ3ddde",
        "outputId": "7c9fc702-11b9-4ae9-d959-053311f26263"
      },
      "execution_count": 101,
      "outputs": [
        {
          "output_type": "execute_result",
          "data": {
            "text/plain": [
              "age                19\n",
              "sex            female\n",
              "bmi              27.9\n",
              "children            0\n",
              "smoker            yes\n",
              "region      southwest\n",
              "Name: 0, dtype: object"
            ]
          },
          "metadata": {},
          "execution_count": 101
        }
      ]
    },
    {
      "cell_type": "code",
      "source": [
        "pd.DataFrame(X_train_normal[0])"
      ],
      "metadata": {
        "colab": {
          "base_uri": "https://localhost:8080/",
          "height": 394
        },
        "id": "n8zRrisDddgt",
        "outputId": "9a87a02c-b6e2-437d-c70b-065de1ce8c46"
      },
      "execution_count": 106,
      "outputs": [
        {
          "output_type": "execute_result",
          "data": {
            "text/plain": [
              "           0\n",
              "0   0.608696\n",
              "1   0.107345\n",
              "2   0.400000\n",
              "3   1.000000\n",
              "4   0.000000\n",
              "5   1.000000\n",
              "6   0.000000\n",
              "7   0.000000\n",
              "8   1.000000\n",
              "9   0.000000\n",
              "10  0.000000"
            ],
            "text/html": [
              "\n",
              "  <div id=\"df-050eaedc-bc37-4961-a742-3ded2d4074af\">\n",
              "    <div class=\"colab-df-container\">\n",
              "      <div>\n",
              "<style scoped>\n",
              "    .dataframe tbody tr th:only-of-type {\n",
              "        vertical-align: middle;\n",
              "    }\n",
              "\n",
              "    .dataframe tbody tr th {\n",
              "        vertical-align: top;\n",
              "    }\n",
              "\n",
              "    .dataframe thead th {\n",
              "        text-align: right;\n",
              "    }\n",
              "</style>\n",
              "<table border=\"1\" class=\"dataframe\">\n",
              "  <thead>\n",
              "    <tr style=\"text-align: right;\">\n",
              "      <th></th>\n",
              "      <th>0</th>\n",
              "    </tr>\n",
              "  </thead>\n",
              "  <tbody>\n",
              "    <tr>\n",
              "      <th>0</th>\n",
              "      <td>0.608696</td>\n",
              "    </tr>\n",
              "    <tr>\n",
              "      <th>1</th>\n",
              "      <td>0.107345</td>\n",
              "    </tr>\n",
              "    <tr>\n",
              "      <th>2</th>\n",
              "      <td>0.400000</td>\n",
              "    </tr>\n",
              "    <tr>\n",
              "      <th>3</th>\n",
              "      <td>1.000000</td>\n",
              "    </tr>\n",
              "    <tr>\n",
              "      <th>4</th>\n",
              "      <td>0.000000</td>\n",
              "    </tr>\n",
              "    <tr>\n",
              "      <th>5</th>\n",
              "      <td>1.000000</td>\n",
              "    </tr>\n",
              "    <tr>\n",
              "      <th>6</th>\n",
              "      <td>0.000000</td>\n",
              "    </tr>\n",
              "    <tr>\n",
              "      <th>7</th>\n",
              "      <td>0.000000</td>\n",
              "    </tr>\n",
              "    <tr>\n",
              "      <th>8</th>\n",
              "      <td>1.000000</td>\n",
              "    </tr>\n",
              "    <tr>\n",
              "      <th>9</th>\n",
              "      <td>0.000000</td>\n",
              "    </tr>\n",
              "    <tr>\n",
              "      <th>10</th>\n",
              "      <td>0.000000</td>\n",
              "    </tr>\n",
              "  </tbody>\n",
              "</table>\n",
              "</div>\n",
              "      <button class=\"colab-df-convert\" onclick=\"convertToInteractive('df-050eaedc-bc37-4961-a742-3ded2d4074af')\"\n",
              "              title=\"Convert this dataframe to an interactive table.\"\n",
              "              style=\"display:none;\">\n",
              "        \n",
              "  <svg xmlns=\"http://www.w3.org/2000/svg\" height=\"24px\"viewBox=\"0 0 24 24\"\n",
              "       width=\"24px\">\n",
              "    <path d=\"M0 0h24v24H0V0z\" fill=\"none\"/>\n",
              "    <path d=\"M18.56 5.44l.94 2.06.94-2.06 2.06-.94-2.06-.94-.94-2.06-.94 2.06-2.06.94zm-11 1L8.5 8.5l.94-2.06 2.06-.94-2.06-.94L8.5 2.5l-.94 2.06-2.06.94zm10 10l.94 2.06.94-2.06 2.06-.94-2.06-.94-.94-2.06-.94 2.06-2.06.94z\"/><path d=\"M17.41 7.96l-1.37-1.37c-.4-.4-.92-.59-1.43-.59-.52 0-1.04.2-1.43.59L10.3 9.45l-7.72 7.72c-.78.78-.78 2.05 0 2.83L4 21.41c.39.39.9.59 1.41.59.51 0 1.02-.2 1.41-.59l7.78-7.78 2.81-2.81c.8-.78.8-2.07 0-2.86zM5.41 20L4 18.59l7.72-7.72 1.47 1.35L5.41 20z\"/>\n",
              "  </svg>\n",
              "      </button>\n",
              "      \n",
              "  <style>\n",
              "    .colab-df-container {\n",
              "      display:flex;\n",
              "      flex-wrap:wrap;\n",
              "      gap: 12px;\n",
              "    }\n",
              "\n",
              "    .colab-df-convert {\n",
              "      background-color: #E8F0FE;\n",
              "      border: none;\n",
              "      border-radius: 50%;\n",
              "      cursor: pointer;\n",
              "      display: none;\n",
              "      fill: #1967D2;\n",
              "      height: 32px;\n",
              "      padding: 0 0 0 0;\n",
              "      width: 32px;\n",
              "    }\n",
              "\n",
              "    .colab-df-convert:hover {\n",
              "      background-color: #E2EBFA;\n",
              "      box-shadow: 0px 1px 2px rgba(60, 64, 67, 0.3), 0px 1px 3px 1px rgba(60, 64, 67, 0.15);\n",
              "      fill: #174EA6;\n",
              "    }\n",
              "\n",
              "    [theme=dark] .colab-df-convert {\n",
              "      background-color: #3B4455;\n",
              "      fill: #D2E3FC;\n",
              "    }\n",
              "\n",
              "    [theme=dark] .colab-df-convert:hover {\n",
              "      background-color: #434B5C;\n",
              "      box-shadow: 0px 1px 3px 1px rgba(0, 0, 0, 0.15);\n",
              "      filter: drop-shadow(0px 1px 2px rgba(0, 0, 0, 0.3));\n",
              "      fill: #FFFFFF;\n",
              "    }\n",
              "  </style>\n",
              "\n",
              "      <script>\n",
              "        const buttonEl =\n",
              "          document.querySelector('#df-050eaedc-bc37-4961-a742-3ded2d4074af button.colab-df-convert');\n",
              "        buttonEl.style.display =\n",
              "          google.colab.kernel.accessAllowed ? 'block' : 'none';\n",
              "\n",
              "        async function convertToInteractive(key) {\n",
              "          const element = document.querySelector('#df-050eaedc-bc37-4961-a742-3ded2d4074af');\n",
              "          const dataTable =\n",
              "            await google.colab.kernel.invokeFunction('convertToInteractive',\n",
              "                                                     [key], {});\n",
              "          if (!dataTable) return;\n",
              "\n",
              "          const docLinkHtml = 'Like what you see? Visit the ' +\n",
              "            '<a target=\"_blank\" href=https://colab.research.google.com/notebooks/data_table.ipynb>data table notebook</a>'\n",
              "            + ' to learn more about interactive tables.';\n",
              "          element.innerHTML = '';\n",
              "          dataTable['output_type'] = 'display_data';\n",
              "          await google.colab.output.renderOutput(dataTable, element);\n",
              "          const docLink = document.createElement('div');\n",
              "          docLink.innerHTML = docLinkHtml;\n",
              "          element.appendChild(docLink);\n",
              "        }\n",
              "      </script>\n",
              "    </div>\n",
              "  </div>\n",
              "  "
            ]
          },
          "metadata": {},
          "execution_count": 106
        }
      ]
    },
    {
      "cell_type": "code",
      "source": [
        "pd.DataFrame(X_train_normal)"
      ],
      "metadata": {
        "colab": {
          "base_uri": "https://localhost:8080/",
          "height": 424
        },
        "id": "GHVzx0Jrg2Xu",
        "outputId": "bfb26364-6642-4a67-f04b-7eb7a1e66524"
      },
      "execution_count": 108,
      "outputs": [
        {
          "output_type": "execute_result",
          "data": {
            "text/plain": [
              "            0         1    2    3    4    5    6    7    8    9    10\n",
              "0     0.608696  0.107345  0.4  1.0  0.0  1.0  0.0  0.0  1.0  0.0  0.0\n",
              "1     0.630435  0.224913  0.0  1.0  0.0  1.0  0.0  1.0  0.0  0.0  0.0\n",
              "2     0.739130  0.239440  0.0  1.0  0.0  1.0  0.0  0.0  0.0  1.0  0.0\n",
              "3     0.456522  0.493947  1.0  1.0  0.0  1.0  0.0  0.0  0.0  1.0  0.0\n",
              "4     0.782609  0.148238  0.6  1.0  0.0  1.0  0.0  0.0  1.0  0.0  0.0\n",
              "...        ...       ...  ...  ...  ...  ...  ...  ...  ...  ...  ...\n",
              "1065  0.000000  0.414044  0.8  1.0  0.0  1.0  0.0  1.0  0.0  0.0  0.0\n",
              "1066  0.456522  0.212806  1.0  1.0  0.0  1.0  0.0  0.0  0.0  1.0  0.0\n",
              "1067  0.869565  0.247915  0.0  0.0  1.0  1.0  0.0  1.0  0.0  0.0  0.0\n",
              "1068  0.413043  0.851224  0.4  1.0  0.0  0.0  1.0  0.0  0.0  0.0  1.0\n",
              "1069  0.804348  0.375034  0.0  0.0  1.0  1.0  0.0  0.0  0.0  0.0  1.0\n",
              "\n",
              "[1070 rows x 11 columns]"
            ],
            "text/html": [
              "\n",
              "  <div id=\"df-a431fa5a-9049-4422-b350-8971a8dab8be\">\n",
              "    <div class=\"colab-df-container\">\n",
              "      <div>\n",
              "<style scoped>\n",
              "    .dataframe tbody tr th:only-of-type {\n",
              "        vertical-align: middle;\n",
              "    }\n",
              "\n",
              "    .dataframe tbody tr th {\n",
              "        vertical-align: top;\n",
              "    }\n",
              "\n",
              "    .dataframe thead th {\n",
              "        text-align: right;\n",
              "    }\n",
              "</style>\n",
              "<table border=\"1\" class=\"dataframe\">\n",
              "  <thead>\n",
              "    <tr style=\"text-align: right;\">\n",
              "      <th></th>\n",
              "      <th>0</th>\n",
              "      <th>1</th>\n",
              "      <th>2</th>\n",
              "      <th>3</th>\n",
              "      <th>4</th>\n",
              "      <th>5</th>\n",
              "      <th>6</th>\n",
              "      <th>7</th>\n",
              "      <th>8</th>\n",
              "      <th>9</th>\n",
              "      <th>10</th>\n",
              "    </tr>\n",
              "  </thead>\n",
              "  <tbody>\n",
              "    <tr>\n",
              "      <th>0</th>\n",
              "      <td>0.608696</td>\n",
              "      <td>0.107345</td>\n",
              "      <td>0.4</td>\n",
              "      <td>1.0</td>\n",
              "      <td>0.0</td>\n",
              "      <td>1.0</td>\n",
              "      <td>0.0</td>\n",
              "      <td>0.0</td>\n",
              "      <td>1.0</td>\n",
              "      <td>0.0</td>\n",
              "      <td>0.0</td>\n",
              "    </tr>\n",
              "    <tr>\n",
              "      <th>1</th>\n",
              "      <td>0.630435</td>\n",
              "      <td>0.224913</td>\n",
              "      <td>0.0</td>\n",
              "      <td>1.0</td>\n",
              "      <td>0.0</td>\n",
              "      <td>1.0</td>\n",
              "      <td>0.0</td>\n",
              "      <td>1.0</td>\n",
              "      <td>0.0</td>\n",
              "      <td>0.0</td>\n",
              "      <td>0.0</td>\n",
              "    </tr>\n",
              "    <tr>\n",
              "      <th>2</th>\n",
              "      <td>0.739130</td>\n",
              "      <td>0.239440</td>\n",
              "      <td>0.0</td>\n",
              "      <td>1.0</td>\n",
              "      <td>0.0</td>\n",
              "      <td>1.0</td>\n",
              "      <td>0.0</td>\n",
              "      <td>0.0</td>\n",
              "      <td>0.0</td>\n",
              "      <td>1.0</td>\n",
              "      <td>0.0</td>\n",
              "    </tr>\n",
              "    <tr>\n",
              "      <th>3</th>\n",
              "      <td>0.456522</td>\n",
              "      <td>0.493947</td>\n",
              "      <td>1.0</td>\n",
              "      <td>1.0</td>\n",
              "      <td>0.0</td>\n",
              "      <td>1.0</td>\n",
              "      <td>0.0</td>\n",
              "      <td>0.0</td>\n",
              "      <td>0.0</td>\n",
              "      <td>1.0</td>\n",
              "      <td>0.0</td>\n",
              "    </tr>\n",
              "    <tr>\n",
              "      <th>4</th>\n",
              "      <td>0.782609</td>\n",
              "      <td>0.148238</td>\n",
              "      <td>0.6</td>\n",
              "      <td>1.0</td>\n",
              "      <td>0.0</td>\n",
              "      <td>1.0</td>\n",
              "      <td>0.0</td>\n",
              "      <td>0.0</td>\n",
              "      <td>1.0</td>\n",
              "      <td>0.0</td>\n",
              "      <td>0.0</td>\n",
              "    </tr>\n",
              "    <tr>\n",
              "      <th>...</th>\n",
              "      <td>...</td>\n",
              "      <td>...</td>\n",
              "      <td>...</td>\n",
              "      <td>...</td>\n",
              "      <td>...</td>\n",
              "      <td>...</td>\n",
              "      <td>...</td>\n",
              "      <td>...</td>\n",
              "      <td>...</td>\n",
              "      <td>...</td>\n",
              "      <td>...</td>\n",
              "    </tr>\n",
              "    <tr>\n",
              "      <th>1065</th>\n",
              "      <td>0.000000</td>\n",
              "      <td>0.414044</td>\n",
              "      <td>0.8</td>\n",
              "      <td>1.0</td>\n",
              "      <td>0.0</td>\n",
              "      <td>1.0</td>\n",
              "      <td>0.0</td>\n",
              "      <td>1.0</td>\n",
              "      <td>0.0</td>\n",
              "      <td>0.0</td>\n",
              "      <td>0.0</td>\n",
              "    </tr>\n",
              "    <tr>\n",
              "      <th>1066</th>\n",
              "      <td>0.456522</td>\n",
              "      <td>0.212806</td>\n",
              "      <td>1.0</td>\n",
              "      <td>1.0</td>\n",
              "      <td>0.0</td>\n",
              "      <td>1.0</td>\n",
              "      <td>0.0</td>\n",
              "      <td>0.0</td>\n",
              "      <td>0.0</td>\n",
              "      <td>1.0</td>\n",
              "      <td>0.0</td>\n",
              "    </tr>\n",
              "    <tr>\n",
              "      <th>1067</th>\n",
              "      <td>0.869565</td>\n",
              "      <td>0.247915</td>\n",
              "      <td>0.0</td>\n",
              "      <td>0.0</td>\n",
              "      <td>1.0</td>\n",
              "      <td>1.0</td>\n",
              "      <td>0.0</td>\n",
              "      <td>1.0</td>\n",
              "      <td>0.0</td>\n",
              "      <td>0.0</td>\n",
              "      <td>0.0</td>\n",
              "    </tr>\n",
              "    <tr>\n",
              "      <th>1068</th>\n",
              "      <td>0.413043</td>\n",
              "      <td>0.851224</td>\n",
              "      <td>0.4</td>\n",
              "      <td>1.0</td>\n",
              "      <td>0.0</td>\n",
              "      <td>0.0</td>\n",
              "      <td>1.0</td>\n",
              "      <td>0.0</td>\n",
              "      <td>0.0</td>\n",
              "      <td>0.0</td>\n",
              "      <td>1.0</td>\n",
              "    </tr>\n",
              "    <tr>\n",
              "      <th>1069</th>\n",
              "      <td>0.804348</td>\n",
              "      <td>0.375034</td>\n",
              "      <td>0.0</td>\n",
              "      <td>0.0</td>\n",
              "      <td>1.0</td>\n",
              "      <td>1.0</td>\n",
              "      <td>0.0</td>\n",
              "      <td>0.0</td>\n",
              "      <td>0.0</td>\n",
              "      <td>0.0</td>\n",
              "      <td>1.0</td>\n",
              "    </tr>\n",
              "  </tbody>\n",
              "</table>\n",
              "<p>1070 rows × 11 columns</p>\n",
              "</div>\n",
              "      <button class=\"colab-df-convert\" onclick=\"convertToInteractive('df-a431fa5a-9049-4422-b350-8971a8dab8be')\"\n",
              "              title=\"Convert this dataframe to an interactive table.\"\n",
              "              style=\"display:none;\">\n",
              "        \n",
              "  <svg xmlns=\"http://www.w3.org/2000/svg\" height=\"24px\"viewBox=\"0 0 24 24\"\n",
              "       width=\"24px\">\n",
              "    <path d=\"M0 0h24v24H0V0z\" fill=\"none\"/>\n",
              "    <path d=\"M18.56 5.44l.94 2.06.94-2.06 2.06-.94-2.06-.94-.94-2.06-.94 2.06-2.06.94zm-11 1L8.5 8.5l.94-2.06 2.06-.94-2.06-.94L8.5 2.5l-.94 2.06-2.06.94zm10 10l.94 2.06.94-2.06 2.06-.94-2.06-.94-.94-2.06-.94 2.06-2.06.94z\"/><path d=\"M17.41 7.96l-1.37-1.37c-.4-.4-.92-.59-1.43-.59-.52 0-1.04.2-1.43.59L10.3 9.45l-7.72 7.72c-.78.78-.78 2.05 0 2.83L4 21.41c.39.39.9.59 1.41.59.51 0 1.02-.2 1.41-.59l7.78-7.78 2.81-2.81c.8-.78.8-2.07 0-2.86zM5.41 20L4 18.59l7.72-7.72 1.47 1.35L5.41 20z\"/>\n",
              "  </svg>\n",
              "      </button>\n",
              "      \n",
              "  <style>\n",
              "    .colab-df-container {\n",
              "      display:flex;\n",
              "      flex-wrap:wrap;\n",
              "      gap: 12px;\n",
              "    }\n",
              "\n",
              "    .colab-df-convert {\n",
              "      background-color: #E8F0FE;\n",
              "      border: none;\n",
              "      border-radius: 50%;\n",
              "      cursor: pointer;\n",
              "      display: none;\n",
              "      fill: #1967D2;\n",
              "      height: 32px;\n",
              "      padding: 0 0 0 0;\n",
              "      width: 32px;\n",
              "    }\n",
              "\n",
              "    .colab-df-convert:hover {\n",
              "      background-color: #E2EBFA;\n",
              "      box-shadow: 0px 1px 2px rgba(60, 64, 67, 0.3), 0px 1px 3px 1px rgba(60, 64, 67, 0.15);\n",
              "      fill: #174EA6;\n",
              "    }\n",
              "\n",
              "    [theme=dark] .colab-df-convert {\n",
              "      background-color: #3B4455;\n",
              "      fill: #D2E3FC;\n",
              "    }\n",
              "\n",
              "    [theme=dark] .colab-df-convert:hover {\n",
              "      background-color: #434B5C;\n",
              "      box-shadow: 0px 1px 3px 1px rgba(0, 0, 0, 0.15);\n",
              "      filter: drop-shadow(0px 1px 2px rgba(0, 0, 0, 0.3));\n",
              "      fill: #FFFFFF;\n",
              "    }\n",
              "  </style>\n",
              "\n",
              "      <script>\n",
              "        const buttonEl =\n",
              "          document.querySelector('#df-a431fa5a-9049-4422-b350-8971a8dab8be button.colab-df-convert');\n",
              "        buttonEl.style.display =\n",
              "          google.colab.kernel.accessAllowed ? 'block' : 'none';\n",
              "\n",
              "        async function convertToInteractive(key) {\n",
              "          const element = document.querySelector('#df-a431fa5a-9049-4422-b350-8971a8dab8be');\n",
              "          const dataTable =\n",
              "            await google.colab.kernel.invokeFunction('convertToInteractive',\n",
              "                                                     [key], {});\n",
              "          if (!dataTable) return;\n",
              "\n",
              "          const docLinkHtml = 'Like what you see? Visit the ' +\n",
              "            '<a target=\"_blank\" href=https://colab.research.google.com/notebooks/data_table.ipynb>data table notebook</a>'\n",
              "            + ' to learn more about interactive tables.';\n",
              "          element.innerHTML = '';\n",
              "          dataTable['output_type'] = 'display_data';\n",
              "          await google.colab.output.renderOutput(dataTable, element);\n",
              "          const docLink = document.createElement('div');\n",
              "          docLink.innerHTML = docLinkHtml;\n",
              "          element.appendChild(docLink);\n",
              "        }\n",
              "      </script>\n",
              "    </div>\n",
              "  </div>\n",
              "  "
            ]
          },
          "metadata": {},
          "execution_count": 108
        }
      ]
    },
    {
      "cell_type": "code",
      "source": [
        "X_train_normal.shape, X_train.shape"
      ],
      "metadata": {
        "colab": {
          "base_uri": "https://localhost:8080/"
        },
        "id": "o5jcqaQegIl1",
        "outputId": "4175e86b-8e36-4f13-df90-13275811d4bc"
      },
      "execution_count": 105,
      "outputs": [
        {
          "output_type": "execute_result",
          "data": {
            "text/plain": [
              "((1070, 11), (1070, 6))"
            ]
          },
          "metadata": {},
          "execution_count": 105
        }
      ]
    },
    {
      "cell_type": "markdown",
      "source": [
        "# Model 8"
      ],
      "metadata": {
        "id": "CEOlg7_6gIqj"
      }
    },
    {
      "cell_type": "code",
      "source": [
        "# Set random seed\n",
        "tf.random.set_seed(42)\n",
        "\n",
        "# Build model\n",
        "model_8 = tf.keras.Sequential([\n",
        "  tf.keras.layers.Dense(100),\n",
        "  tf.keras.layers.Dense(10),\n",
        "  tf.keras.layers.Dense(1)\n",
        "])\n",
        "\n",
        "\n",
        "# Compile the model\n",
        "model_8.compile(loss=tf.keras.losses.mae,\n",
        "                optimizer=tf.keras.optimizers.Adam(),\n",
        "                metrics=[\"mae\"])\n",
        "\n",
        "\n",
        "# Fit \n",
        "history_8 = model_8.fit(X_train_normal, y_train, epochs=200, verbose=1)"
      ],
      "metadata": {
        "colab": {
          "base_uri": "https://localhost:8080/"
        },
        "id": "n_yuzyiFgatQ",
        "outputId": "ac946013-cfa8-424d-dec0-9da2e53ad624"
      },
      "execution_count": 114,
      "outputs": [
        {
          "output_type": "stream",
          "name": "stdout",
          "text": [
            "Epoch 1/200\n",
            "34/34 [==============================] - 2s 5ms/step - loss: 13342.6494 - mae: 13342.6494\n",
            "Epoch 2/200\n",
            "34/34 [==============================] - 0s 4ms/step - loss: 13333.4785 - mae: 13333.4785\n",
            "Epoch 3/200\n",
            "34/34 [==============================] - 0s 4ms/step - loss: 13312.0234 - mae: 13312.0234\n",
            "Epoch 4/200\n",
            "34/34 [==============================] - 0s 6ms/step - loss: 13267.7930 - mae: 13267.7930\n",
            "Epoch 5/200\n",
            "34/34 [==============================] - 0s 4ms/step - loss: 13189.5830 - mae: 13189.5830\n",
            "Epoch 6/200\n",
            "34/34 [==============================] - 0s 6ms/step - loss: 13066.4502 - mae: 13066.4502\n",
            "Epoch 7/200\n",
            "34/34 [==============================] - 0s 5ms/step - loss: 12888.1953 - mae: 12888.1953\n",
            "Epoch 8/200\n",
            "34/34 [==============================] - 0s 6ms/step - loss: 12644.6523 - mae: 12644.6523\n",
            "Epoch 9/200\n",
            "34/34 [==============================] - 0s 6ms/step - loss: 12325.5469 - mae: 12325.5469\n",
            "Epoch 10/200\n",
            "34/34 [==============================] - 0s 7ms/step - loss: 11925.9658 - mae: 11925.9658\n",
            "Epoch 11/200\n",
            "34/34 [==============================] - 0s 6ms/step - loss: 11454.3350 - mae: 11454.3350\n",
            "Epoch 12/200\n",
            "34/34 [==============================] - 0s 6ms/step - loss: 10949.8076 - mae: 10949.8076\n",
            "Epoch 13/200\n",
            "34/34 [==============================] - 0s 4ms/step - loss: 10448.9404 - mae: 10448.9404\n",
            "Epoch 14/200\n",
            "34/34 [==============================] - 0s 5ms/step - loss: 9951.6250 - mae: 9951.6250\n",
            "Epoch 15/200\n",
            "34/34 [==============================] - 0s 6ms/step - loss: 9482.7422 - mae: 9482.7422\n",
            "Epoch 16/200\n",
            "34/34 [==============================] - 0s 4ms/step - loss: 9066.7461 - mae: 9066.7461\n",
            "Epoch 17/200\n",
            "34/34 [==============================] - 0s 4ms/step - loss: 8721.9854 - mae: 8721.9854\n",
            "Epoch 18/200\n",
            "34/34 [==============================] - 0s 4ms/step - loss: 8441.2002 - mae: 8441.2002\n",
            "Epoch 19/200\n",
            "34/34 [==============================] - 0s 4ms/step - loss: 8227.5117 - mae: 8227.5117\n",
            "Epoch 20/200\n",
            "34/34 [==============================] - 0s 6ms/step - loss: 8081.9775 - mae: 8081.9775\n",
            "Epoch 21/200\n",
            "34/34 [==============================] - 0s 4ms/step - loss: 7973.8945 - mae: 7973.8945\n",
            "Epoch 22/200\n",
            "34/34 [==============================] - 0s 4ms/step - loss: 7899.1597 - mae: 7899.1597\n",
            "Epoch 23/200\n",
            "34/34 [==============================] - 0s 3ms/step - loss: 7840.3906 - mae: 7840.3906\n",
            "Epoch 24/200\n",
            "34/34 [==============================] - 0s 5ms/step - loss: 7787.9619 - mae: 7787.9619\n",
            "Epoch 25/200\n",
            "34/34 [==============================] - 0s 5ms/step - loss: 7749.2622 - mae: 7749.2622\n",
            "Epoch 26/200\n",
            "34/34 [==============================] - 0s 4ms/step - loss: 7697.9595 - mae: 7697.9595\n",
            "Epoch 27/200\n",
            "34/34 [==============================] - 0s 4ms/step - loss: 7656.0273 - mae: 7656.0273\n",
            "Epoch 28/200\n",
            "34/34 [==============================] - 0s 3ms/step - loss: 7613.4771 - mae: 7613.4771\n",
            "Epoch 29/200\n",
            "34/34 [==============================] - 0s 2ms/step - loss: 7570.9482 - mae: 7570.9482\n",
            "Epoch 30/200\n",
            "34/34 [==============================] - 0s 2ms/step - loss: 7527.4175 - mae: 7527.4175\n",
            "Epoch 31/200\n",
            "34/34 [==============================] - 0s 2ms/step - loss: 7483.5947 - mae: 7483.5947\n",
            "Epoch 32/200\n",
            "34/34 [==============================] - 0s 2ms/step - loss: 7439.4424 - mae: 7439.4424\n",
            "Epoch 33/200\n",
            "34/34 [==============================] - 0s 2ms/step - loss: 7395.0552 - mae: 7395.0552\n",
            "Epoch 34/200\n",
            "34/34 [==============================] - 0s 2ms/step - loss: 7346.8120 - mae: 7346.8120\n",
            "Epoch 35/200\n",
            "34/34 [==============================] - 0s 2ms/step - loss: 7300.0488 - mae: 7300.0488\n",
            "Epoch 36/200\n",
            "34/34 [==============================] - 0s 2ms/step - loss: 7249.8452 - mae: 7249.8452\n",
            "Epoch 37/200\n",
            "34/34 [==============================] - 0s 2ms/step - loss: 7199.5308 - mae: 7199.5308\n",
            "Epoch 38/200\n",
            "34/34 [==============================] - 0s 3ms/step - loss: 7148.4814 - mae: 7148.4814\n",
            "Epoch 39/200\n",
            "34/34 [==============================] - 0s 2ms/step - loss: 7093.6660 - mae: 7093.6660\n",
            "Epoch 40/200\n",
            "34/34 [==============================] - 0s 2ms/step - loss: 7038.1797 - mae: 7038.1797\n",
            "Epoch 41/200\n",
            "34/34 [==============================] - 0s 2ms/step - loss: 6981.7393 - mae: 6981.7393\n",
            "Epoch 42/200\n",
            "34/34 [==============================] - 0s 2ms/step - loss: 6922.7847 - mae: 6922.7847\n",
            "Epoch 43/200\n",
            "34/34 [==============================] - 0s 2ms/step - loss: 6860.1724 - mae: 6860.1724\n",
            "Epoch 44/200\n",
            "34/34 [==============================] - 0s 2ms/step - loss: 6793.7979 - mae: 6793.7979\n",
            "Epoch 45/200\n",
            "34/34 [==============================] - 0s 2ms/step - loss: 6726.6201 - mae: 6726.6201\n",
            "Epoch 46/200\n",
            "34/34 [==============================] - 0s 2ms/step - loss: 6657.4683 - mae: 6657.4683\n",
            "Epoch 47/200\n",
            "34/34 [==============================] - 0s 2ms/step - loss: 6586.3086 - mae: 6586.3086\n",
            "Epoch 48/200\n",
            "34/34 [==============================] - 0s 2ms/step - loss: 6507.5063 - mae: 6507.5063\n",
            "Epoch 49/200\n",
            "34/34 [==============================] - 0s 2ms/step - loss: 6428.6021 - mae: 6428.6021\n",
            "Epoch 50/200\n",
            "34/34 [==============================] - 0s 3ms/step - loss: 6342.7100 - mae: 6342.7100\n",
            "Epoch 51/200\n",
            "34/34 [==============================] - 0s 2ms/step - loss: 6258.0718 - mae: 6258.0718\n",
            "Epoch 52/200\n",
            "34/34 [==============================] - 0s 2ms/step - loss: 6164.7046 - mae: 6164.7046\n",
            "Epoch 53/200\n",
            "34/34 [==============================] - 0s 2ms/step - loss: 6068.6748 - mae: 6068.6748\n",
            "Epoch 54/200\n",
            "34/34 [==============================] - 0s 2ms/step - loss: 5970.0981 - mae: 5970.0981\n",
            "Epoch 55/200\n",
            "34/34 [==============================] - 0s 2ms/step - loss: 5862.5625 - mae: 5862.5625\n",
            "Epoch 56/200\n",
            "34/34 [==============================] - 0s 2ms/step - loss: 5753.9526 - mae: 5753.9526\n",
            "Epoch 57/200\n",
            "34/34 [==============================] - 0s 2ms/step - loss: 5638.0947 - mae: 5638.0947\n",
            "Epoch 58/200\n",
            "34/34 [==============================] - 0s 2ms/step - loss: 5519.8687 - mae: 5519.8687\n",
            "Epoch 59/200\n",
            "34/34 [==============================] - 0s 2ms/step - loss: 5401.3198 - mae: 5401.3198\n",
            "Epoch 60/200\n",
            "34/34 [==============================] - 0s 2ms/step - loss: 5277.3501 - mae: 5277.3501\n",
            "Epoch 61/200\n",
            "34/34 [==============================] - 0s 2ms/step - loss: 5149.7637 - mae: 5149.7637\n",
            "Epoch 62/200\n",
            "34/34 [==============================] - 0s 2ms/step - loss: 5019.3535 - mae: 5019.3535\n",
            "Epoch 63/200\n",
            "34/34 [==============================] - 0s 2ms/step - loss: 4889.6865 - mae: 4889.6865\n",
            "Epoch 64/200\n",
            "34/34 [==============================] - 0s 2ms/step - loss: 4756.8560 - mae: 4756.8560\n",
            "Epoch 65/200\n",
            "34/34 [==============================] - 0s 2ms/step - loss: 4629.4370 - mae: 4629.4370\n",
            "Epoch 66/200\n",
            "34/34 [==============================] - 0s 2ms/step - loss: 4503.5991 - mae: 4503.5991\n",
            "Epoch 67/200\n",
            "34/34 [==============================] - 0s 2ms/step - loss: 4392.9922 - mae: 4392.9922\n",
            "Epoch 68/200\n",
            "34/34 [==============================] - 0s 2ms/step - loss: 4284.3862 - mae: 4284.3862\n",
            "Epoch 69/200\n",
            "34/34 [==============================] - 0s 3ms/step - loss: 4182.6182 - mae: 4182.6182\n",
            "Epoch 70/200\n",
            "34/34 [==============================] - 0s 4ms/step - loss: 4089.5725 - mae: 4089.5725\n",
            "Epoch 71/200\n",
            "34/34 [==============================] - 0s 4ms/step - loss: 4003.3901 - mae: 4003.3901\n",
            "Epoch 72/200\n",
            "34/34 [==============================] - 0s 5ms/step - loss: 3929.0093 - mae: 3929.0093\n",
            "Epoch 73/200\n",
            "34/34 [==============================] - 0s 4ms/step - loss: 3866.3110 - mae: 3866.3110\n",
            "Epoch 74/200\n",
            "34/34 [==============================] - 0s 4ms/step - loss: 3813.7144 - mae: 3813.7144\n",
            "Epoch 75/200\n",
            "34/34 [==============================] - 0s 4ms/step - loss: 3773.0317 - mae: 3773.0317\n",
            "Epoch 76/200\n",
            "34/34 [==============================] - 0s 4ms/step - loss: 3744.1995 - mae: 3744.1995\n",
            "Epoch 77/200\n",
            "34/34 [==============================] - 0s 4ms/step - loss: 3719.6870 - mae: 3719.6870\n",
            "Epoch 78/200\n",
            "34/34 [==============================] - 0s 4ms/step - loss: 3702.9109 - mae: 3702.9109\n",
            "Epoch 79/200\n",
            "34/34 [==============================] - 0s 4ms/step - loss: 3691.8792 - mae: 3691.8792\n",
            "Epoch 80/200\n",
            "34/34 [==============================] - 0s 3ms/step - loss: 3682.8350 - mae: 3682.8350\n",
            "Epoch 81/200\n",
            "34/34 [==============================] - 0s 4ms/step - loss: 3676.9763 - mae: 3676.9763\n",
            "Epoch 82/200\n",
            "34/34 [==============================] - 0s 4ms/step - loss: 3673.9495 - mae: 3673.9495\n",
            "Epoch 83/200\n",
            "34/34 [==============================] - 0s 5ms/step - loss: 3667.8452 - mae: 3667.8452\n",
            "Epoch 84/200\n",
            "34/34 [==============================] - 0s 5ms/step - loss: 3664.5757 - mae: 3664.5757\n",
            "Epoch 85/200\n",
            "34/34 [==============================] - 0s 5ms/step - loss: 3661.8562 - mae: 3661.8562\n",
            "Epoch 86/200\n",
            "34/34 [==============================] - 0s 4ms/step - loss: 3660.3049 - mae: 3660.3049\n",
            "Epoch 87/200\n",
            "34/34 [==============================] - 0s 4ms/step - loss: 3657.5134 - mae: 3657.5134\n",
            "Epoch 88/200\n",
            "34/34 [==============================] - 0s 4ms/step - loss: 3655.2200 - mae: 3655.2200\n",
            "Epoch 89/200\n",
            "34/34 [==============================] - 0s 4ms/step - loss: 3653.8831 - mae: 3653.8831\n",
            "Epoch 90/200\n",
            "34/34 [==============================] - 0s 4ms/step - loss: 3652.0195 - mae: 3652.0195\n",
            "Epoch 91/200\n",
            "34/34 [==============================] - 0s 4ms/step - loss: 3648.9990 - mae: 3648.9990\n",
            "Epoch 92/200\n",
            "34/34 [==============================] - 0s 4ms/step - loss: 3648.4463 - mae: 3648.4463\n",
            "Epoch 93/200\n",
            "34/34 [==============================] - 0s 4ms/step - loss: 3646.2297 - mae: 3646.2297\n",
            "Epoch 94/200\n",
            "34/34 [==============================] - 0s 4ms/step - loss: 3644.4377 - mae: 3644.4377\n",
            "Epoch 95/200\n",
            "34/34 [==============================] - 0s 4ms/step - loss: 3645.8772 - mae: 3645.8772\n",
            "Epoch 96/200\n",
            "34/34 [==============================] - 0s 4ms/step - loss: 3642.2573 - mae: 3642.2573\n",
            "Epoch 97/200\n",
            "34/34 [==============================] - 0s 4ms/step - loss: 3640.1187 - mae: 3640.1187\n",
            "Epoch 98/200\n",
            "34/34 [==============================] - 0s 4ms/step - loss: 3638.0647 - mae: 3638.0647\n",
            "Epoch 99/200\n",
            "34/34 [==============================] - 0s 4ms/step - loss: 3637.2053 - mae: 3637.2053\n",
            "Epoch 100/200\n",
            "34/34 [==============================] - 0s 4ms/step - loss: 3636.1707 - mae: 3636.1707\n",
            "Epoch 101/200\n",
            "34/34 [==============================] - 0s 11ms/step - loss: 3633.0803 - mae: 3633.0803\n",
            "Epoch 102/200\n",
            "34/34 [==============================] - 0s 10ms/step - loss: 3630.6155 - mae: 3630.6155\n",
            "Epoch 103/200\n",
            "34/34 [==============================] - 0s 10ms/step - loss: 3629.4304 - mae: 3629.4304\n",
            "Epoch 104/200\n",
            "34/34 [==============================] - 0s 7ms/step - loss: 3627.0293 - mae: 3627.0293\n",
            "Epoch 105/200\n",
            "34/34 [==============================] - 0s 10ms/step - loss: 3625.3789 - mae: 3625.3789\n",
            "Epoch 106/200\n",
            "34/34 [==============================] - 0s 8ms/step - loss: 3624.1892 - mae: 3624.1892\n",
            "Epoch 107/200\n",
            "34/34 [==============================] - 0s 3ms/step - loss: 3623.4670 - mae: 3623.4670\n",
            "Epoch 108/200\n",
            "34/34 [==============================] - 0s 2ms/step - loss: 3621.1238 - mae: 3621.1238\n",
            "Epoch 109/200\n",
            "34/34 [==============================] - 0s 2ms/step - loss: 3621.1895 - mae: 3621.1895\n",
            "Epoch 110/200\n",
            "34/34 [==============================] - 0s 2ms/step - loss: 3618.2805 - mae: 3618.2805\n",
            "Epoch 111/200\n",
            "34/34 [==============================] - 0s 2ms/step - loss: 3615.2793 - mae: 3615.2793\n",
            "Epoch 112/200\n",
            "34/34 [==============================] - 0s 2ms/step - loss: 3613.2454 - mae: 3613.2454\n",
            "Epoch 113/200\n",
            "34/34 [==============================] - 0s 2ms/step - loss: 3611.9092 - mae: 3611.9092\n",
            "Epoch 114/200\n",
            "34/34 [==============================] - 0s 2ms/step - loss: 3610.8164 - mae: 3610.8164\n",
            "Epoch 115/200\n",
            "34/34 [==============================] - 0s 2ms/step - loss: 3609.1033 - mae: 3609.1033\n",
            "Epoch 116/200\n",
            "34/34 [==============================] - 0s 2ms/step - loss: 3607.6523 - mae: 3607.6523\n",
            "Epoch 117/200\n",
            "34/34 [==============================] - 0s 2ms/step - loss: 3604.7559 - mae: 3604.7559\n",
            "Epoch 118/200\n",
            "34/34 [==============================] - 0s 2ms/step - loss: 3600.8135 - mae: 3600.8135\n",
            "Epoch 119/200\n",
            "34/34 [==============================] - 0s 2ms/step - loss: 3602.6384 - mae: 3602.6384\n",
            "Epoch 120/200\n",
            "34/34 [==============================] - 0s 2ms/step - loss: 3600.3203 - mae: 3600.3203\n",
            "Epoch 121/200\n",
            "34/34 [==============================] - 0s 2ms/step - loss: 3595.2522 - mae: 3595.2522\n",
            "Epoch 122/200\n",
            "34/34 [==============================] - 0s 2ms/step - loss: 3594.6335 - mae: 3594.6335\n",
            "Epoch 123/200\n",
            "34/34 [==============================] - 0s 2ms/step - loss: 3592.6138 - mae: 3592.6138\n",
            "Epoch 124/200\n",
            "34/34 [==============================] - 0s 2ms/step - loss: 3590.3994 - mae: 3590.3994\n",
            "Epoch 125/200\n",
            "34/34 [==============================] - 0s 2ms/step - loss: 3588.4041 - mae: 3588.4041\n",
            "Epoch 126/200\n",
            "34/34 [==============================] - 0s 3ms/step - loss: 3587.5061 - mae: 3587.5061\n",
            "Epoch 127/200\n",
            "34/34 [==============================] - 0s 3ms/step - loss: 3588.0417 - mae: 3588.0417\n",
            "Epoch 128/200\n",
            "34/34 [==============================] - 0s 3ms/step - loss: 3584.1003 - mae: 3584.1003\n",
            "Epoch 129/200\n",
            "34/34 [==============================] - 0s 2ms/step - loss: 3582.7317 - mae: 3582.7317\n",
            "Epoch 130/200\n",
            "34/34 [==============================] - 0s 3ms/step - loss: 3579.1135 - mae: 3579.1135\n",
            "Epoch 131/200\n",
            "34/34 [==============================] - 0s 3ms/step - loss: 3577.7141 - mae: 3577.7141\n",
            "Epoch 132/200\n",
            "34/34 [==============================] - 0s 2ms/step - loss: 3574.9951 - mae: 3574.9951\n",
            "Epoch 133/200\n",
            "34/34 [==============================] - 0s 4ms/step - loss: 3573.2952 - mae: 3573.2952\n",
            "Epoch 134/200\n",
            "34/34 [==============================] - 0s 2ms/step - loss: 3571.3867 - mae: 3571.3867\n",
            "Epoch 135/200\n",
            "34/34 [==============================] - 0s 2ms/step - loss: 3569.3606 - mae: 3569.3606\n",
            "Epoch 136/200\n",
            "34/34 [==============================] - 0s 3ms/step - loss: 3568.0547 - mae: 3568.0547\n",
            "Epoch 137/200\n",
            "34/34 [==============================] - 0s 5ms/step - loss: 3566.1060 - mae: 3566.1060\n",
            "Epoch 138/200\n",
            "34/34 [==============================] - 0s 4ms/step - loss: 3563.9617 - mae: 3563.9617\n",
            "Epoch 139/200\n",
            "34/34 [==============================] - 0s 4ms/step - loss: 3563.3350 - mae: 3563.3350\n",
            "Epoch 140/200\n",
            "34/34 [==============================] - 0s 4ms/step - loss: 3561.2300 - mae: 3561.2300\n",
            "Epoch 141/200\n",
            "34/34 [==============================] - 0s 4ms/step - loss: 3561.1250 - mae: 3561.1250\n",
            "Epoch 142/200\n",
            "34/34 [==============================] - 0s 5ms/step - loss: 3558.0391 - mae: 3558.0391\n",
            "Epoch 143/200\n",
            "34/34 [==============================] - 0s 4ms/step - loss: 3558.0339 - mae: 3558.0339\n",
            "Epoch 144/200\n",
            "34/34 [==============================] - 0s 4ms/step - loss: 3555.1953 - mae: 3555.1953\n",
            "Epoch 145/200\n",
            "34/34 [==============================] - 0s 3ms/step - loss: 3553.2444 - mae: 3553.2444\n",
            "Epoch 146/200\n",
            "34/34 [==============================] - 0s 4ms/step - loss: 3553.4751 - mae: 3553.4751\n",
            "Epoch 147/200\n",
            "34/34 [==============================] - 0s 6ms/step - loss: 3551.0723 - mae: 3551.0723\n",
            "Epoch 148/200\n",
            "34/34 [==============================] - 0s 4ms/step - loss: 3549.7551 - mae: 3549.7551\n",
            "Epoch 149/200\n",
            "34/34 [==============================] - 0s 4ms/step - loss: 3547.0066 - mae: 3547.0066\n",
            "Epoch 150/200\n",
            "34/34 [==============================] - 0s 5ms/step - loss: 3546.9910 - mae: 3546.9910\n",
            "Epoch 151/200\n",
            "34/34 [==============================] - 0s 4ms/step - loss: 3545.1938 - mae: 3545.1938\n",
            "Epoch 152/200\n",
            "34/34 [==============================] - 0s 5ms/step - loss: 3543.3823 - mae: 3543.3823\n",
            "Epoch 153/200\n",
            "34/34 [==============================] - 0s 5ms/step - loss: 3541.9121 - mae: 3541.9121\n",
            "Epoch 154/200\n",
            "34/34 [==============================] - 0s 4ms/step - loss: 3543.1577 - mae: 3543.1577\n",
            "Epoch 155/200\n",
            "34/34 [==============================] - 0s 6ms/step - loss: 3540.6169 - mae: 3540.6169\n",
            "Epoch 156/200\n",
            "34/34 [==============================] - 0s 5ms/step - loss: 3538.9236 - mae: 3538.9236\n",
            "Epoch 157/200\n",
            "34/34 [==============================] - 0s 4ms/step - loss: 3537.4109 - mae: 3537.4109\n",
            "Epoch 158/200\n",
            "34/34 [==============================] - 0s 4ms/step - loss: 3534.4917 - mae: 3534.4917\n",
            "Epoch 159/200\n",
            "34/34 [==============================] - 0s 4ms/step - loss: 3532.9485 - mae: 3532.9485\n",
            "Epoch 160/200\n",
            "34/34 [==============================] - 0s 4ms/step - loss: 3532.6985 - mae: 3532.6985\n",
            "Epoch 161/200\n",
            "34/34 [==============================] - 0s 4ms/step - loss: 3529.6243 - mae: 3529.6243\n",
            "Epoch 162/200\n",
            "34/34 [==============================] - 0s 5ms/step - loss: 3529.0967 - mae: 3529.0967\n",
            "Epoch 163/200\n",
            "34/34 [==============================] - 0s 3ms/step - loss: 3527.5430 - mae: 3527.5430\n",
            "Epoch 164/200\n",
            "34/34 [==============================] - 0s 4ms/step - loss: 3526.2842 - mae: 3526.2842\n",
            "Epoch 165/200\n",
            "34/34 [==============================] - 0s 4ms/step - loss: 3524.1592 - mae: 3524.1592\n",
            "Epoch 166/200\n",
            "34/34 [==============================] - 0s 4ms/step - loss: 3522.7070 - mae: 3522.7070\n",
            "Epoch 167/200\n",
            "34/34 [==============================] - 0s 5ms/step - loss: 3521.8069 - mae: 3521.8069\n",
            "Epoch 168/200\n",
            "34/34 [==============================] - 0s 4ms/step - loss: 3520.5659 - mae: 3520.5659\n",
            "Epoch 169/200\n",
            "34/34 [==============================] - 0s 2ms/step - loss: 3519.4631 - mae: 3519.4631\n",
            "Epoch 170/200\n",
            "34/34 [==============================] - 0s 5ms/step - loss: 3518.0564 - mae: 3518.0564\n",
            "Epoch 171/200\n",
            "34/34 [==============================] - 0s 6ms/step - loss: 3517.6172 - mae: 3517.6172\n",
            "Epoch 172/200\n",
            "34/34 [==============================] - 0s 5ms/step - loss: 3516.0525 - mae: 3516.0525\n",
            "Epoch 173/200\n",
            "34/34 [==============================] - 0s 3ms/step - loss: 3514.9307 - mae: 3514.9307\n",
            "Epoch 174/200\n",
            "34/34 [==============================] - 0s 4ms/step - loss: 3513.6685 - mae: 3513.6685\n",
            "Epoch 175/200\n",
            "34/34 [==============================] - 0s 5ms/step - loss: 3512.3582 - mae: 3512.3582\n",
            "Epoch 176/200\n",
            "34/34 [==============================] - 0s 4ms/step - loss: 3512.1816 - mae: 3512.1816\n",
            "Epoch 177/200\n",
            "34/34 [==============================] - 0s 4ms/step - loss: 3512.5046 - mae: 3512.5046\n",
            "Epoch 178/200\n",
            "34/34 [==============================] - 0s 5ms/step - loss: 3510.2725 - mae: 3510.2725\n",
            "Epoch 179/200\n",
            "34/34 [==============================] - 0s 4ms/step - loss: 3512.1841 - mae: 3512.1841\n",
            "Epoch 180/200\n",
            "34/34 [==============================] - 0s 4ms/step - loss: 3507.1208 - mae: 3507.1208\n",
            "Epoch 181/200\n",
            "34/34 [==============================] - 0s 3ms/step - loss: 3505.0276 - mae: 3505.0276\n",
            "Epoch 182/200\n",
            "34/34 [==============================] - 0s 5ms/step - loss: 3504.4312 - mae: 3504.4312\n",
            "Epoch 183/200\n",
            "34/34 [==============================] - 0s 4ms/step - loss: 3502.5481 - mae: 3502.5481\n",
            "Epoch 184/200\n",
            "34/34 [==============================] - 0s 4ms/step - loss: 3501.8337 - mae: 3501.8337\n",
            "Epoch 185/200\n",
            "34/34 [==============================] - 0s 3ms/step - loss: 3501.4788 - mae: 3501.4788\n",
            "Epoch 186/200\n",
            "34/34 [==============================] - 0s 4ms/step - loss: 3498.9014 - mae: 3498.9014\n",
            "Epoch 187/200\n",
            "34/34 [==============================] - 0s 4ms/step - loss: 3499.2842 - mae: 3499.2842\n",
            "Epoch 188/200\n",
            "34/34 [==============================] - 0s 4ms/step - loss: 3496.6895 - mae: 3496.6895\n",
            "Epoch 189/200\n",
            "34/34 [==============================] - 0s 6ms/step - loss: 3495.1074 - mae: 3495.1074\n",
            "Epoch 190/200\n",
            "34/34 [==============================] - 0s 3ms/step - loss: 3496.6013 - mae: 3496.6013\n",
            "Epoch 191/200\n",
            "34/34 [==============================] - 0s 4ms/step - loss: 3502.1326 - mae: 3502.1326\n",
            "Epoch 192/200\n",
            "34/34 [==============================] - 0s 4ms/step - loss: 3491.8506 - mae: 3491.8506\n",
            "Epoch 193/200\n",
            "34/34 [==============================] - 0s 4ms/step - loss: 3491.6602 - mae: 3491.6602\n",
            "Epoch 194/200\n",
            "34/34 [==============================] - 0s 4ms/step - loss: 3488.8262 - mae: 3488.8262\n",
            "Epoch 195/200\n",
            "34/34 [==============================] - 0s 4ms/step - loss: 3488.7261 - mae: 3488.7261\n",
            "Epoch 196/200\n",
            "34/34 [==============================] - 0s 5ms/step - loss: 3489.5095 - mae: 3489.5095\n",
            "Epoch 197/200\n",
            "34/34 [==============================] - 0s 4ms/step - loss: 3485.7686 - mae: 3485.7686\n",
            "Epoch 198/200\n",
            "34/34 [==============================] - 0s 4ms/step - loss: 3484.7119 - mae: 3484.7119\n",
            "Epoch 199/200\n",
            "34/34 [==============================] - 0s 4ms/step - loss: 3483.4468 - mae: 3483.4468\n",
            "Epoch 200/200\n",
            "34/34 [==============================] - 0s 4ms/step - loss: 3484.3950 - mae: 3484.3950\n"
          ]
        }
      ]
    },
    {
      "cell_type": "code",
      "source": [
        "model_8.evaluate(X_test_normal, y_test)"
      ],
      "metadata": {
        "colab": {
          "base_uri": "https://localhost:8080/"
        },
        "id": "vT9Br0PXgaxB",
        "outputId": "bdcb492b-b65a-4c3e-8d18-5e12172b5009"
      },
      "execution_count": 115,
      "outputs": [
        {
          "output_type": "stream",
          "name": "stdout",
          "text": [
            "9/9 [==============================] - 0s 3ms/step - loss: 3171.5771 - mae: 3171.5771\n"
          ]
        },
        {
          "output_type": "execute_result",
          "data": {
            "text/plain": [
              "[3171.5771484375, 3171.5771484375]"
            ]
          },
          "metadata": {},
          "execution_count": 115
        }
      ]
    },
    {
      "cell_type": "code",
      "source": [
        "model_8.predict([])"
      ],
      "metadata": {
        "id": "fmCbvQsvgaz3"
      },
      "execution_count": null,
      "outputs": []
    },
    {
      "cell_type": "code",
      "source": [
        ""
      ],
      "metadata": {
        "id": "YQTiuo2NiHqa"
      },
      "execution_count": null,
      "outputs": []
    },
    {
      "cell_type": "code",
      "source": [
        ""
      ],
      "metadata": {
        "id": "pUGzq2dAiHuJ"
      },
      "execution_count": null,
      "outputs": []
    },
    {
      "cell_type": "code",
      "source": [
        ""
      ],
      "metadata": {
        "id": "9jozESEBiHwn"
      },
      "execution_count": null,
      "outputs": []
    }
  ]
}